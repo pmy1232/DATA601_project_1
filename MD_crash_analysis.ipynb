{
 "cells": [
  {
   "cell_type": "markdown",
   "metadata": {
    "id": "Nt2eGmdOKCmL"
   },
   "source": [
    "## DATA 601 Project-1\n",
    "### Deadline: November 18, 2024, 23:59pm"
   ]
  },
  {
   "cell_type": "markdown",
   "metadata": {},
   "source": [
    "## Project Instructions\n",
    "___"
   ]
  },
  {
   "cell_type": "markdown",
   "metadata": {},
   "source": [
    "### Instructions\n",
    "The input_data folder has various csv files related to MD crash data, weather data, total drivers by state and state names.\n",
    "\n",
    "- MD_Crash_report files are vehicle crash report data obtained from for https://opendata.maryland.gov. These include four data tables on accident crash reports, driver (person) data, emergency medical services (EMS) data, and vehicle data. All tables have a common ID feature called \"Report Number\". The data includes the following years and quarters:\n",
    "    - [CY2017Q1](https://opendata.maryland.gov/Public-Safety/Maryland-Statewide-Vehicle-Crashes-CY2017-Quarter-/9886-wded) \n",
    "    - [CY2017Q2](https://opendata.maryland.gov/Public-Safety/Maryland-Statewide-Vehicle-Crashes-CY2017-Quarter-/wnvu-hisq)\n",
    "    - [CY2017Q3](https://opendata.maryland.gov/Public-Safety/Maryland-Statewide-Vehicle-Crashes-CY2017-Quarter-/m6zc-qj6d)\n",
    "    - [CY2017Q4](https://opendata.maryland.gov/Public-Safety/Maryland-Statewide-Vehicle-Crashes-CY2017-Quarter-/9tum-d4as)\n",
    "- States_drivers.csv includes data on total drivers by state.\n",
    "- States.json includes the state name and abbreviations in case it is needed.\n",
    "\n",
    "Other documentation:\n",
    "- Sample __State of Maryland Vehicle Accident Report__ is included in the file \"maryland_accident_report.pdf\" (source: https://www.nhtsa.gov/sites/nhtsa.gov/files/documents/maryland_0.pdf). This report has several codes that can be used to explain codes in the data.\n",
    "- The __Maryland Cross Reference Document__ is included in the file \"maryland_cross_reference_document.pdf\" (source: https://www.nhtsa.gov/sites/nhtsa.gov/files/documents/maryland_cross_reference.pdf). This document may also provide some more details in the codes in the data.\n",
    "- The __maryland county codes__ is included in the file \"MD_County_Codes.pdf\" (source: https://mde.maryland.gov/programs/Land/Documents/LeadFactSheets/LeadfsCountyCodes.pdf)\n",
    "\n",
    "<br>\n",
    "Document any assumptions that you do as part of a comment or a markdown cell were appropriate. Note that you may change the format of the project as long as the questions are answered."
   ]
  },
  {
   "cell_type": "markdown",
   "metadata": {
    "id": "2Cm77Wu6KCmN"
   },
   "source": [
    "# Project 1 Questions\n",
    "\n",
    "### Question 1 (15 points)\n",
    "\n",
    "Review the questions below to familiarize yourself with the task. After reviewing the questions review the data files of the MD_Crash_Reports of the project and determine if it is worth merging/concatenation/joining and document your reasoning on merging or not merging the crash datafiles that will be used. Question 1 and 2 may be combined for purposes of organizing the Project 1 Jupyter Notebook."
   ]
  },
  {
   "cell_type": "markdown",
   "metadata": {},
   "source": [
    "### Question 2 (15 points)\n",
    "Use the .info(), .describe(), .hist() and sns.pairplot() functions to explore the data. Comment on any observations and identify any features that may be worth plotting and evaluating in more detail. (Note that the last question requires to develop a visualization)."
   ]
  },
  {
   "cell_type": "markdown",
   "metadata": {},
   "source": [
    "### Question 3 (15 points)\n",
    "Clean the data as you seem necessary. For example, evaluate remove null or duplicate values. Note there may be features where it may be appropriate to have values that are null or duplicated values. Document your reasoning."
   ]
  },
  {
   "cell_type": "markdown",
   "metadata": {
    "id": "7akHII8bKCmO"
   },
   "source": [
    "### Question 4 (15 points)\n",
    "a. For each county, determine the average speed of accidents involving bicyclists. (Note: Take a look at the Sample Maryland Crash Report. Report provides a map of the codes including those involving other bicyclists.) <br>\n",
    "b. Sort the list the sorted by average speed."
   ]
  },
  {
   "cell_type": "markdown",
   "metadata": {
    "id": "Yh9NLokhKCmO"
   },
   "source": [
    "### Question 5 (15 points)\n",
    "a. Determine the total number of crashes per \"vehicle make\". Sort the results in alphabetical order by vehicle make (e.g. Chevrolet, Ford, Honda, etc.). <br>\n",
    "b. Determine average age of the car involved in these accidents for each \"vehicle make\"."
   ]
  },
  {
   "cell_type": "markdown",
   "metadata": {
    "id": "33AowxTGKCmP"
   },
   "source": [
    "### Question 6 (15 points)\n",
    "a. Determine all the accidents that happened in a circle centered at (39.197753, -77.263303) with a radius of 5 km.<br>\n",
    "b. Determine the number of accidents where the speed limit was above 51 miles per hour within the 5 km circle. <br>\n",
    "c. Determine the number of accidents where the speed limit was below 41 miles per hour within the 5 km circle.  <br>\n",
    "<br>\n",
    "Hint: Please see the \"P1_Helper_Distance_From_Coordinates.ipynb\" that can be found in the Project1 folder."
   ]
  },
  {
   "cell_type": "markdown",
   "metadata": {
    "id": "jb7JLx1YKCmP"
   },
   "source": [
    "### Question 7 (15 points)\n",
    "\n",
    "Determine the number of drivers, who got in a car crash, from non-DMV states and list them by total drivers, female and male. Consollidate the final values in one dataframe. <br>\n",
    "`St | Drivers | Female | Male ` <br>\n",
    "`NY | 151034  | 101000 | 50034` <br>\n",
    "`PA | 125131  | 105000 | 20131` <br>\n",
    "...\n",
    "\n",
    "\n",
    "b. Use the states drivers data from the states_drivers.csv to normalize the previous list with number of total drivers for each state. For example, there are 12 million drivers in NY, then the normalized numbers should be:\n",
    "<br>\n",
    "`St |  Drivers  | Normalized` <br>\n",
    "`NY |  151034   | 1.26E-5   ` <br>\n",
    "`PA |  125131   |....       ` <br>\n",
    "..."
   ]
  },
  {
   "cell_type": "markdown",
   "metadata": {
    "id": "ZP0MT6tyKCmQ"
   },
   "source": [
    "### Question 8 (15 points)\n",
    "a. On which day of the week (Monday through Sunday) do the most of the crashes happen? <br>\n",
    "b. On which hour of the day (00 - 24) do the most of the crashes happen?"
   ]
  },
  {
   "cell_type": "markdown",
   "metadata": {
    "id": "T4w7e3vLKCmQ"
   },
   "source": [
    "### Question 9 (15 points)\n",
    "a. What is the number of accidents that happened on rainy and clear/cloudy days?\n",
    "b. What is the ration of the number of accidents that happened on rainy days to the number of accidents happened on clear/cloudy days? \n",
    "c. Calculate the number of fatal accidents that occur by each light condition.\n",
    "\n",
    "What does these statistics tell us?"
   ]
  },
  {
   "cell_type": "markdown",
   "metadata": {
    "id": "HkVa5g4dMRO9"
   },
   "source": [
    "### Question 10 (10 points)\n",
    "Use matplotlib and/or seaborn and show your talent in data visualization. You are free to visualize anything you want regarding this dataset.\n",
    "\n",
    "---"
   ]
  },
  {
   "cell_type": "markdown",
   "metadata": {},
   "source": [
    "# Notebook Start"
   ]
  },
  {
   "cell_type": "code",
   "execution_count": 1,
   "metadata": {},
   "outputs": [],
   "source": [
    "import pandas as pd\n",
    "import numpy as np\n",
    "import seaborn as sns\n",
    "import os\n",
    "import datetime as dt\n",
    "import matplotlib.pyplot as plt\n",
    "from matplotlib.ticker import FuncFormatter\n",
    "\n",
    "#!pip install python-calamine \n",
    "#I had to use this line in order to correctly import the .xlsx files"
   ]
  },
  {
   "cell_type": "markdown",
   "metadata": {},
   "source": [
    "## Importing Datasets\n",
    "\n",
    "Before we begin our analysis, let's review the different data sets available in our `input_data` folder given for this project"
   ]
  },
  {
   "cell_type": "code",
   "execution_count": 2,
   "metadata": {},
   "outputs": [
    {
     "data": {
      "text/plain": [
       "['geodata',\n",
       " 'maryland_accident_report.pdf',\n",
       " 'maryland_cross_reference_document.pdf',\n",
       " 'MD2020_Rain_Snow.csv',\n",
       " 'MD_County_Codes.pdf',\n",
       " 'MD_Crash_Data_2017.xlsx',\n",
       " 'MD_Crash_EMS_Data_2017.xlsx',\n",
       " 'MD_Crash_Person_Data_2017.xlsx',\n",
       " 'MD_Crash_Person_ID_Data_2017.xlsx',\n",
       " 'MD_Crash_Vehicle_Data_2017.csv',\n",
       " 'states.json',\n",
       " 'states_drivers.csv']"
      ]
     },
     "execution_count": 2,
     "metadata": {},
     "output_type": "execute_result"
    }
   ],
   "source": [
    "files = os.listdir('C:/Users/peted/OneDrive/Documents/Data/DATA 601/Projects/Project 1/input_data')\n",
    "files"
   ]
  },
  {
   "cell_type": "markdown",
   "metadata": {},
   "source": [
    "Now that we have a list of our files, let's separate the reference materials. We will do this by adding any file that contains the `.pdf` file extension to a seperate list named `ref_files`, and our data files to a list named `data_files`."
   ]
  },
  {
   "cell_type": "code",
   "execution_count": 3,
   "metadata": {},
   "outputs": [
    {
     "name": "stdout",
     "output_type": "stream",
     "text": [
      "Files that contain our data: ['geodata', 'MD2020_Rain_Snow.csv', 'MD_Crash_Data_2017.xlsx', 'MD_Crash_EMS_Data_2017.xlsx', 'MD_Crash_Person_Data_2017.xlsx', 'MD_Crash_Person_ID_Data_2017.xlsx', 'MD_Crash_Vehicle_Data_2017.csv', 'states.json', 'states_drivers.csv'] \n",
      "Files for reference: ['maryland_accident_report.pdf', 'maryland_cross_reference_document.pdf', 'MD_County_Codes.pdf']\n"
     ]
    }
   ],
   "source": [
    "ref_files=[]\n",
    "data_files=[]\n",
    "\n",
    "for file_name in files:\n",
    "    if '.pdf' in file_name:\n",
    "        ref_files.append(file_name)\n",
    "    else:\n",
    "        data_files.append(file_name)\n",
    "\n",
    "print(f\"Files that contain our data: {data_files} \\nFiles for reference: {ref_files}\") "
   ]
  },
  {
   "cell_type": "markdown",
   "metadata": {},
   "source": [
    "### Converting our Data Files to DataFrame Objects\n",
    "\n",
    "It appears that there's a mix of 3 different file formats contained in our data files: `.csv`,`.xlsx`, and `.json`. The following code is designed to detect the file extension, then use the corresponding `pd.read` function based on the file type. I added the `%%time` jupyter magic, since it took my computer a while to parse all the files."
   ]
  },
  {
   "cell_type": "code",
   "execution_count": 4,
   "metadata": {},
   "outputs": [
    {
     "name": "stdout",
     "output_type": "stream",
     "text": [
      "importing MD2020_Rain_Snow.csv as MD2020_Rain_Snow\n",
      "Done.\n",
      "importing MD_Crash_Data_2017.xlsx as MD_Crash_Data_2017\n",
      "Done.\n",
      "importing MD_Crash_EMS_Data_2017.xlsx as MD_Crash_EMS_Data_2017\n",
      "Done.\n",
      "importing MD_Crash_Person_Data_2017.xlsx as MD_Crash_Person_Data_2017\n",
      "Done.\n",
      "importing MD_Crash_Person_ID_Data_2017.xlsx as MD_Crash_Person_ID_Data_2017\n",
      "Done.\n",
      "importing MD_Crash_Vehicle_Data_2017.csv as MD_Crash_Vehicle_Data_2017\n",
      "Done.\n",
      "importing states.json as states\n",
      "Done.\n",
      "importing states_drivers.csv as states_drivers\n",
      "Done.\n",
      "CPU times: total: 19.8 s\n",
      "Wall time: 19.9 s\n"
     ]
    }
   ],
   "source": [
    "%%time\n",
    "\n",
    "for file in data_files:\n",
    "    if '.csv' in file:\n",
    "        file_name=file[:-4]\n",
    "        print(f'importing {file} as {file_name}')\n",
    "        globals()[file_name]=pd.read_csv(f'./input_data/{file}')\n",
    "        print('Done.')\n",
    "    if '.xlsx' in file:\n",
    "        file_name=file[:-5]\n",
    "        print(f'importing {file} as {file_name}')\n",
    "        globals()[file_name]=pd.read_excel(f'./input_data/{file}', engine='calamine')\n",
    "        print('Done.')\n",
    "    if '.json' in file:\n",
    "        file_name=file[:-5]\n",
    "        print(f'importing {file} as {file_name}')\n",
    "        globals()[file_name]=pd.read_json(f'./input_data/{file}')\n",
    "        print('Done.')"
   ]
  },
  {
   "cell_type": "markdown",
   "metadata": {},
   "source": [
    "## Defining the Scope of our Analysis"
   ]
  },
  {
   "cell_type": "markdown",
   "metadata": {},
   "source": [
    "Before we move on, let's refine the questions we're looking to answer, so we can narrow down the exact information we need from these datasets. \n",
    "\n",
    "1) For each county, what is the average speed of accidents involving a bicyclist? (Question 4)\n",
    "2) For each vehicle make, what is the total number of crashes? What is the average age of these cars? (Question 5)\n",
    "3) Identify all the accidents given a certain geographical location. How many of these accidents had a speed limit above 51 mph? How many had a speed limit below 41 mph? (Question 6)\n",
    "4) Determine the number of drivers who were in an accident from a non-DMV state. What was their gender? Create a normalized table with the information. (Question 7)\n",
    "5) Which days and times are accident rates higher? (Question 8)\n",
    "6) How many accidents occured under inclimate weather? What is the ratio of accidents for inclimate weather vs clear days? For each light condition, how many fatal accidents occured? What do the statistics tell us? (Question 9).\n",
    "\n",
    "Based off these questions we'll need to find the following information from the given datasets: "
   ]
  },
  {
   "cell_type": "markdown",
   "metadata": {},
   "source": [
    "| Information Needed | Question |\n",
    "| :-: |  :-: |\n",
    "| County | 4 | \n",
    "| Accident Speed | 4 | \n",
    "| Vehicle/Pedestrian type | 4 |\n",
    "| Vehicle Make | 5 |\n",
    "| Vehicle Year of Manufacture | 5 |\n",
    "| Location of Accident | 6 |\n",
    "| Speed Limit | 6 | \n",
    "| State Accident Count | 7 |\n",
    "| Gender of Drivers | 7 | \n",
    "| Time of accident | 8 |\n",
    "| Date of accident | 8 |\n",
    "| Day of Week | 8 |\n",
    "| Weather Condition | 9 |\n",
    "| Light Condition | 9 |\n",
    "| Accident Fatality/Severity rating | 9 | "
   ]
  },
  {
   "cell_type": "markdown",
   "metadata": {},
   "source": [
    "### Crash Data\n",
    "\n",
    "Let's take a look at the `MD_Crash_Data_2017` dataset, to identify what data is available to answer the above questions."
   ]
  },
  {
   "cell_type": "code",
   "execution_count": 5,
   "metadata": {},
   "outputs": [
    {
     "name": "stdout",
     "output_type": "stream",
     "text": [
      "<class 'pandas.core.frame.DataFrame'>\n",
      "RangeIndex: 113192 entries, 0 to 113191\n",
      "Data columns (total 37 columns):\n",
      " #   Column               Non-Null Count   Dtype         \n",
      "---  ------               --------------   -----         \n",
      " 0   LIGHT_CODE           113192 non-null  float64       \n",
      " 1   COUNTY_NO            113192 non-null  int64         \n",
      " 2   MUNI_CODE            91866 non-null   float64       \n",
      " 3   JUNCTION_CODE        101918 non-null  float64       \n",
      " 4   COLLISION_TYPE_CODE  113192 non-null  int64         \n",
      " 5   SURF_COND_CODE       101918 non-null  float64       \n",
      " 6   LANE_CODE            86714 non-null   float64       \n",
      " 7   RD_COND_CODE         101918 non-null  float64       \n",
      " 8   RD_DIV_CODE          101918 non-null  float64       \n",
      " 9   FIX_OBJ_CODE         113192 non-null  float64       \n",
      " 10  REPORT_NO            113192 non-null  object        \n",
      " 11  REPORT_TYPE          113192 non-null  object        \n",
      " 12  WEATHER_CODE         113192 non-null  float64       \n",
      " 13  ACC_DATE             113192 non-null  datetime64[ns]\n",
      " 14  ACC_TIME             113192 non-null  object        \n",
      " 15  LOC_CODE             53419 non-null   object        \n",
      " 16  SIGNAL_FLAG          113192 non-null  object        \n",
      " 17  C_M_ZONE_FLAG        113192 non-null  object        \n",
      " 18  AGENCY_CODE          113192 non-null  object        \n",
      " 19  AREA_CODE            113192 non-null  object        \n",
      " 20  HARM_EVENT_CODE1     113192 non-null  float64       \n",
      " 21  HARM_EVENT_CODE2     113192 non-null  float64       \n",
      " 22  RTE_NO               91911 non-null   float64       \n",
      " 23  ROUTE_TYPE_CODE      91911 non-null   object        \n",
      " 24  RTE_SUFFIX           2379 non-null    object        \n",
      " 25  LOG_MILE             101918 non-null  float64       \n",
      " 26  LOGMILE_DIR_FLAG     91996 non-null   object        \n",
      " 27  MAINROAD_NAME        101918 non-null  object        \n",
      " 28  DISTANCE             100823 non-null  float64       \n",
      " 29  FEET_MILES_FLAG      101918 non-null  object        \n",
      " 30  DISTANCE_DIR_FLAG    101918 non-null  object        \n",
      " 31  REFERENCE_NO         91911 non-null   float64       \n",
      " 32  REFERENCE_TYPE_CODE  91911 non-null   object        \n",
      " 33  REFERENCE_SUFFIX     2501 non-null    object        \n",
      " 34  REFERENCE_ROAD_NAME  101853 non-null  object        \n",
      " 35  LATITUDE             113192 non-null  float64       \n",
      " 36  LONGITUDE            113192 non-null  float64       \n",
      "dtypes: datetime64[ns](1), float64(17), int64(2), object(17)\n",
      "memory usage: 32.0+ MB\n"
     ]
    }
   ],
   "source": [
    "MD_Crash_Data_2017.info()"
   ]
  },
  {
   "cell_type": "markdown",
   "metadata": {},
   "source": [
    "After brief review of the data available in `MD_Crash_Data_2017`, it appears we'll need this will help us answer the questions involving: county, location of accident, time and date of accident, weather condition, and light condition.\n",
    "\n",
    "Here is an updated table for reference:"
   ]
  },
  {
   "cell_type": "markdown",
   "metadata": {},
   "source": [
    "| Info Needed                       |   Question | Dataset                    | Column              |\n",
    "|:----------------------------------|:----------:|:--------------------------:|:-------------------:|\n",
    "| County                            |          4 | MD_Crash_Data_2017         | COUNTY_NO           |\n",
    "| Accident Speed                    |          4 | ? |  ?        |\n",
    "| Pedestrian Type                   |          4 | ?  | ?       |\n",
    "| Vehicle Type                      |          5 | ? | ?            |\n",
    "| Year of Manufacture               |          5 | ? | ?            |\n",
    "| Location of Accident              |          6 | MD_Crash_Data_2017         | LATITUDE            |\n",
    "| Location of Accident              |          6 | MD_Crash_Data_2017         | LONGITIUDE          |\n",
    "| Speed Limit                       |          6 | ?         | ?         |\n",
    "| Driver State of Origin            |          7 | ?  | ? |\n",
    "| Driver Gender                     |          7 | ?  | ?            |\n",
    "| Time of Accident                  |          8 | MD_Crash_Data_2017         | ACC_TIME            |\n",
    "| Date of Accident                  |          8 | MD_Crash_Data_2017         | ACC_DATE            |\n",
    "| Day of Week                       |          8 | MD_Crash_Data_2017         | ACC_DATE            |\n",
    "| Weather Condition                 |          9 | MD_Crash_Data_2017         | WEATHER_CODE        |\n",
    "| Light  Condition                            |          9 | MD_Crash_Data_2017         | LIGHT_CODE          |\n",
    "| Accident Fatality/Severity Rating |          9 | ?  | ?      |"
   ]
  },
  {
   "cell_type": "markdown",
   "metadata": {},
   "source": [
    "### Vehicle Data\n",
    "\n",
    "Let's explore the next dataset, `MD_Crash_Vehicle_Data_2017`, to see what relevant info we have available for our questions."
   ]
  },
  {
   "cell_type": "code",
   "execution_count": 6,
   "metadata": {},
   "outputs": [
    {
     "name": "stdout",
     "output_type": "stream",
     "text": [
      "<class 'pandas.core.frame.DataFrame'>\n",
      "RangeIndex: 212791 entries, 0 to 212790\n",
      "Data columns (total 27 columns):\n",
      " #   Column                     Non-Null Count   Dtype  \n",
      "---  ------                     --------------   -----  \n",
      " 0   HARM_EVENT_CODE            212791 non-null  float64\n",
      " 1   CONTI_DIRECTION_CODE       191495 non-null  object \n",
      " 2   DAMAGE_CODE                212791 non-null  int64  \n",
      " 3   MOVEMENT_CODE              212791 non-null  float64\n",
      " 4   REPORT_NO                  212791 non-null  object \n",
      " 5   CV_BODY_TYPE_CODE          8742 non-null    float64\n",
      " 6   VEH_YEAR                   202506 non-null  float64\n",
      " 7   VEH_MAKE                   212764 non-null  object \n",
      " 8   COMMERCIAL_FLAG            212791 non-null  object \n",
      " 9   VEH_MODEL                  212692 non-null  object \n",
      " 10  HZM_NUM                    375 non-null     object \n",
      " 11  TOWED_AWAY_FLAG            212791 non-null  object \n",
      " 12  GOING_DIRECTION_CODE       191495 non-null  object \n",
      " 13  BODY_TYPE_CODE             203984 non-null  float64\n",
      " 14  DRIVERLESS_FLAG            212791 non-null  object \n",
      " 15  FIRE_FLAG                  179425 non-null  object \n",
      " 16  PARKED_FLAG                212791 non-null  object \n",
      " 17  SPEED_LIMIT                212791 non-null  int64  \n",
      " 18  HIT_AND_RUN_FLAG           212791 non-null  object \n",
      " 19  HAZMAT_SPILL_FLAG          2940 non-null    object \n",
      " 20  VEHICLE_ID                 212791 non-null  object \n",
      " 21  TOWED_VEHICLE_CONFIG_CODE  212791 non-null  int64  \n",
      " 22  AREA_DAMAGED_CODE_IMP1     211681 non-null  float64\n",
      " 23  AREA_DAMAGED_CODE1         204780 non-null  float64\n",
      " 24  AREA_DAMAGED_CODE2         116055 non-null  float64\n",
      " 25  AREA_DAMAGED_CODE3         74921 non-null   float64\n",
      " 26  AREA_DAMAGED_CODE_MAIN     211323 non-null  float64\n",
      "dtypes: float64(10), int64(3), object(14)\n",
      "memory usage: 43.8+ MB\n"
     ]
    }
   ],
   "source": [
    "MD_Crash_Vehicle_Data_2017.info()"
   ]
  },
  {
   "cell_type": "markdown",
   "metadata": {},
   "source": [
    "A brief review of the columns shows us that this dataset will help us answer questions involving: vehicle make, vehicle model, and speed.\n",
    "\n",
    "Let's update our reference table:"
   ]
  },
  {
   "cell_type": "markdown",
   "metadata": {},
   "source": [
    "| Info Needed                       |   Question | Dataset                    | Column              |\n",
    "|:----------------------------------|:----------:|:--------------------------:|:-------------------:|\n",
    "| County                            |          4 | MD_Crash_Data_2017         | COUNTY_NO           |\n",
    "| Accident Speed                    |          4 | ? |  ?        |\n",
    "| Pedestrian Type                   |          4 | ?  | ?       |\n",
    "| Vehicle Type                      |          5 | MD_Crash_Vehicle_Data_2017 | VEH_MAKE            |\n",
    "| Year of Manufacture               |          5 | MD_Crash_Vehicle_Data_2017 | VEH_YEAR            |\n",
    "| Location of Accident              |          6 | MD_Crash_Data_2017         | LATITUDE            |\n",
    "| Location of Accident              |          6 | MD_Crash_Data_2017         | LONGITIUDE          |\n",
    "| Speed Limit                       |          6 | MD_Crash_Vehicle_Data_2017         | SPEED_LIMIT       |\n",
    "| Driver State of Origin            |          7 | ?  | ? |\n",
    "| Driver Gender                     |          7 | ?  | ?            |\n",
    "| Time of Accident                  |          8 | MD_Crash_Data_2017         | ACC_TIME            |\n",
    "| Date of Accident                  |          8 | MD_Crash_Data_2017         | ACC_DATE            |\n",
    "| Day of Week                       |          8 | MD_Crash_Data_2017         | ACC_DATE            |\n",
    "| Weather Condition                 |          9 | MD_Crash_Data_2017         | WEATHER_CODE        |\n",
    "| Light  Condition                            |          9 | MD_Crash_Data_2017         | LIGHT_CODE          |\n",
    "| Accident Fatality/Severity Rating |          9 | ?  | ?      |"
   ]
  },
  {
   "cell_type": "markdown",
   "metadata": {},
   "source": [
    "### Person Data\n",
    "\n",
    "Let's explore the next dataset, `MD_Crash_Person_Data_2017`, to see what relvant info is available"
   ]
  },
  {
   "cell_type": "code",
   "execution_count": 7,
   "metadata": {},
   "outputs": [
    {
     "name": "stdout",
     "output_type": "stream",
     "text": [
      "<class 'pandas.core.frame.DataFrame'>\n",
      "RangeIndex: 261679 entries, 0 to 261678\n",
      "Data columns (total 26 columns):\n",
      " #   Column                 Non-Null Count   Dtype         \n",
      "---  ------                 --------------   -----         \n",
      " 0   SEX_CODE               243901 non-null  object        \n",
      " 1   CONDITION_CODE         197627 non-null  float64       \n",
      " 2   INJ_SEVER_CODE         261679 non-null  int64         \n",
      " 3   REPORT_NO              261679 non-null  object        \n",
      " 4   OCC_SEAT_POS_CODE      63365 non-null   float64       \n",
      " 5   PED_VISIBLE_CODE       4929 non-null    float64       \n",
      " 6   PED_LOCATION_CODE      4929 non-null    float64       \n",
      " 7   PED_OBEY_CODE          4929 non-null    float64       \n",
      " 8   PED_TYPE_CODE          4929 non-null    float64       \n",
      " 9   MOVEMENT_CODE          4929 non-null    float64       \n",
      " 10  PERSON_TYPE            261679 non-null  object        \n",
      " 11  ALCOHOL_TEST_CODE      198314 non-null  float64       \n",
      " 12  ALCOHOL_TESTTYPE_CODE  4914 non-null    float64       \n",
      " 13  DRUG_TEST_CODE         198314 non-null  float64       \n",
      " 14  DRUG_TESTRESULT_CODE   1279 non-null    object        \n",
      " 15  BAC_CODE               3166 non-null    float64       \n",
      " 16  FAULT_FLAG             198314 non-null  object        \n",
      " 17  EQUIP_PROB_CODE        256750 non-null  float64       \n",
      " 18  SAF_EQUIP_CODE         261679 non-null  float64       \n",
      " 19  EJECT_CODE             256750 non-null  float64       \n",
      " 20  AIRBAG_DEPLOYED        256750 non-null  float64       \n",
      " 21  DATE_OF_BIRTH          243394 non-null  datetime64[ns]\n",
      " 22  LICENSE_STATE_CODE     177747 non-null  object        \n",
      " 23  CLASS                  138145 non-null  object        \n",
      " 24  CDL_FLAG               193385 non-null  object        \n",
      " 25  EMS_UNIT_LABEL         41047 non-null   object        \n",
      "dtypes: datetime64[ns](1), float64(15), int64(1), object(9)\n",
      "memory usage: 51.9+ MB\n"
     ]
    }
   ],
   "source": [
    "MD_Crash_Person_Data_2017.info()"
   ]
  },
  {
   "cell_type": "markdown",
   "metadata": {},
   "source": [
    "It looks like this dataset will help us identify: pedestrian type, driver state of origin, driver gender, and injury severity.\n",
    "\n",
    "It also appears we are missing a specific column that relates to the actual speed of the accident, for this analysis, we'll assume that the speed of the accident was the posted speed limit. \n",
    "\n",
    "here's our finalized reference table, which will help us track what info is relevant to the scope of this project:"
   ]
  },
  {
   "cell_type": "markdown",
   "metadata": {},
   "source": [
    "| Info Needed                       |   Question | Dataset                    | Column              |\n",
    "|:----------------------------------|:----------:|:--------------------------:|:-------------------:|\n",
    "| County                            |          4 | MD_Crash_Data_2017         | COUNTY_NO           |\n",
    "| Accident Speed                    |          4 | MD_Crash_Vehicle_Data_2017 |  SPEED_LIMIT        |\n",
    "| Pedestrian Type                   |          4 | MD_Crash_Person_Data_2017  | PED_TYPE_CODE       |\n",
    "| Vehicle Type                      |          5 | MD_Crash_Vehicle_Data_2017 | VEH_MAKE            |\n",
    "| Year of Manufacture               |          5 | MD_Crash_Vehicle_Data_2017 | VEH_YEAR            |\n",
    "| Location of Accident              |          6 | MD_Crash_Data_2017         | LATITUDE            |\n",
    "| Location of Accident              |          6 | MD_Crash_Data_2017         | LONGITIUDE          |\n",
    "| Speed Limit                       |          6 | MD_Crash_Vehicle_Data_2017         | SPEED_LIMIT       |\n",
    "| Driver State of Origin            |          7 | MD_Crash_Person_Data_2017  | LISCENSE_STATE_CODE |\n",
    "| Driver Gender                     |          7 | MD_Crash_Person_Data_2017  | SEX_CODE            |\n",
    "| Time of Accident                  |          8 | MD_Crash_Data_2017         | ACC_TIME            |\n",
    "| Date of Accident                  |          8 | MD_Crash_Data_2017         | ACC_DATE            |\n",
    "| Day of Week                       |          8 | MD_Crash_Data_2017         | ACC_DATE            |\n",
    "| Weather Condition                 |          9 | MD_Crash_Data_2017         | WEATHER_CODE        |\n",
    "| Light  Condition                            |          9 | MD_Crash_Data_2017         | LIGHT_CODE          |\n",
    "| Accident Fatality/Severity Rating |          9 | MD_Crash_Person_Data_2017  | INJ_SEVER_CODE      |"
   ]
  },
  {
   "cell_type": "markdown",
   "metadata": {},
   "source": [
    "We will revisit the supplemental datasets as needed as we work through the questions, but let's use this as our starting point. The strategy here will be to build a new dataframe from the available data to answer each question."
   ]
  },
  {
   "cell_type": "markdown",
   "metadata": {},
   "source": [
    "## Question 4 "
   ]
  },
  {
   "cell_type": "markdown",
   "metadata": {},
   "source": [
    "Let's review question 4:\n",
    "\n",
    ">Question 4 (15 points)\n",
    "a. For each county, determine the average speed of accidents involving bicyclists. (Note: Take a look at the Sample Maryland Crash Report. Report provides a map of the codes including those involving other bicyclists.)\n",
    "b. Sort the list the sorted by average speed."
   ]
  },
  {
   "cell_type": "markdown",
   "metadata": {},
   "source": [
    "To answer this question, we'll need to determine which county the crash occured, the speed of the accident, and whether or not the accident involved a bicyclist. Let's revisit our reference table:"
   ]
  },
  {
   "cell_type": "markdown",
   "metadata": {},
   "source": [
    "| Info Needed                       |   Question | Dataset                    | Column              |\n",
    "|:----------------------------------|:----------:|:--------------------------:|:-------------------:|\n",
    "| County                            |          4 | MD_Crash_Data_2017         | COUNTY_NO           |\n",
    "| Accident Speed                    |          4 | MD_Crash_Vehicle_Data_2017 |  SPEED_LIMIT        |\n",
    "| Pedestrian Type                   |          4 | MD_Crash_Person_Data_2017  | PED_TYPE_CODE       |"
   ]
  },
  {
   "cell_type": "markdown",
   "metadata": {},
   "source": [
    "It appears that we'll need to combine info from three datasets in order to answer our question. \n",
    "\n",
    "Luckily our datasets all contain a common column, `REPORT_NO`, that will allow us to relate the data to eachother, and combine the different datasets into a single dataframe for our analysis.\n",
    "\n",
    "Let's take a closer look at the `REPORT_NO` column in each dataset:"
   ]
  },
  {
   "cell_type": "code",
   "execution_count": 8,
   "metadata": {},
   "outputs": [
    {
     "data": {
      "text/html": [
       "<div>\n",
       "<style scoped>\n",
       "    .dataframe tbody tr th:only-of-type {\n",
       "        vertical-align: middle;\n",
       "    }\n",
       "\n",
       "    .dataframe tbody tr th {\n",
       "        vertical-align: top;\n",
       "    }\n",
       "\n",
       "    .dataframe thead th {\n",
       "        text-align: right;\n",
       "    }\n",
       "</style>\n",
       "<table border=\"1\" class=\"dataframe\">\n",
       "  <thead>\n",
       "    <tr style=\"text-align: right;\">\n",
       "      <th></th>\n",
       "      <th>crash_data</th>\n",
       "      <th>vehicle_data</th>\n",
       "      <th>person_data</th>\n",
       "    </tr>\n",
       "  </thead>\n",
       "  <tbody>\n",
       "    <tr>\n",
       "      <th>REPORT_NO Count</th>\n",
       "      <td>113192</td>\n",
       "      <td>212791</td>\n",
       "      <td>261679</td>\n",
       "    </tr>\n",
       "  </tbody>\n",
       "</table>\n",
       "</div>"
      ],
      "text/plain": [
       "                 crash_data  vehicle_data  person_data\n",
       "REPORT_NO Count      113192        212791       261679"
      ]
     },
     "execution_count": 8,
     "metadata": {},
     "output_type": "execute_result"
    }
   ],
   "source": [
    "rep_no=pd.DataFrame(data = {'crash_data' : MD_Crash_Data_2017['REPORT_NO'].count(),\n",
    "                            'vehicle_data' : MD_Crash_Vehicle_Data_2017['REPORT_NO'].count(),\n",
    "                            'person_data' : MD_Crash_Person_Data_2017['REPORT_NO'].count()},\n",
    "                    index = ['REPORT_NO Count'])\n",
    "rep_no"
   ]
  },
  {
   "cell_type": "markdown",
   "metadata": {},
   "source": [
    "Each dataset is a different size, and has a different count of `REPORT_NO`. The reasoning for this could be that a single crash may have multiple vehicles involved and multiple people invovled. This means we will need to limit the unique reports that we can analyze. It may be wise to figure out which persons are bicyclists first, and then join the crash data and the vehicle data from there."
   ]
  },
  {
   "cell_type": "markdown",
   "metadata": {},
   "source": [
    "### Determining Bicyclists"
   ]
  },
  {
   "cell_type": "markdown",
   "metadata": {},
   "source": [
    "The documentation tells us that Maryland crash reports consider bicyclists as pedestrians. The classification of various pedestrians are given by the `PED_TYPE_CODE` in accordance with the coding below:"
   ]
  },
  {
   "attachments": {
    "9653c8d4-b884-4e83-8fe0-5e444a69925a.png": {
     "image/png": "[encoded data removed]"
    }
   },
   "cell_type": "markdown",
   "metadata": {},
   "source": [
    "![image.png](attachment:9653c8d4-b884-4e83-8fe0-5e444a69925a.png)"
   ]
  },
  {
   "cell_type": "code",
   "execution_count": 9,
   "metadata": {},
   "outputs": [
    {
     "data": {
      "text/plain": [
       "PED_TYPE_CODE\n",
       "NaN     256750\n",
       "1.0       3599\n",
       "2.0        847\n",
       "88.0       399\n",
       "7.0         40\n",
       "6.0         21\n",
       "3.0         14\n",
       "99.0         5\n",
       "4.0          3\n",
       "5.0          1\n",
       "Name: count, dtype: int64"
      ]
     },
     "execution_count": 9,
     "metadata": {},
     "output_type": "execute_result"
    }
   ],
   "source": [
    "MD_Crash_Person_Data_2017['PED_TYPE_CODE'].value_counts(dropna=False)"
   ]
  },
  {
   "cell_type": "markdown",
   "metadata": {},
   "source": [
    "By looking at the value counts of the pedestrian type data, we can see the different values found in this column. We can see that the vast majority of people attached to crash reports aren't pedestrians due to the 256750 `NaN` values. It's important to note, the documentation tells us that the values `88` and `99` universally refer to 'Other' and 'Unknown'."
   ]
  },
  {
   "attachments": {
    "18e669b0-12e5-40cb-862e-ba144f494d31.png": {
     "image/png": "[encoded data removed]"
    }
   },
   "cell_type": "markdown",
   "metadata": {},
   "source": [
    "![image.png](attachment:18e669b0-12e5-40cb-862e-ba144f494d31.png)"
   ]
  },
  {
   "cell_type": "markdown",
   "metadata": {},
   "source": [
    "Since our question is focused on bicyclists, let's create a dataframe that contains only people with the value of 2, and the corresponding report number."
   ]
  },
  {
   "cell_type": "code",
   "execution_count": 10,
   "metadata": {},
   "outputs": [
    {
     "data": {
      "text/plain": [
       "REPORT_NO\n",
       "DA40760004     3\n",
       "MCP3045000J    2\n",
       "ADJ8870001     2\n",
       "MCP28820023    2\n",
       "ADI165003G     2\n",
       "              ..\n",
       "ZJ04800017     1\n",
       "ZL11580005     1\n",
       "ZVW250000T     1\n",
       "AC21790004     1\n",
       "MCP10480036    1\n",
       "Name: count, Length: 837, dtype: int64"
      ]
     },
     "execution_count": 10,
     "metadata": {},
     "output_type": "execute_result"
    }
   ],
   "source": [
    "cyclists=MD_Crash_Person_Data_2017[['REPORT_NO','PED_TYPE_CODE']][MD_Crash_Person_Data_2017['PED_TYPE_CODE']==2].reset_index(drop=True)\n",
    "cyclists['REPORT_NO'].value_counts()"
   ]
  },
  {
   "cell_type": "markdown",
   "metadata": {},
   "source": [
    "It appears that there are some duplicate report numbers in our data. This could indicate that the crash invovled multiple bicylists, or may indicate that the data is coded incorrectly. Since our question only requires us to identify crashes involving one or more bicyclists, let's remove the duplicate rows from our initial dataset, keeping only the first instance of a report number."
   ]
  },
  {
   "cell_type": "code",
   "execution_count": 11,
   "metadata": {},
   "outputs": [
    {
     "name": "stdout",
     "output_type": "stream",
     "text": [
      "(847, 2)\n",
      "(837, 2)\n"
     ]
    }
   ],
   "source": [
    "print(cyclists.shape)\n",
    "cyclists.drop_duplicates('REPORT_NO', inplace=True)\n",
    "print(cyclists.shape)"
   ]
  },
  {
   "cell_type": "code",
   "execution_count": 12,
   "metadata": {},
   "outputs": [
    {
     "data": {
      "text/plain": [
       "REPORT_NO\n",
       "DA39010031     1\n",
       "ADI9280006     1\n",
       "CT8224000G     1\n",
       "CT82740056     1\n",
       "CT8298000Y     1\n",
       "              ..\n",
       "ZH0582001W     1\n",
       "ZJ04800017     1\n",
       "ZL11580005     1\n",
       "ZVW250000T     1\n",
       "MCP10480036    1\n",
       "Name: count, Length: 837, dtype: int64"
      ]
     },
     "execution_count": 12,
     "metadata": {},
     "output_type": "execute_result"
    }
   ],
   "source": [
    "cyclists['REPORT_NO'].value_counts()"
   ]
  },
  {
   "cell_type": "markdown",
   "metadata": {},
   "source": [
    "We removed 10 duplicate rows from our dataset. We should now have a dataframe containing unique report numbers of crashes involving bicylcists."
   ]
  },
  {
   "cell_type": "markdown",
   "metadata": {},
   "source": [
    "Let's begin joining our DataFrames togther on using the common `REPORT_NO`. We'll start by joining the speed limit data from `MD_Crash_Vehicle_Data_2017`"
   ]
  },
  {
   "cell_type": "code",
   "execution_count": 13,
   "metadata": {},
   "outputs": [
    {
     "data": {
      "text/plain": [
       "count          212791\n",
       "unique         113170\n",
       "top       MSP6063006C\n",
       "freq               15\n",
       "Name: REPORT_NO, dtype: object"
      ]
     },
     "execution_count": 13,
     "metadata": {},
     "output_type": "execute_result"
    }
   ],
   "source": [
    "MD_Crash_Vehicle_Data_2017['REPORT_NO'].describe()"
   ]
  },
  {
   "cell_type": "code",
   "execution_count": 14,
   "metadata": {},
   "outputs": [
    {
     "data": {
      "text/html": [
       "<div>\n",
       "<style scoped>\n",
       "    .dataframe tbody tr th:only-of-type {\n",
       "        vertical-align: middle;\n",
       "    }\n",
       "\n",
       "    .dataframe tbody tr th {\n",
       "        vertical-align: top;\n",
       "    }\n",
       "\n",
       "    .dataframe thead th {\n",
       "        text-align: right;\n",
       "    }\n",
       "</style>\n",
       "<table border=\"1\" class=\"dataframe\">\n",
       "  <thead>\n",
       "    <tr style=\"text-align: right;\">\n",
       "      <th></th>\n",
       "      <th>REPORT_NO</th>\n",
       "      <th>PED_TYPE_CODE</th>\n",
       "      <th>SPEED_LIMIT</th>\n",
       "      <th>COUNTY_NO</th>\n",
       "    </tr>\n",
       "  </thead>\n",
       "  <tbody>\n",
       "    <tr>\n",
       "      <th>0</th>\n",
       "      <td>DA39010031</td>\n",
       "      <td>2.0</td>\n",
       "      <td>15.0</td>\n",
       "      <td>16</td>\n",
       "    </tr>\n",
       "    <tr>\n",
       "      <th>1</th>\n",
       "      <td>ADH5090015</td>\n",
       "      <td>2.0</td>\n",
       "      <td>25.0</td>\n",
       "      <td>24</td>\n",
       "    </tr>\n",
       "    <tr>\n",
       "      <th>2</th>\n",
       "      <td>ADJ3910047</td>\n",
       "      <td>2.0</td>\n",
       "      <td>30.0</td>\n",
       "      <td>24</td>\n",
       "    </tr>\n",
       "    <tr>\n",
       "      <th>3</th>\n",
       "      <td>DA38010021</td>\n",
       "      <td>2.0</td>\n",
       "      <td>10.0</td>\n",
       "      <td>16</td>\n",
       "    </tr>\n",
       "    <tr>\n",
       "      <th>4</th>\n",
       "      <td>ADF329000D</td>\n",
       "      <td>2.0</td>\n",
       "      <td>30.0</td>\n",
       "      <td>24</td>\n",
       "    </tr>\n",
       "  </tbody>\n",
       "</table>\n",
       "</div>"
      ],
      "text/plain": [
       "    REPORT_NO  PED_TYPE_CODE  SPEED_LIMIT  COUNTY_NO\n",
       "0  DA39010031            2.0         15.0         16\n",
       "1  ADH5090015            2.0         25.0         24\n",
       "2  ADJ3910047            2.0         30.0         24\n",
       "3  DA38010021            2.0         10.0         16\n",
       "4  ADF329000D            2.0         30.0         24"
      ]
     },
     "execution_count": 14,
     "metadata": {},
     "output_type": "execute_result"
    }
   ],
   "source": [
    "cyclists = cyclists.merge( MD_Crash_Vehicle_Data_2017[['REPORT_NO','SPEED_LIMIT']],\n",
    "                           on = 'REPORT_NO',\n",
    "                           how = 'left')\n",
    "cyclists = cyclists.merge( MD_Crash_Data_2017[['REPORT_NO','COUNTY_NO']],\n",
    "                           on = 'REPORT_NO',\n",
    "                           how = 'left')\n",
    "cyclists.head()"
   ]
  },
  {
   "cell_type": "code",
   "execution_count": 15,
   "metadata": {},
   "outputs": [
    {
     "name": "stdout",
     "output_type": "stream",
     "text": [
      "<class 'pandas.core.frame.DataFrame'>\n",
      "RangeIndex: 856 entries, 0 to 855\n",
      "Data columns (total 4 columns):\n",
      " #   Column         Non-Null Count  Dtype  \n",
      "---  ------         --------------  -----  \n",
      " 0   REPORT_NO      856 non-null    object \n",
      " 1   PED_TYPE_CODE  856 non-null    float64\n",
      " 2   SPEED_LIMIT    850 non-null    float64\n",
      " 3   COUNTY_NO      856 non-null    int64  \n",
      "dtypes: float64(2), int64(1), object(1)\n",
      "memory usage: 26.9+ KB\n"
     ]
    }
   ],
   "source": [
    "cyclists.info()"
   ]
  },
  {
   "cell_type": "code",
   "execution_count": 16,
   "metadata": {},
   "outputs": [
    {
     "data": {
      "text/plain": [
       "REPORT_NO\n",
       "MSP6207003P    3\n",
       "ADJ733002V     3\n",
       "ADJ642004W     2\n",
       "ADJ6080035     2\n",
       "BX41400010     2\n",
       "              ..\n",
       "ZL11580005     1\n",
       "ZVW250000T     1\n",
       "AC21790004     1\n",
       "ADH7370016     1\n",
       "MCP10480036    1\n",
       "Name: count, Length: 837, dtype: int64"
      ]
     },
     "execution_count": 16,
     "metadata": {},
     "output_type": "execute_result"
    }
   ],
   "source": [
    "cyclists.REPORT_NO.value_counts()"
   ]
  },
  {
   "cell_type": "code",
   "execution_count": 17,
   "metadata": {},
   "outputs": [
    {
     "data": {
      "text/html": [
       "<div>\n",
       "<style scoped>\n",
       "    .dataframe tbody tr th:only-of-type {\n",
       "        vertical-align: middle;\n",
       "    }\n",
       "\n",
       "    .dataframe tbody tr th {\n",
       "        vertical-align: top;\n",
       "    }\n",
       "\n",
       "    .dataframe thead th {\n",
       "        text-align: right;\n",
       "    }\n",
       "</style>\n",
       "<table border=\"1\" class=\"dataframe\">\n",
       "  <thead>\n",
       "    <tr style=\"text-align: right;\">\n",
       "      <th></th>\n",
       "      <th>REPORT_NO</th>\n",
       "      <th>PED_TYPE_CODE</th>\n",
       "      <th>SPEED_LIMIT</th>\n",
       "      <th>COUNTY_NO</th>\n",
       "    </tr>\n",
       "  </thead>\n",
       "  <tbody>\n",
       "    <tr>\n",
       "      <th>678</th>\n",
       "      <td>ADJ733002V</td>\n",
       "      <td>2.0</td>\n",
       "      <td>30.0</td>\n",
       "      <td>24</td>\n",
       "    </tr>\n",
       "    <tr>\n",
       "      <th>679</th>\n",
       "      <td>ADJ733002V</td>\n",
       "      <td>2.0</td>\n",
       "      <td>35.0</td>\n",
       "      <td>24</td>\n",
       "    </tr>\n",
       "    <tr>\n",
       "      <th>680</th>\n",
       "      <td>ADJ733002V</td>\n",
       "      <td>2.0</td>\n",
       "      <td>30.0</td>\n",
       "      <td>24</td>\n",
       "    </tr>\n",
       "  </tbody>\n",
       "</table>\n",
       "</div>"
      ],
      "text/plain": [
       "      REPORT_NO  PED_TYPE_CODE  SPEED_LIMIT  COUNTY_NO\n",
       "678  ADJ733002V            2.0         30.0         24\n",
       "679  ADJ733002V            2.0         35.0         24\n",
       "680  ADJ733002V            2.0         30.0         24"
      ]
     },
     "execution_count": 17,
     "metadata": {},
     "output_type": "execute_result"
    }
   ],
   "source": [
    "cyclists[cyclists['REPORT_NO']=='ADJ733002V']"
   ]
  },
  {
   "cell_type": "markdown",
   "metadata": {},
   "source": [
    "It appears when merging our data, we now find rows whwere speed limit is null. We additionally again have duplicate report numbers. Let's clean our new dataframe to remove rows with null values, and keep only the first instance of a report number for our analysis."
   ]
  },
  {
   "cell_type": "code",
   "execution_count": 18,
   "metadata": {},
   "outputs": [
    {
     "name": "stdout",
     "output_type": "stream",
     "text": [
      "<class 'pandas.core.frame.DataFrame'>\n",
      "RangeIndex: 856 entries, 0 to 855\n",
      "Data columns (total 4 columns):\n",
      " #   Column         Non-Null Count  Dtype  \n",
      "---  ------         --------------  -----  \n",
      " 0   REPORT_NO      856 non-null    object \n",
      " 1   PED_TYPE_CODE  856 non-null    float64\n",
      " 2   SPEED_LIMIT    850 non-null    float64\n",
      " 3   COUNTY_NO      856 non-null    int64  \n",
      "dtypes: float64(2), int64(1), object(1)\n",
      "memory usage: 26.9+ KB\n"
     ]
    }
   ],
   "source": [
    "cyclists.info()"
   ]
  },
  {
   "cell_type": "code",
   "execution_count": 19,
   "metadata": {},
   "outputs": [
    {
     "name": "stdout",
     "output_type": "stream",
     "text": [
      "<class 'pandas.core.frame.DataFrame'>\n",
      "RangeIndex: 850 entries, 0 to 849\n",
      "Data columns (total 4 columns):\n",
      " #   Column         Non-Null Count  Dtype  \n",
      "---  ------         --------------  -----  \n",
      " 0   REPORT_NO      850 non-null    object \n",
      " 1   PED_TYPE_CODE  850 non-null    float64\n",
      " 2   SPEED_LIMIT    850 non-null    float64\n",
      " 3   COUNTY_NO      850 non-null    int64  \n",
      "dtypes: float64(2), int64(1), object(1)\n",
      "memory usage: 26.7+ KB\n"
     ]
    }
   ],
   "source": [
    "cyclists=cyclists[cyclists['SPEED_LIMIT'].notnull()].reset_index(drop = True)\n",
    "cyclists.info()"
   ]
  },
  {
   "cell_type": "code",
   "execution_count": 20,
   "metadata": {},
   "outputs": [
    {
     "name": "stdout",
     "output_type": "stream",
     "text": [
      "(850, 4)\n",
      "(831, 4)\n"
     ]
    }
   ],
   "source": [
    "print(cyclists.shape)\n",
    "cyclists.drop_duplicates('REPORT_NO', keep = 'first', inplace=True)\n",
    "print(cyclists.shape)"
   ]
  },
  {
   "cell_type": "markdown",
   "metadata": {},
   "source": [
    "Let's use our reference material and add the actual county names to the corresponding county codes"
   ]
  },
  {
   "cell_type": "code",
   "execution_count": 21,
   "metadata": {},
   "outputs": [
    {
     "data": {
      "text/plain": [
       "county\n",
       "Worcester          196\n",
       "Kent               142\n",
       "Montgomery         122\n",
       "Baltimore City      96\n",
       "Anne Arundel        84\n",
       "Wicomico            33\n",
       "Dorchester          27\n",
       "Talbot              22\n",
       "Harford             21\n",
       "Cecil               16\n",
       "Washington          16\n",
       "Garrett             15\n",
       "Caroline             8\n",
       "Charles              7\n",
       "Carroll              6\n",
       "Queen Anne's         5\n",
       "Somerset             5\n",
       "Baltimore            4\n",
       "Allegany             2\n",
       "Calvert              2\n",
       "Prince George's      2\n",
       "Name: count, dtype: int64"
      ]
     },
     "execution_count": 21,
     "metadata": {},
     "output_type": "execute_result"
    }
   ],
   "source": [
    "county_codes = {1: \"Allegany\",\n",
    "                2: \"Anne Arundel\",\n",
    "                3: \"Baltimore City\",\n",
    "                4: \"Baltimore\",\n",
    "                5: \"Calvert\",\n",
    "                6: \"Caroline\",\n",
    "                7: \"Carroll\",\n",
    "                8: \"Cecil\",\n",
    "                9: \"Charles\",\n",
    "                10: \"Dorchester\",\n",
    "                11: \"Frederick\",\n",
    "                12: \"Garrett\",\n",
    "                13: \"Harford\",\n",
    "                14: \"Howard\",\n",
    "                15: \"Kent\",\n",
    "                16: \"Montgomery\",\n",
    "                17: \"Prince George's\",\n",
    "                18: \"Queen Anne's\",\n",
    "                19: \"St. Mary’s\",\n",
    "                20: \"Somerset\",\n",
    "                21: \"Talbot\",\n",
    "                22: \"Washington\",\n",
    "                23: \"Wicomico\",\n",
    "                24: \"Worcester\"}\n",
    "\n",
    "county_dict = {'COUNTY_NO': [key for key in county_codes.keys()],\n",
    "               'county': [value for value in county_codes.values()]}\n",
    "\n",
    "counties = pd.DataFrame(county_dict)\n",
    "counties\n",
    "\n",
    "cyclists = cyclists.merge(counties,\n",
    "               on = 'COUNTY_NO',\n",
    "               how = 'left')\n",
    "cyclists['county'].value_counts()"
   ]
  },
  {
   "cell_type": "markdown",
   "metadata": {},
   "source": [
    "Now that we have our cleaned data, let's begin analysis to answer our question:\n",
    ">Question 4 (15 points)\n",
    "a. For each county, determine the average speed of accidents involving bicyclists. (Note: Take a look at the Sample Maryland Crash Report. Report provides a map of the codes including those involving other bicyclists.)\n",
    "b. Sort the list the sorted by average speed."
   ]
  },
  {
   "cell_type": "code",
   "execution_count": 22,
   "metadata": {},
   "outputs": [
    {
     "data": {
      "text/plain": [
       "26.91335740072202"
      ]
     },
     "execution_count": 22,
     "metadata": {},
     "output_type": "execute_result"
    }
   ],
   "source": [
    "cyclists['SPEED_LIMIT'].mean()"
   ]
  },
  {
   "cell_type": "markdown",
   "metadata": {},
   "source": [
    "Overall, the average speed of crashes invovling bicylcists is roughly 27 mph. Let's see how this figure varies accross counties"
   ]
  },
  {
   "cell_type": "code",
   "execution_count": 23,
   "metadata": {},
   "outputs": [
    {
     "data": {
      "text/html": [
       "<div>\n",
       "<style scoped>\n",
       "    .dataframe tbody tr th:only-of-type {\n",
       "        vertical-align: middle;\n",
       "    }\n",
       "\n",
       "    .dataframe tbody tr th {\n",
       "        vertical-align: top;\n",
       "    }\n",
       "\n",
       "    .dataframe thead th {\n",
       "        text-align: right;\n",
       "    }\n",
       "</style>\n",
       "<table border=\"1\" class=\"dataframe\">\n",
       "  <thead>\n",
       "    <tr style=\"text-align: right;\">\n",
       "      <th></th>\n",
       "      <th>SPEED_LIMIT</th>\n",
       "      <th>accident_count</th>\n",
       "    </tr>\n",
       "    <tr>\n",
       "      <th>county</th>\n",
       "      <th></th>\n",
       "      <th></th>\n",
       "    </tr>\n",
       "  </thead>\n",
       "  <tbody>\n",
       "    <tr>\n",
       "      <th>Calvert</th>\n",
       "      <td>47.500000</td>\n",
       "      <td>2</td>\n",
       "    </tr>\n",
       "    <tr>\n",
       "      <th>Queen Anne's</th>\n",
       "      <td>35.000000</td>\n",
       "      <td>5</td>\n",
       "    </tr>\n",
       "    <tr>\n",
       "      <th>Caroline</th>\n",
       "      <td>34.375000</td>\n",
       "      <td>8</td>\n",
       "    </tr>\n",
       "    <tr>\n",
       "      <th>Somerset</th>\n",
       "      <td>33.000000</td>\n",
       "      <td>5</td>\n",
       "    </tr>\n",
       "    <tr>\n",
       "      <th>Wicomico</th>\n",
       "      <td>32.878788</td>\n",
       "      <td>33</td>\n",
       "    </tr>\n",
       "    <tr>\n",
       "      <th>Cecil</th>\n",
       "      <td>31.875000</td>\n",
       "      <td>16</td>\n",
       "    </tr>\n",
       "    <tr>\n",
       "      <th>Harford</th>\n",
       "      <td>31.666667</td>\n",
       "      <td>21</td>\n",
       "    </tr>\n",
       "    <tr>\n",
       "      <th>Washington</th>\n",
       "      <td>29.375000</td>\n",
       "      <td>16</td>\n",
       "    </tr>\n",
       "    <tr>\n",
       "      <th>Garrett</th>\n",
       "      <td>29.333333</td>\n",
       "      <td>15</td>\n",
       "    </tr>\n",
       "    <tr>\n",
       "      <th>Kent</th>\n",
       "      <td>28.838028</td>\n",
       "      <td>142</td>\n",
       "    </tr>\n",
       "    <tr>\n",
       "      <th>Dorchester</th>\n",
       "      <td>28.148148</td>\n",
       "      <td>27</td>\n",
       "    </tr>\n",
       "    <tr>\n",
       "      <th>Anne Arundel</th>\n",
       "      <td>27.559524</td>\n",
       "      <td>84</td>\n",
       "    </tr>\n",
       "    <tr>\n",
       "      <th>Carroll</th>\n",
       "      <td>27.500000</td>\n",
       "      <td>6</td>\n",
       "    </tr>\n",
       "    <tr>\n",
       "      <th>Montgomery</th>\n",
       "      <td>25.983607</td>\n",
       "      <td>122</td>\n",
       "    </tr>\n",
       "    <tr>\n",
       "      <th>Baltimore City</th>\n",
       "      <td>25.260417</td>\n",
       "      <td>96</td>\n",
       "    </tr>\n",
       "    <tr>\n",
       "      <th>Allegany</th>\n",
       "      <td>25.000000</td>\n",
       "      <td>2</td>\n",
       "    </tr>\n",
       "    <tr>\n",
       "      <th>Talbot</th>\n",
       "      <td>24.772727</td>\n",
       "      <td>22</td>\n",
       "    </tr>\n",
       "    <tr>\n",
       "      <th>Worcester</th>\n",
       "      <td>24.081633</td>\n",
       "      <td>196</td>\n",
       "    </tr>\n",
       "    <tr>\n",
       "      <th>Baltimore</th>\n",
       "      <td>22.500000</td>\n",
       "      <td>4</td>\n",
       "    </tr>\n",
       "    <tr>\n",
       "      <th>Charles</th>\n",
       "      <td>17.857143</td>\n",
       "      <td>7</td>\n",
       "    </tr>\n",
       "    <tr>\n",
       "      <th>Prince George's</th>\n",
       "      <td>12.500000</td>\n",
       "      <td>2</td>\n",
       "    </tr>\n",
       "  </tbody>\n",
       "</table>\n",
       "</div>"
      ],
      "text/plain": [
       "                 SPEED_LIMIT  accident_count\n",
       "county                                      \n",
       "Calvert            47.500000               2\n",
       "Queen Anne's       35.000000               5\n",
       "Caroline           34.375000               8\n",
       "Somerset           33.000000               5\n",
       "Wicomico           32.878788              33\n",
       "Cecil              31.875000              16\n",
       "Harford            31.666667              21\n",
       "Washington         29.375000              16\n",
       "Garrett            29.333333              15\n",
       "Kent               28.838028             142\n",
       "Dorchester         28.148148              27\n",
       "Anne Arundel       27.559524              84\n",
       "Carroll            27.500000               6\n",
       "Montgomery         25.983607             122\n",
       "Baltimore City     25.260417              96\n",
       "Allegany           25.000000               2\n",
       "Talbot             24.772727              22\n",
       "Worcester          24.081633             196\n",
       "Baltimore          22.500000               4\n",
       "Charles            17.857143               7\n",
       "Prince George's    12.500000               2"
      ]
     },
     "execution_count": 23,
     "metadata": {},
     "output_type": "execute_result"
    }
   ],
   "source": [
    "avg_speed=pd.DataFrame(cyclists[['SPEED_LIMIT','county']].groupby(by='county').mean())\n",
    "avg_speed['accident_count']=cyclists[['REPORT_NO','county']].groupby(by='county').count()\n",
    "avg_speed.sort_values(by='SPEED_LIMIT', ascending=False, inplace=True)\n",
    "avg_speed"
   ]
  },
  {
   "cell_type": "markdown",
   "metadata": {},
   "source": [
    "Our data shows us that Calvert County has the highest average speed among crashes invovling bicyclists, while Prince George's County has the lowest average speed. It's also important to note that our counties vary in the number of accidents involving bicyclists. This may represent a data balance issue. \n",
    "\n",
    "It is also important to note that we're using the speed limit to assume the speed of the vehicle in the accident. In reality, the vehichle may have been speeding, or going under the speed limit. It may be difficult for law enforcement to collect this data after arriving on the scene of an accident. "
   ]
  },
  {
   "cell_type": "markdown",
   "metadata": {},
   "source": [
    "## Question 5"
   ]
  },
  {
   "cell_type": "markdown",
   "metadata": {},
   "source": [
    "Let's review question 5: \n",
    ">Question 5 (15 points)\n",
    "a. Determine the total number of crashes per \"vehicle make\". Sort the results in alphabetical order by vehicle make (e.g. Chevrolet, Ford, Honda, etc.).\n",
    "b. Determine average age of the car involved in these accidents for each \"vehicle make\"."
   ]
  },
  {
   "cell_type": "markdown",
   "metadata": {},
   "source": [
    "| Info Needed                       |   Question | Dataset                    | Column              |\n",
    "|:----------------------------------|:----------:|:--------------------------:|:-------------------:|\n",
    "| Vehicle Type                      |          5 | MD_Crash_Vehicle_Data_2017 | VEH_MAKE            |\n",
    "| Year of Manufacture               |          5 | MD_Crash_Vehicle_Data_2017 | VEH_YEAR            |"
   ]
  },
  {
   "cell_type": "markdown",
   "metadata": {},
   "source": [
    "For this question, we'll need two columns from the vehicle dataset: `VEH_MAKE` and `VEH_YEAR`. Let's create a new dataframe for our relevant data."
   ]
  },
  {
   "cell_type": "code",
   "execution_count": 24,
   "metadata": {},
   "outputs": [
    {
     "data": {
      "text/html": [
       "<div>\n",
       "<style scoped>\n",
       "    .dataframe tbody tr th:only-of-type {\n",
       "        vertical-align: middle;\n",
       "    }\n",
       "\n",
       "    .dataframe tbody tr th {\n",
       "        vertical-align: top;\n",
       "    }\n",
       "\n",
       "    .dataframe thead th {\n",
       "        text-align: right;\n",
       "    }\n",
       "</style>\n",
       "<table border=\"1\" class=\"dataframe\">\n",
       "  <thead>\n",
       "    <tr style=\"text-align: right;\">\n",
       "      <th></th>\n",
       "      <th>VEH_MAKE</th>\n",
       "      <th>VEH_YEAR</th>\n",
       "    </tr>\n",
       "  </thead>\n",
       "  <tbody>\n",
       "    <tr>\n",
       "      <th>0</th>\n",
       "      <td>HYUNDAI</td>\n",
       "      <td>2006.0</td>\n",
       "    </tr>\n",
       "    <tr>\n",
       "      <th>1</th>\n",
       "      <td>FORD</td>\n",
       "      <td>2003.0</td>\n",
       "    </tr>\n",
       "    <tr>\n",
       "      <th>2</th>\n",
       "      <td>DODGE</td>\n",
       "      <td>2007.0</td>\n",
       "    </tr>\n",
       "    <tr>\n",
       "      <th>3</th>\n",
       "      <td>HYUNDAI</td>\n",
       "      <td>2013.0</td>\n",
       "    </tr>\n",
       "    <tr>\n",
       "      <th>4</th>\n",
       "      <td>THOM</td>\n",
       "      <td>2007.0</td>\n",
       "    </tr>\n",
       "    <tr>\n",
       "      <th>...</th>\n",
       "      <td>...</td>\n",
       "      <td>...</td>\n",
       "    </tr>\n",
       "    <tr>\n",
       "      <th>212786</th>\n",
       "      <td>HONDA</td>\n",
       "      <td>2003.0</td>\n",
       "    </tr>\n",
       "    <tr>\n",
       "      <th>212787</th>\n",
       "      <td>FORD</td>\n",
       "      <td>2012.0</td>\n",
       "    </tr>\n",
       "    <tr>\n",
       "      <th>212788</th>\n",
       "      <td>HONDA</td>\n",
       "      <td>2005.0</td>\n",
       "    </tr>\n",
       "    <tr>\n",
       "      <th>212789</th>\n",
       "      <td>CHEVY</td>\n",
       "      <td>1995.0</td>\n",
       "    </tr>\n",
       "    <tr>\n",
       "      <th>212790</th>\n",
       "      <td>TOYOTA</td>\n",
       "      <td>2011.0</td>\n",
       "    </tr>\n",
       "  </tbody>\n",
       "</table>\n",
       "<p>212791 rows × 2 columns</p>\n",
       "</div>"
      ],
      "text/plain": [
       "       VEH_MAKE  VEH_YEAR\n",
       "0       HYUNDAI    2006.0\n",
       "1          FORD    2003.0\n",
       "2         DODGE    2007.0\n",
       "3       HYUNDAI    2013.0\n",
       "4          THOM    2007.0\n",
       "...         ...       ...\n",
       "212786    HONDA    2003.0\n",
       "212787     FORD    2012.0\n",
       "212788    HONDA    2005.0\n",
       "212789    CHEVY    1995.0\n",
       "212790   TOYOTA    2011.0\n",
       "\n",
       "[212791 rows x 2 columns]"
      ]
     },
     "execution_count": 24,
     "metadata": {},
     "output_type": "execute_result"
    }
   ],
   "source": [
    "vehicles=MD_Crash_Vehicle_Data_2017[['VEH_MAKE','VEH_YEAR']].copy()\n",
    "vehicles"
   ]
  },
  {
   "cell_type": "code",
   "execution_count": 25,
   "metadata": {},
   "outputs": [
    {
     "name": "stdout",
     "output_type": "stream",
     "text": [
      "<class 'pandas.core.frame.DataFrame'>\n",
      "RangeIndex: 212791 entries, 0 to 212790\n",
      "Data columns (total 2 columns):\n",
      " #   Column    Non-Null Count   Dtype  \n",
      "---  ------    --------------   -----  \n",
      " 0   VEH_MAKE  212764 non-null  object \n",
      " 1   VEH_YEAR  202506 non-null  float64\n",
      "dtypes: float64(1), object(1)\n",
      "memory usage: 3.2+ MB\n"
     ]
    }
   ],
   "source": [
    "vehicles.info()"
   ]
  },
  {
   "cell_type": "markdown",
   "metadata": {},
   "source": [
    "Since we're missing some data from `VEH_YEAR`, let's drop all the rows that are missing a vehicle year"
   ]
  },
  {
   "cell_type": "code",
   "execution_count": 26,
   "metadata": {},
   "outputs": [
    {
     "name": "stdout",
     "output_type": "stream",
     "text": [
      "<class 'pandas.core.frame.DataFrame'>\n",
      "RangeIndex: 202506 entries, 0 to 202505\n",
      "Data columns (total 2 columns):\n",
      " #   Column    Non-Null Count   Dtype  \n",
      "---  ------    --------------   -----  \n",
      " 0   VEH_MAKE  202479 non-null  object \n",
      " 1   VEH_YEAR  202506 non-null  float64\n",
      "dtypes: float64(1), object(1)\n",
      "memory usage: 3.1+ MB\n"
     ]
    }
   ],
   "source": [
    "vehicles=vehicles[vehicles['VEH_YEAR'].notnull()].reset_index(drop=True)\n",
    "vehicles.info()"
   ]
  },
  {
   "cell_type": "markdown",
   "metadata": {},
   "source": [
    "There's some additional rows where we have `VEH_YEAR` but missing `VEH_MAKE`. We'll remove these rows as well"
   ]
  },
  {
   "cell_type": "code",
   "execution_count": 27,
   "metadata": {},
   "outputs": [
    {
     "name": "stdout",
     "output_type": "stream",
     "text": [
      "<class 'pandas.core.frame.DataFrame'>\n",
      "RangeIndex: 202479 entries, 0 to 202478\n",
      "Data columns (total 2 columns):\n",
      " #   Column    Non-Null Count   Dtype  \n",
      "---  ------    --------------   -----  \n",
      " 0   VEH_MAKE  202479 non-null  object \n",
      " 1   VEH_YEAR  202479 non-null  float64\n",
      "dtypes: float64(1), object(1)\n",
      "memory usage: 3.1+ MB\n"
     ]
    }
   ],
   "source": [
    "vehicles=vehicles[vehicles['VEH_MAKE'].notnull()].reset_index(drop=True)\n",
    "vehicles.info()"
   ]
  },
  {
   "cell_type": "code",
   "execution_count": 28,
   "metadata": {},
   "outputs": [
    {
     "data": {
      "text/plain": [
       "count    202479.000000\n",
       "mean       2001.710568\n",
       "std         221.090826\n",
       "min           0.000000\n",
       "25%        2004.000000\n",
       "50%        2009.000000\n",
       "75%        2014.000000\n",
       "max        9999.000000\n",
       "Name: VEH_YEAR, dtype: float64"
      ]
     },
     "execution_count": 28,
     "metadata": {},
     "output_type": "execute_result"
    }
   ],
   "source": [
    "vehicles.VEH_YEAR.describe()"
   ]
  },
  {
   "cell_type": "markdown",
   "metadata": {},
   "source": [
    "Upon looking at the values for `VEH_YEAR`, we can see there's some years that don't make sense. We should remove the rows with bad data from our dataset."
   ]
  },
  {
   "cell_type": "code",
   "execution_count": 29,
   "metadata": {},
   "outputs": [
    {
     "data": {
      "text/plain": [
       "(-inf, 1917.0]        1301\n",
       "(1917.0, 2017.0]    200368\n",
       "(2017.0, inf]          810\n",
       "Name: count, dtype: int64"
      ]
     },
     "execution_count": 29,
     "metadata": {},
     "output_type": "execute_result"
    }
   ],
   "source": [
    "vehicles.VEH_YEAR.value_counts(bins = [-np.inf,1917,2017,np.inf],\n",
    "                               sort=False)"
   ]
  },
  {
   "cell_type": "markdown",
   "metadata": {},
   "source": [
    "We'll drop all rows that contain a `VEH_YEAR` outside the range of 1917-2017"
   ]
  },
  {
   "cell_type": "code",
   "execution_count": 30,
   "metadata": {},
   "outputs": [
    {
     "data": {
      "text/html": [
       "<div>\n",
       "<style scoped>\n",
       "    .dataframe tbody tr th:only-of-type {\n",
       "        vertical-align: middle;\n",
       "    }\n",
       "\n",
       "    .dataframe tbody tr th {\n",
       "        vertical-align: top;\n",
       "    }\n",
       "\n",
       "    .dataframe thead th {\n",
       "        text-align: right;\n",
       "    }\n",
       "</style>\n",
       "<table border=\"1\" class=\"dataframe\">\n",
       "  <thead>\n",
       "    <tr style=\"text-align: right;\">\n",
       "      <th></th>\n",
       "      <th>VEH_YEAR</th>\n",
       "    </tr>\n",
       "  </thead>\n",
       "  <tbody>\n",
       "    <tr>\n",
       "      <th>count</th>\n",
       "      <td>200368.000000</td>\n",
       "    </tr>\n",
       "    <tr>\n",
       "      <th>mean</th>\n",
       "      <td>2008.514628</td>\n",
       "    </tr>\n",
       "    <tr>\n",
       "      <th>std</th>\n",
       "      <td>6.079263</td>\n",
       "    </tr>\n",
       "    <tr>\n",
       "      <th>min</th>\n",
       "      <td>1919.000000</td>\n",
       "    </tr>\n",
       "    <tr>\n",
       "      <th>25%</th>\n",
       "      <td>2004.000000</td>\n",
       "    </tr>\n",
       "    <tr>\n",
       "      <th>50%</th>\n",
       "      <td>2009.000000</td>\n",
       "    </tr>\n",
       "    <tr>\n",
       "      <th>75%</th>\n",
       "      <td>2014.000000</td>\n",
       "    </tr>\n",
       "    <tr>\n",
       "      <th>max</th>\n",
       "      <td>2017.000000</td>\n",
       "    </tr>\n",
       "  </tbody>\n",
       "</table>\n",
       "</div>"
      ],
      "text/plain": [
       "            VEH_YEAR\n",
       "count  200368.000000\n",
       "mean     2008.514628\n",
       "std         6.079263\n",
       "min      1919.000000\n",
       "25%      2004.000000\n",
       "50%      2009.000000\n",
       "75%      2014.000000\n",
       "max      2017.000000"
      ]
     },
     "execution_count": 30,
     "metadata": {},
     "output_type": "execute_result"
    }
   ],
   "source": [
    "vehicles=vehicles.loc[(vehicles['VEH_YEAR'] > 1917) & (vehicles['VEH_YEAR'] <= 2017)].reset_index(drop=True)\n",
    "vehicles.describe()"
   ]
  },
  {
   "cell_type": "markdown",
   "metadata": {},
   "source": [
    "To calculate age of the car, we'll create a derived feature named `age`. Since the data was collected in 2017, we'll subtract the vehicle year from 2017 to calculate the age of the car."
   ]
  },
  {
   "cell_type": "code",
   "execution_count": 31,
   "metadata": {},
   "outputs": [
    {
     "data": {
      "text/html": [
       "<div>\n",
       "<style scoped>\n",
       "    .dataframe tbody tr th:only-of-type {\n",
       "        vertical-align: middle;\n",
       "    }\n",
       "\n",
       "    .dataframe tbody tr th {\n",
       "        vertical-align: top;\n",
       "    }\n",
       "\n",
       "    .dataframe thead th {\n",
       "        text-align: right;\n",
       "    }\n",
       "</style>\n",
       "<table border=\"1\" class=\"dataframe\">\n",
       "  <thead>\n",
       "    <tr style=\"text-align: right;\">\n",
       "      <th></th>\n",
       "      <th>VEH_YEAR</th>\n",
       "      <th>age</th>\n",
       "    </tr>\n",
       "  </thead>\n",
       "  <tbody>\n",
       "    <tr>\n",
       "      <th>count</th>\n",
       "      <td>200368.000000</td>\n",
       "      <td>200368.000000</td>\n",
       "    </tr>\n",
       "    <tr>\n",
       "      <th>mean</th>\n",
       "      <td>2008.514628</td>\n",
       "      <td>8.485372</td>\n",
       "    </tr>\n",
       "    <tr>\n",
       "      <th>std</th>\n",
       "      <td>6.079263</td>\n",
       "      <td>6.079263</td>\n",
       "    </tr>\n",
       "    <tr>\n",
       "      <th>min</th>\n",
       "      <td>1919.000000</td>\n",
       "      <td>0.000000</td>\n",
       "    </tr>\n",
       "    <tr>\n",
       "      <th>25%</th>\n",
       "      <td>2004.000000</td>\n",
       "      <td>3.000000</td>\n",
       "    </tr>\n",
       "    <tr>\n",
       "      <th>50%</th>\n",
       "      <td>2009.000000</td>\n",
       "      <td>8.000000</td>\n",
       "    </tr>\n",
       "    <tr>\n",
       "      <th>75%</th>\n",
       "      <td>2014.000000</td>\n",
       "      <td>13.000000</td>\n",
       "    </tr>\n",
       "    <tr>\n",
       "      <th>max</th>\n",
       "      <td>2017.000000</td>\n",
       "      <td>98.000000</td>\n",
       "    </tr>\n",
       "  </tbody>\n",
       "</table>\n",
       "</div>"
      ],
      "text/plain": [
       "            VEH_YEAR            age\n",
       "count  200368.000000  200368.000000\n",
       "mean     2008.514628       8.485372\n",
       "std         6.079263       6.079263\n",
       "min      1919.000000       0.000000\n",
       "25%      2004.000000       3.000000\n",
       "50%      2009.000000       8.000000\n",
       "75%      2014.000000      13.000000\n",
       "max      2017.000000      98.000000"
      ]
     },
     "execution_count": 31,
     "metadata": {},
     "output_type": "execute_result"
    }
   ],
   "source": [
    "vehicles['age']=2017-vehicles['VEH_YEAR']\n",
    "vehicles.describe()"
   ]
  },
  {
   "cell_type": "markdown",
   "metadata": {},
   "source": [
    "Let's take a look at the `VEH_MAKE` data."
   ]
  },
  {
   "cell_type": "code",
   "execution_count": 32,
   "metadata": {},
   "outputs": [
    {
     "data": {
      "text/plain": [
       "VEH_MAKE\n",
       "FORD           25419\n",
       "TOYOTA         19543\n",
       "HONDA          18717\n",
       "NISSAN         12102\n",
       "CHEVY           7997\n",
       "               ...  \n",
       "HYANDIA            1\n",
       "GRDN               1\n",
       " NEWFLYER          1\n",
       "CATERPILLER        1\n",
       "SUSBARU            1\n",
       "Name: count, Length: 2600, dtype: int64"
      ]
     },
     "execution_count": 32,
     "metadata": {},
     "output_type": "execute_result"
    }
   ],
   "source": [
    "pd.set_option('display.max_rows', 75) \n",
    "vehicles['VEH_MAKE'].value_counts()"
   ]
  },
  {
   "cell_type": "markdown",
   "metadata": {},
   "source": [
    "It appears there's quite a few typos in our data as well as different coding for the different vehicle makes. Let's see if we can clean some of the rows to make our data more useful."
   ]
  },
  {
   "cell_type": "code",
   "execution_count": 33,
   "metadata": {},
   "outputs": [
    {
     "data": {
      "text/plain": [
       "VEH_MAKE\n",
       "FORD          26253\n",
       "TOYOTA        20076\n",
       "HONDA         19378\n",
       "NISSAN        12609\n",
       "CHEVY          8343\n",
       "              ...  \n",
       "SORENTO           1\n",
       "DODDGE            1\n",
       "HERL              1\n",
       "CHYEVROLET        1\n",
       "SUSBARU           1\n",
       "Name: count, Length: 2334, dtype: int64"
      ]
     },
     "execution_count": 33,
     "metadata": {},
     "output_type": "execute_result"
    }
   ],
   "source": [
    "#removing whitespace\n",
    "vehicles['VEH_MAKE']=vehicles['VEH_MAKE'].str.strip()\n",
    "vehicles['VEH_MAKE'].value_counts()"
   ]
  },
  {
   "cell_type": "markdown",
   "metadata": {},
   "source": [
    "In an attempt to catch typos and minimize the loss of our data. I created a dictionary based off the stems of the most common vehicle makes found in our data. We then used the `mask()` function to create a boolean index of our column, and then rename the data based of the corresponding value in our dictionary."
   ]
  },
  {
   "cell_type": "code",
   "execution_count": 34,
   "metadata": {},
   "outputs": [
    {
     "data": {
      "text/plain": [
       "VEH_MAKE\n",
       "TOYOTA          26767\n",
       "FORD            26295\n",
       "HONDA           23086\n",
       "CHEVROLET       20708\n",
       "NISSAN          15688\n",
       "                ...  \n",
       "PAIG                1\n",
       "GILLID              1\n",
       "COBRA               1\n",
       "SPARTAN/ROSE        1\n",
       "SUSBARU             1\n",
       "Name: count, Length: 1845, dtype: int64"
      ]
     },
     "execution_count": 34,
     "metadata": {},
     "output_type": "execute_result"
    }
   ],
   "source": [
    "stems={  'FOR':'FORD',\n",
    "         'TOY':'TOYOTA',\n",
    "         'HON':'HONDA',\n",
    "         'NIS':'NISSAN',\n",
    "         'CHEV':'CHEVROLET',\n",
    "         'DODG':'DODGE',\n",
    "         'HYU':'HYUNDAI',\n",
    "         'VOLK':'VW',\n",
    "         'ACU':'ACURA',\n",
    "         'LEX':'LEXUS',\n",
    "         'MAZ':'MAZDA',\n",
    "         'CHRY':'CHRYSLER',\n",
    "         'MERC':'MERCEDES BENZ',\n",
    "         'MERZ':'MERCEDES BENZ',\n",
    "         'BUIC':'BUICK',\n",
    "         'CADI':'CADILLAC',\n",
    "         'INF':'INFINITY',\n",
    "         'SUZ':'SUZUKI',\n",
    "         'MITS':'MITSUBISHI'\n",
    "      }\n",
    "\n",
    "#Using boolean masking to rename \n",
    "for stem in stems.keys():\n",
    "    vehicles['VEH_MAKE'].mask(vehicles['VEH_MAKE'].str.contains(stem), \n",
    "                              other = stems[stem],\n",
    "                              inplace = True)\n",
    "        \n",
    "vehicles['VEH_MAKE'].value_counts()"
   ]
  },
  {
   "cell_type": "markdown",
   "metadata": {},
   "source": [
    "Although not perfect, we managed to aggregate some of the most common typos found within the `VEH_MAKE` column. From here, let's limit our data to the only the rows that contain one of the top 15 most common vehicle makes."
   ]
  },
  {
   "cell_type": "code",
   "execution_count": 35,
   "metadata": {},
   "outputs": [
    {
     "data": {
      "text/plain": [
       "['TOYOTA',\n",
       " 'FORD',\n",
       " 'HONDA',\n",
       " 'CHEVROLET',\n",
       " 'NISSAN',\n",
       " 'DODGE',\n",
       " 'HYUNDAI',\n",
       " 'JEEP',\n",
       " 'MERCEDES BENZ',\n",
       " 'ACURA',\n",
       " 'CHRYSLER',\n",
       " 'KIA',\n",
       " 'VW',\n",
       " 'LEXUS',\n",
       " 'MAZDA']"
      ]
     },
     "execution_count": 35,
     "metadata": {},
     "output_type": "execute_result"
    }
   ],
   "source": [
    "top_makes = list(vehicles['VEH_MAKE'].value_counts()[:15].index)\n",
    "top_makes"
   ]
  },
  {
   "cell_type": "code",
   "execution_count": 36,
   "metadata": {},
   "outputs": [
    {
     "name": "stdout",
     "output_type": "stream",
     "text": [
      "<class 'pandas.core.frame.DataFrame'>\n",
      "RangeIndex: 162656 entries, 0 to 162655\n",
      "Data columns (total 3 columns):\n",
      " #   Column    Non-Null Count   Dtype  \n",
      "---  ------    --------------   -----  \n",
      " 0   VEH_MAKE  162656 non-null  object \n",
      " 1   VEH_YEAR  162656 non-null  float64\n",
      " 2   age       162656 non-null  float64\n",
      "dtypes: float64(2), object(1)\n",
      "memory usage: 3.7+ MB\n"
     ]
    }
   ],
   "source": [
    "vehicles=vehicles[vehicles['VEH_MAKE'].isin(top_makes)].reset_index(drop=True)\n",
    "vehicles.info()"
   ]
  },
  {
   "cell_type": "markdown",
   "metadata": {},
   "source": [
    "now that we've created a clean dataset, let's answer our question:\n",
    "\n",
    ">Question 5 (15 points)\n",
    "a. Determine the total number of crashes per \"vehicle make\". Sort the results in alphabetical order by vehicle make (e.g. Chevrolet, Ford, Honda, etc.).\n",
    "b. Determine average age of the car involved in these accidents for each \"vehicle make\"."
   ]
  },
  {
   "cell_type": "code",
   "execution_count": 37,
   "metadata": {},
   "outputs": [
    {
     "data": {
      "text/html": [
       "<div>\n",
       "<style scoped>\n",
       "    .dataframe tbody tr th:only-of-type {\n",
       "        vertical-align: middle;\n",
       "    }\n",
       "\n",
       "    .dataframe tbody tr th {\n",
       "        vertical-align: top;\n",
       "    }\n",
       "\n",
       "    .dataframe thead th {\n",
       "        text-align: right;\n",
       "    }\n",
       "</style>\n",
       "<table border=\"1\" class=\"dataframe\">\n",
       "  <thead>\n",
       "    <tr style=\"text-align: right;\">\n",
       "      <th></th>\n",
       "      <th>Avg Age</th>\n",
       "      <th>Total Crashes</th>\n",
       "    </tr>\n",
       "    <tr>\n",
       "      <th>VEH_MAKE</th>\n",
       "      <th></th>\n",
       "      <th></th>\n",
       "    </tr>\n",
       "  </thead>\n",
       "  <tbody>\n",
       "    <tr>\n",
       "      <th>ACURA</th>\n",
       "      <td>10.288185</td>\n",
       "      <td>4105</td>\n",
       "    </tr>\n",
       "    <tr>\n",
       "      <th>CHEVROLET</th>\n",
       "      <td>8.754443</td>\n",
       "      <td>20708</td>\n",
       "    </tr>\n",
       "    <tr>\n",
       "      <th>CHRYSLER</th>\n",
       "      <td>8.113977</td>\n",
       "      <td>3799</td>\n",
       "    </tr>\n",
       "    <tr>\n",
       "      <th>DODGE</th>\n",
       "      <td>8.502831</td>\n",
       "      <td>9359</td>\n",
       "    </tr>\n",
       "    <tr>\n",
       "      <th>FORD</th>\n",
       "      <td>8.645522</td>\n",
       "      <td>26295</td>\n",
       "    </tr>\n",
       "    <tr>\n",
       "      <th>HONDA</th>\n",
       "      <td>9.093823</td>\n",
       "      <td>23086</td>\n",
       "    </tr>\n",
       "    <tr>\n",
       "      <th>HYUNDAI</th>\n",
       "      <td>5.627875</td>\n",
       "      <td>8739</td>\n",
       "    </tr>\n",
       "    <tr>\n",
       "      <th>JEEP</th>\n",
       "      <td>7.844715</td>\n",
       "      <td>5345</td>\n",
       "    </tr>\n",
       "    <tr>\n",
       "      <th>KIA</th>\n",
       "      <td>5.321447</td>\n",
       "      <td>3786</td>\n",
       "    </tr>\n",
       "    <tr>\n",
       "      <th>LEXUS</th>\n",
       "      <td>9.575585</td>\n",
       "      <td>3506</td>\n",
       "    </tr>\n",
       "    <tr>\n",
       "      <th>MAZDA</th>\n",
       "      <td>7.816984</td>\n",
       "      <td>3415</td>\n",
       "    </tr>\n",
       "    <tr>\n",
       "      <th>MERCEDES BENZ</th>\n",
       "      <td>10.604190</td>\n",
       "      <td>4439</td>\n",
       "    </tr>\n",
       "    <tr>\n",
       "      <th>NISSAN</th>\n",
       "      <td>6.958440</td>\n",
       "      <td>15688</td>\n",
       "    </tr>\n",
       "    <tr>\n",
       "      <th>TOYOTA</th>\n",
       "      <td>8.538051</td>\n",
       "      <td>26767</td>\n",
       "    </tr>\n",
       "    <tr>\n",
       "      <th>VW</th>\n",
       "      <td>7.292346</td>\n",
       "      <td>3619</td>\n",
       "    </tr>\n",
       "  </tbody>\n",
       "</table>\n",
       "</div>"
      ],
      "text/plain": [
       "                 Avg Age  Total Crashes\n",
       "VEH_MAKE                               \n",
       "ACURA          10.288185           4105\n",
       "CHEVROLET       8.754443          20708\n",
       "CHRYSLER        8.113977           3799\n",
       "DODGE           8.502831           9359\n",
       "FORD            8.645522          26295\n",
       "HONDA           9.093823          23086\n",
       "HYUNDAI         5.627875           8739\n",
       "JEEP            7.844715           5345\n",
       "KIA             5.321447           3786\n",
       "LEXUS           9.575585           3506\n",
       "MAZDA           7.816984           3415\n",
       "MERCEDES BENZ  10.604190           4439\n",
       "NISSAN          6.958440          15688\n",
       "TOYOTA          8.538051          26767\n",
       "VW              7.292346           3619"
      ]
     },
     "execution_count": 37,
     "metadata": {},
     "output_type": "execute_result"
    }
   ],
   "source": [
    "veh_stats = pd.DataFrame()\n",
    "veh_stats = vehicles[['VEH_MAKE','age']].groupby('VEH_MAKE').mean()\n",
    "veh_stats['crash_count']=vehicles['VEH_MAKE'].value_counts()\n",
    "veh_stats.rename(columns = {'age':'Avg Age',\n",
    "                            'crash_count':'Total Crashes'},\n",
    "                 inplace = True)\n",
    "veh_stats"
   ]
  },
  {
   "cell_type": "markdown",
   "metadata": {},
   "source": [
    "## Question 6"
   ]
  },
  {
   "cell_type": "markdown",
   "metadata": {},
   "source": [
    "Let's review Question 6:\n",
    ">Question 6 (15 points)\r\n",
    "a. Determine all the accidents that happened in a circle centered at (39.197753, -77.263303) with a radius of 5 km.\r\n",
    "b. Determine the number of accidents where the speed limit was above 51 miles per hour within the 5 km circle.\r\n",
    "c. Determine the number of accidents where the speed limit was below 41 miles per hour within the 5 km circl.\r\n",
    "\r\n",
    "Hint: Please see the \"P1_Helper_Distance_From_Coordinates.ipynb\" that can be found in the Project1 folder."
   ]
  },
  {
   "cell_type": "markdown",
   "metadata": {},
   "source": [
    "| Info Needed                       |   Question | Dataset                    | Column              |\n",
    "|:----------------------------------|:----------:|:--------------------------:|:-------------------:|\n",
    "| Location of Accident              |          6 | MD_Crash_Data_2017         | LATITUDE            |\n",
    "| Location of Accident              |          6 | MD_Crash_Data_2017         | LONGITIUDE          |\n",
    "| Speed Limit                       |          6 | MD_Crash_Vehicle_Data_2017         | SPEED_LIMIT       |"
   ]
  },
  {
   "cell_type": "code",
   "execution_count": 38,
   "metadata": {},
   "outputs": [
    {
     "data": {
      "text/html": [
       "<div>\n",
       "<style scoped>\n",
       "    .dataframe tbody tr th:only-of-type {\n",
       "        vertical-align: middle;\n",
       "    }\n",
       "\n",
       "    .dataframe tbody tr th {\n",
       "        vertical-align: top;\n",
       "    }\n",
       "\n",
       "    .dataframe thead th {\n",
       "        text-align: right;\n",
       "    }\n",
       "</style>\n",
       "<table border=\"1\" class=\"dataframe\">\n",
       "  <thead>\n",
       "    <tr style=\"text-align: right;\">\n",
       "      <th></th>\n",
       "      <th>REPORT_NO</th>\n",
       "      <th>LATITUDE</th>\n",
       "      <th>LONGITUDE</th>\n",
       "      <th>SPEED_LIMIT</th>\n",
       "    </tr>\n",
       "  </thead>\n",
       "  <tbody>\n",
       "    <tr>\n",
       "      <th>0</th>\n",
       "      <td>BK02110007</td>\n",
       "      <td>39.643784</td>\n",
       "      <td>-75.877094</td>\n",
       "      <td>25</td>\n",
       "    </tr>\n",
       "    <tr>\n",
       "      <th>1</th>\n",
       "      <td>BK02110007</td>\n",
       "      <td>39.643784</td>\n",
       "      <td>-75.877094</td>\n",
       "      <td>25</td>\n",
       "    </tr>\n",
       "    <tr>\n",
       "      <th>2</th>\n",
       "      <td>MCP2964000H</td>\n",
       "      <td>39.265245</td>\n",
       "      <td>-77.215697</td>\n",
       "      <td>25</td>\n",
       "    </tr>\n",
       "    <tr>\n",
       "      <th>3</th>\n",
       "      <td>MCP2964000H</td>\n",
       "      <td>39.265245</td>\n",
       "      <td>-77.215697</td>\n",
       "      <td>25</td>\n",
       "    </tr>\n",
       "    <tr>\n",
       "      <th>4</th>\n",
       "      <td>CP0138000K</td>\n",
       "      <td>38.947928</td>\n",
       "      <td>-76.962365</td>\n",
       "      <td>20</td>\n",
       "    </tr>\n",
       "  </tbody>\n",
       "</table>\n",
       "</div>"
      ],
      "text/plain": [
       "     REPORT_NO   LATITUDE  LONGITUDE  SPEED_LIMIT\n",
       "0   BK02110007  39.643784 -75.877094           25\n",
       "1   BK02110007  39.643784 -75.877094           25\n",
       "2  MCP2964000H  39.265245 -77.215697           25\n",
       "3  MCP2964000H  39.265245 -77.215697           25\n",
       "4   CP0138000K  38.947928 -76.962365           20"
      ]
     },
     "execution_count": 38,
     "metadata": {},
     "output_type": "execute_result"
    }
   ],
   "source": [
    "crash_loc = MD_Crash_Data_2017[['REPORT_NO','LATITUDE','LONGITUDE']].copy()\n",
    "crash_loc = crash_loc.merge(MD_Crash_Vehicle_Data_2017[['REPORT_NO','SPEED_LIMIT']],\n",
    "                on='REPORT_NO')\n",
    "crash_loc.head()"
   ]
  },
  {
   "cell_type": "code",
   "execution_count": 39,
   "metadata": {},
   "outputs": [
    {
     "name": "stdout",
     "output_type": "stream",
     "text": [
      "<class 'pandas.core.frame.DataFrame'>\n",
      "RangeIndex: 212791 entries, 0 to 212790\n",
      "Data columns (total 4 columns):\n",
      " #   Column       Non-Null Count   Dtype  \n",
      "---  ------       --------------   -----  \n",
      " 0   REPORT_NO    212791 non-null  object \n",
      " 1   LATITUDE     212791 non-null  float64\n",
      " 2   LONGITUDE    212791 non-null  float64\n",
      " 3   SPEED_LIMIT  212791 non-null  int64  \n",
      "dtypes: float64(2), int64(1), object(1)\n",
      "memory usage: 6.5+ MB\n"
     ]
    }
   ],
   "source": [
    "crash_loc.info()"
   ]
  },
  {
   "cell_type": "code",
   "execution_count": 40,
   "metadata": {},
   "outputs": [
    {
     "name": "stdout",
     "output_type": "stream",
     "text": [
      "<class 'pandas.core.frame.DataFrame'>\n",
      "RangeIndex: 113170 entries, 0 to 113169\n",
      "Data columns (total 4 columns):\n",
      " #   Column       Non-Null Count   Dtype  \n",
      "---  ------       --------------   -----  \n",
      " 0   REPORT_NO    113170 non-null  object \n",
      " 1   LATITUDE     113170 non-null  float64\n",
      " 2   LONGITUDE    113170 non-null  float64\n",
      " 3   SPEED_LIMIT  113170 non-null  int64  \n",
      "dtypes: float64(2), int64(1), object(1)\n",
      "memory usage: 3.5+ MB\n"
     ]
    }
   ],
   "source": [
    "#Dropping duplicate rows\n",
    "crash_loc.drop_duplicates(subset='REPORT_NO', inplace=True)\n",
    "crash_loc.reset_index(inplace=True, drop=True)\n",
    "crash_loc.info()"
   ]
  },
  {
   "cell_type": "code",
   "execution_count": 41,
   "metadata": {},
   "outputs": [
    {
     "data": {
      "text/plain": [
       "REPORT_NO\n",
       "BK02110007     1\n",
       "ZF0506000H     1\n",
       "AE50140029     1\n",
       "MCP2386001R    1\n",
       "DA3772001Q     1\n",
       "Name: count, dtype: int64"
      ]
     },
     "execution_count": 41,
     "metadata": {},
     "output_type": "execute_result"
    }
   ],
   "source": [
    "crash_loc['REPORT_NO'].value_counts().head()"
   ]
  },
  {
   "cell_type": "code",
   "execution_count": 42,
   "metadata": {
    "scrolled": true
   },
   "outputs": [
    {
     "data": {
      "text/html": [
       "<div>\n",
       "<style scoped>\n",
       "    .dataframe tbody tr th:only-of-type {\n",
       "        vertical-align: middle;\n",
       "    }\n",
       "\n",
       "    .dataframe tbody tr th {\n",
       "        vertical-align: top;\n",
       "    }\n",
       "\n",
       "    .dataframe thead th {\n",
       "        text-align: right;\n",
       "    }\n",
       "</style>\n",
       "<table border=\"1\" class=\"dataframe\">\n",
       "  <thead>\n",
       "    <tr style=\"text-align: right;\">\n",
       "      <th></th>\n",
       "      <th>LATITUDE</th>\n",
       "      <th>LONGITUDE</th>\n",
       "      <th>SPEED_LIMIT</th>\n",
       "    </tr>\n",
       "  </thead>\n",
       "  <tbody>\n",
       "    <tr>\n",
       "      <th>count</th>\n",
       "      <td>113170.000000</td>\n",
       "      <td>113170.000000</td>\n",
       "      <td>113170.000000</td>\n",
       "    </tr>\n",
       "    <tr>\n",
       "      <th>mean</th>\n",
       "      <td>39.146392</td>\n",
       "      <td>-76.748894</td>\n",
       "      <td>33.881859</td>\n",
       "    </tr>\n",
       "    <tr>\n",
       "      <th>std</th>\n",
       "      <td>0.309311</td>\n",
       "      <td>0.470626</td>\n",
       "      <td>15.884822</td>\n",
       "    </tr>\n",
       "    <tr>\n",
       "      <th>min</th>\n",
       "      <td>37.500000</td>\n",
       "      <td>-79.900000</td>\n",
       "      <td>0.000000</td>\n",
       "    </tr>\n",
       "    <tr>\n",
       "      <th>25%</th>\n",
       "      <td>38.984481</td>\n",
       "      <td>-76.946585</td>\n",
       "      <td>25.000000</td>\n",
       "    </tr>\n",
       "    <tr>\n",
       "      <th>50%</th>\n",
       "      <td>39.221252</td>\n",
       "      <td>-76.714607</td>\n",
       "      <td>35.000000</td>\n",
       "    </tr>\n",
       "    <tr>\n",
       "      <th>75%</th>\n",
       "      <td>39.347799</td>\n",
       "      <td>-76.577278</td>\n",
       "      <td>45.000000</td>\n",
       "    </tr>\n",
       "    <tr>\n",
       "      <th>max</th>\n",
       "      <td>39.968701</td>\n",
       "      <td>-75.036621</td>\n",
       "      <td>75.000000</td>\n",
       "    </tr>\n",
       "  </tbody>\n",
       "</table>\n",
       "</div>"
      ],
      "text/plain": [
       "            LATITUDE      LONGITUDE    SPEED_LIMIT\n",
       "count  113170.000000  113170.000000  113170.000000\n",
       "mean       39.146392     -76.748894      33.881859\n",
       "std         0.309311       0.470626      15.884822\n",
       "min        37.500000     -79.900000       0.000000\n",
       "25%        38.984481     -76.946585      25.000000\n",
       "50%        39.221252     -76.714607      35.000000\n",
       "75%        39.347799     -76.577278      45.000000\n",
       "max        39.968701     -75.036621      75.000000"
      ]
     },
     "execution_count": 42,
     "metadata": {},
     "output_type": "execute_result"
    }
   ],
   "source": [
    "crash_loc.describe()"
   ]
  },
  {
   "cell_type": "markdown",
   "metadata": {},
   "source": [
    "### Determining Distance\n",
    "\n",
    "Now that we have a cleaned dataset containing only unique report numbers, the next step is to create a derived feature, distance, to determine the distance from our center point. From there, we can select only the rows that are within 5km for our analysis. "
   ]
  },
  {
   "cell_type": "code",
   "execution_count": 43,
   "metadata": {},
   "outputs": [],
   "source": [
    "#Distance from coordinates function\n",
    "def haversine_distance(lat1, lon1, lat2, lon2):\n",
    "   r = 6371\n",
    "   phi1 = np.radians(lat1)\n",
    "   phi2 = np.radians(lat2)\n",
    "   delta_phi = np.radians(lat2-lat1)\n",
    "   delta_lambda = np.radians(lon2-lon1)\n",
    "   a = np.sin(delta_phi / 2)**2 + np.cos(phi1) * np.cos(phi2) *   np.sin(delta_lambda / 2)**2\n",
    "   res = r * (2 * np.arctan2(np.sqrt(a), np.sqrt(1-a)))\n",
    "   return np.round(res, 2)"
   ]
  },
  {
   "cell_type": "code",
   "execution_count": 44,
   "metadata": {},
   "outputs": [
    {
     "data": {
      "text/html": [
       "<div>\n",
       "<style scoped>\n",
       "    .dataframe tbody tr th:only-of-type {\n",
       "        vertical-align: middle;\n",
       "    }\n",
       "\n",
       "    .dataframe tbody tr th {\n",
       "        vertical-align: top;\n",
       "    }\n",
       "\n",
       "    .dataframe thead th {\n",
       "        text-align: right;\n",
       "    }\n",
       "</style>\n",
       "<table border=\"1\" class=\"dataframe\">\n",
       "  <thead>\n",
       "    <tr style=\"text-align: right;\">\n",
       "      <th></th>\n",
       "      <th>LATITUDE</th>\n",
       "      <th>LONGITUDE</th>\n",
       "      <th>SPEED_LIMIT</th>\n",
       "      <th>distance</th>\n",
       "    </tr>\n",
       "  </thead>\n",
       "  <tbody>\n",
       "    <tr>\n",
       "      <th>count</th>\n",
       "      <td>113170.000000</td>\n",
       "      <td>113170.000000</td>\n",
       "      <td>113170.000000</td>\n",
       "      <td>113170.000000</td>\n",
       "    </tr>\n",
       "    <tr>\n",
       "      <th>mean</th>\n",
       "      <td>39.146392</td>\n",
       "      <td>-76.748894</td>\n",
       "      <td>33.881859</td>\n",
       "      <td>59.909974</td>\n",
       "    </tr>\n",
       "    <tr>\n",
       "      <th>std</th>\n",
       "      <td>0.309311</td>\n",
       "      <td>0.470626</td>\n",
       "      <td>15.884822</td>\n",
       "      <td>35.272583</td>\n",
       "    </tr>\n",
       "    <tr>\n",
       "      <th>min</th>\n",
       "      <td>37.500000</td>\n",
       "      <td>-79.900000</td>\n",
       "      <td>0.000000</td>\n",
       "      <td>0.020000</td>\n",
       "    </tr>\n",
       "    <tr>\n",
       "      <th>25%</th>\n",
       "      <td>38.984481</td>\n",
       "      <td>-76.946585</td>\n",
       "      <td>25.000000</td>\n",
       "      <td>41.990000</td>\n",
       "    </tr>\n",
       "    <tr>\n",
       "      <th>50%</th>\n",
       "      <td>39.221252</td>\n",
       "      <td>-76.714607</td>\n",
       "      <td>35.000000</td>\n",
       "      <td>54.360000</td>\n",
       "    </tr>\n",
       "    <tr>\n",
       "      <th>75%</th>\n",
       "      <td>39.347799</td>\n",
       "      <td>-76.577278</td>\n",
       "      <td>45.000000</td>\n",
       "      <td>65.820000</td>\n",
       "    </tr>\n",
       "    <tr>\n",
       "      <th>max</th>\n",
       "      <td>39.968701</td>\n",
       "      <td>-75.036621</td>\n",
       "      <td>75.000000</td>\n",
       "      <td>265.230000</td>\n",
       "    </tr>\n",
       "  </tbody>\n",
       "</table>\n",
       "</div>"
      ],
      "text/plain": [
       "            LATITUDE      LONGITUDE    SPEED_LIMIT       distance\n",
       "count  113170.000000  113170.000000  113170.000000  113170.000000\n",
       "mean       39.146392     -76.748894      33.881859      59.909974\n",
       "std         0.309311       0.470626      15.884822      35.272583\n",
       "min        37.500000     -79.900000       0.000000       0.020000\n",
       "25%        38.984481     -76.946585      25.000000      41.990000\n",
       "50%        39.221252     -76.714607      35.000000      54.360000\n",
       "75%        39.347799     -76.577278      45.000000      65.820000\n",
       "max        39.968701     -75.036621      75.000000     265.230000"
      ]
     },
     "execution_count": 44,
     "metadata": {},
     "output_type": "execute_result"
    }
   ],
   "source": [
    "cent_lat = 39.197753\n",
    "cent_long = -77.263303\n",
    "\n",
    "crash_loc['distance']=haversine_distance(cent_lat, cent_long, crash_loc['LATITUDE'],crash_loc['LONGITUDE'])\n",
    "crash_loc.describe()"
   ]
  },
  {
   "cell_type": "markdown",
   "metadata": {},
   "source": [
    "We'll create a new dataframe that contains only the crashes with distance value less than or equal to 5km."
   ]
  },
  {
   "cell_type": "code",
   "execution_count": 45,
   "metadata": {},
   "outputs": [
    {
     "name": "stdout",
     "output_type": "stream",
     "text": [
      "<class 'pandas.core.frame.DataFrame'>\n",
      "RangeIndex: 1164 entries, 0 to 1163\n",
      "Data columns (total 5 columns):\n",
      " #   Column       Non-Null Count  Dtype  \n",
      "---  ------       --------------  -----  \n",
      " 0   REPORT_NO    1164 non-null   object \n",
      " 1   LATITUDE     1164 non-null   float64\n",
      " 2   LONGITUDE    1164 non-null   float64\n",
      " 3   SPEED_LIMIT  1164 non-null   int64  \n",
      " 4   distance     1164 non-null   float64\n",
      "dtypes: float64(3), int64(1), object(1)\n",
      "memory usage: 45.6+ KB\n"
     ]
    }
   ],
   "source": [
    "close_crashes = crash_loc[crash_loc['distance'] <= 5].reset_index(drop=True)\n",
    "close_crashes.info()"
   ]
  },
  {
   "cell_type": "code",
   "execution_count": 46,
   "metadata": {},
   "outputs": [
    {
     "data": {
      "text/plain": [
       "<Axes: >"
      ]
     },
     "execution_count": 46,
     "metadata": {},
     "output_type": "execute_result"
    },
    {
     "data": {
      "image/png": "[encoded data removed]",
      "text/plain": [
       "<Figure size 640x480 with 1 Axes>"
      ]
     },
     "metadata": {},
     "output_type": "display_data"
    }
   ],
   "source": [
    "close_crashes['SPEED_LIMIT'].hist()"
   ]
  },
  {
   "cell_type": "markdown",
   "metadata": {},
   "source": [
    "A speed limit value of '0' may mean that the speed limit was unknown, or that there was no speed limit posted, for example, crashes that occur in parking lots."
   ]
  },
  {
   "cell_type": "code",
   "execution_count": 47,
   "metadata": {},
   "outputs": [
    {
     "data": {
      "text/plain": [
       "SPEED_LIMIT\n",
       "0      64\n",
       "5      30\n",
       "10     21\n",
       "15     60\n",
       "20     10\n",
       "25    112\n",
       "30    128\n",
       "35    140\n",
       "40    320\n",
       "45    116\n",
       "50     18\n",
       "55    144\n",
       "75      1\n",
       "Name: count, dtype: int64"
      ]
     },
     "execution_count": 47,
     "metadata": {},
     "output_type": "execute_result"
    }
   ],
   "source": [
    "close_crashes['SPEED_LIMIT'].value_counts().sort_index()"
   ]
  },
  {
   "cell_type": "code",
   "execution_count": 48,
   "metadata": {},
   "outputs": [
    {
     "data": {
      "text/plain": [
       "(-1.001, 41.0]    885\n",
       "(41.0, 51.0]      134\n",
       "(51.0, 80.0]      145\n",
       "Name: count, dtype: int64"
      ]
     },
     "execution_count": 48,
     "metadata": {},
     "output_type": "execute_result"
    }
   ],
   "source": [
    "close_crashes['SPEED_LIMIT'].value_counts(bins=[-1,41,51,80], sort=False)"
   ]
  },
  {
   "cell_type": "markdown",
   "metadata": {},
   "source": [
    "Within our defined circle, there was a total of 1164 unique accidents. 885 of those accidents the speed limit was 41mph or under. 145 of those accidents had a speed limit above 51mph. The majority of the accidents in our circle occured at relatively lower speeds."
   ]
  },
  {
   "cell_type": "markdown",
   "metadata": {},
   "source": [
    "## Question 7"
   ]
  },
  {
   "cell_type": "markdown",
   "metadata": {},
   "source": [
    "Let's review the question 7 data:\n",
    "\n",
    ">Determine the number of drivers, who got in a car crash, from non-DMV states and list them by total drivers, female and male. Consollidate the final values in one dataframe.\n",
    "\n",
    "(example)\n",
    "\n",
    "| St | Drivers | Female | Male | \n",
    "|---|---|---|---|\n",
    "|NY | 151034  | 101000 | 50034|\n",
    "|PA | 125131  | 105000 | 20131|\n",
    "\n",
    ">b. Use the states drivers data from the states_drivers.csv to normalize the previous list with number of total drivers for each state. For example, there are 12 million drivers in NY, then the normalized numbers should be:\n",
    "\n",
    "St |  Drivers  | Normalized\n",
    "|---|---|---|\n",
    "NY |  151034   | 1.26E-5   \n",
    "PA |  125131   |....       \n"
   ]
  },
  {
   "cell_type": "markdown",
   "metadata": {},
   "source": [
    "Let's take a look at our reference table to see which dataset contains our relevant info:"
   ]
  },
  {
   "cell_type": "markdown",
   "metadata": {},
   "source": [
    "| Info Needed                       |   Question | Dataset                    | Column              |\n",
    "|:----------------------------------|:----------:|:--------------------------:|:-------------------:|\n",
    "| Driver State of Origin            |          7 | MD_Crash_Person_Data_2017  | LICENSE_STATE_CODE |\n",
    "| Driver Gender                     |          7 | MD_Crash_Person_Data_2017  | SEX_CODE            |"
   ]
  },
  {
   "cell_type": "code",
   "execution_count": 49,
   "metadata": {
    "scrolled": true
   },
   "outputs": [
    {
     "data": {
      "text/html": [
       "<div>\n",
       "<style scoped>\n",
       "    .dataframe tbody tr th:only-of-type {\n",
       "        vertical-align: middle;\n",
       "    }\n",
       "\n",
       "    .dataframe tbody tr th {\n",
       "        vertical-align: top;\n",
       "    }\n",
       "\n",
       "    .dataframe thead th {\n",
       "        text-align: right;\n",
       "    }\n",
       "</style>\n",
       "<table border=\"1\" class=\"dataframe\">\n",
       "  <thead>\n",
       "    <tr style=\"text-align: right;\">\n",
       "      <th></th>\n",
       "      <th>LICENSE_STATE_CODE</th>\n",
       "      <th>SEX_CODE</th>\n",
       "    </tr>\n",
       "  </thead>\n",
       "  <tbody>\n",
       "    <tr>\n",
       "      <th>0</th>\n",
       "      <td>PA</td>\n",
       "      <td>F</td>\n",
       "    </tr>\n",
       "    <tr>\n",
       "      <th>1</th>\n",
       "      <td>MD</td>\n",
       "      <td>F</td>\n",
       "    </tr>\n",
       "    <tr>\n",
       "      <th>2</th>\n",
       "      <td>MD</td>\n",
       "      <td>F</td>\n",
       "    </tr>\n",
       "    <tr>\n",
       "      <th>3</th>\n",
       "      <td>MD</td>\n",
       "      <td>F</td>\n",
       "    </tr>\n",
       "    <tr>\n",
       "      <th>4</th>\n",
       "      <td>MD</td>\n",
       "      <td>F</td>\n",
       "    </tr>\n",
       "  </tbody>\n",
       "</table>\n",
       "</div>"
      ],
      "text/plain": [
       "  LICENSE_STATE_CODE SEX_CODE\n",
       "0                 PA        F\n",
       "1                 MD        F\n",
       "2                 MD        F\n",
       "3                 MD        F\n",
       "4                 MD        F"
      ]
     },
     "execution_count": 49,
     "metadata": {},
     "output_type": "execute_result"
    }
   ],
   "source": [
    "drivers=MD_Crash_Person_Data_2017[['LICENSE_STATE_CODE','SEX_CODE']]\n",
    "drivers.head()"
   ]
  },
  {
   "cell_type": "markdown",
   "metadata": {},
   "source": [
    "Since we're trying to remove non-DMV states, lets drop the rows from DC, MD, and VA"
   ]
  },
  {
   "cell_type": "code",
   "execution_count": 50,
   "metadata": {
    "scrolled": true
   },
   "outputs": [
    {
     "data": {
      "text/plain": [
       "LICENSE_STATE_CODE\n",
       "PA    4345\n",
       "DE    1823\n",
       "XX    1232\n",
       "WV    1142\n",
       "FL    1135\n",
       "NY     968\n",
       "NJ     854\n",
       "NC     818\n",
       "MA     619\n",
       "TX     448\n",
       "GA     390\n",
       "CA     373\n",
       "OH     311\n",
       "SC     284\n",
       "MI     174\n",
       "TN     171\n",
       "CT     159\n",
       "IL     158\n",
       "US     127\n",
       "WA     118\n",
       "AZ     113\n",
       "AL      97\n",
       "LA      96\n",
       "ME      91\n",
       "IN      88\n",
       "CO      87\n",
       "MB      79\n",
       "KY      74\n",
       "MH      64\n",
       "MO      56\n",
       "MS      52\n",
       "OK      48\n",
       "UT      48\n",
       "NV      44\n",
       "WI      44\n",
       "NM      42\n",
       "KS      40\n",
       "AR      38\n",
       "MN      38\n",
       "OR      36\n",
       "NH      35\n",
       "IA      34\n",
       "ND      34\n",
       "RI      31\n",
       "ON      30\n",
       "AK      30\n",
       "VT      26\n",
       "HI      23\n",
       "QC      22\n",
       "ID      19\n",
       "PR      14\n",
       "SD      14\n",
       "NE      14\n",
       "MT      12\n",
       "WY       8\n",
       "AB       6\n",
       "NB       6\n",
       "VI       4\n",
       "BC       3\n",
       "UM       3\n",
       "SK       3\n",
       "YT       3\n",
       "PE       2\n",
       "GU       1\n",
       "NS       1\n",
       "PQ       1\n",
       "NU       1\n",
       "IT       1\n",
       "NT       1\n",
       "Name: count, dtype: int64"
      ]
     },
     "execution_count": 50,
     "metadata": {},
     "output_type": "execute_result"
    }
   ],
   "source": [
    "out_of_state_drivers=drivers[~drivers.LICENSE_STATE_CODE.isin(['DC','MD','VA'])]\n",
    "out_of_state_drivers.reset_index(drop=True, inplace = True)\n",
    "out_of_state_drivers['LICENSE_STATE_CODE'].value_counts()"
   ]
  },
  {
   "cell_type": "code",
   "execution_count": 51,
   "metadata": {},
   "outputs": [
    {
     "data": {
      "text/plain": [
       "SEX_CODE\n",
       "M    43400\n",
       "F    38842\n",
       "U     1218\n",
       "Name: count, dtype: int64"
      ]
     },
     "execution_count": 51,
     "metadata": {},
     "output_type": "execute_result"
    }
   ],
   "source": [
    "out_of_state_drivers['SEX_CODE'].value_counts()"
   ]
  },
  {
   "cell_type": "markdown",
   "metadata": {},
   "source": [
    "It appears our data contains 1269 rows where gender is unknown, since we're not factoring in unknown gender into our answer, lets remove the rows that have a value of `U` for gender."
   ]
  },
  {
   "cell_type": "code",
   "execution_count": 52,
   "metadata": {},
   "outputs": [],
   "source": [
    "out_of_state_drivers=out_of_state_drivers[out_of_state_drivers['SEX_CODE'] != 'U'].reset_index(drop=True)"
   ]
  },
  {
   "cell_type": "markdown",
   "metadata": {},
   "source": [
    "Let's create a new dataframe that contains the the total MD crashes from each state, the total crashed from each state by male and female drivers."
   ]
  },
  {
   "cell_type": "code",
   "execution_count": 53,
   "metadata": {},
   "outputs": [
    {
     "data": {
      "text/html": [
       "<div>\n",
       "<style scoped>\n",
       "    .dataframe tbody tr th:only-of-type {\n",
       "        vertical-align: middle;\n",
       "    }\n",
       "\n",
       "    .dataframe tbody tr th {\n",
       "        vertical-align: top;\n",
       "    }\n",
       "\n",
       "    .dataframe thead th {\n",
       "        text-align: right;\n",
       "    }\n",
       "</style>\n",
       "<table border=\"1\" class=\"dataframe\">\n",
       "  <thead>\n",
       "    <tr style=\"text-align: right;\">\n",
       "      <th></th>\n",
       "      <th>count</th>\n",
       "      <th>male</th>\n",
       "    </tr>\n",
       "    <tr>\n",
       "      <th>LICENSE_STATE_CODE</th>\n",
       "      <th></th>\n",
       "      <th></th>\n",
       "    </tr>\n",
       "  </thead>\n",
       "  <tbody>\n",
       "    <tr>\n",
       "      <th>PA</th>\n",
       "      <td>4321</td>\n",
       "      <td>2936.0</td>\n",
       "    </tr>\n",
       "    <tr>\n",
       "      <th>DE</th>\n",
       "      <td>1812</td>\n",
       "      <td>1133.0</td>\n",
       "    </tr>\n",
       "    <tr>\n",
       "      <th>WV</th>\n",
       "      <td>1139</td>\n",
       "      <td>721.0</td>\n",
       "    </tr>\n",
       "    <tr>\n",
       "      <th>FL</th>\n",
       "      <td>1129</td>\n",
       "      <td>737.0</td>\n",
       "    </tr>\n",
       "    <tr>\n",
       "      <th>XX</th>\n",
       "      <td>1091</td>\n",
       "      <td>779.0</td>\n",
       "    </tr>\n",
       "  </tbody>\n",
       "</table>\n",
       "</div>"
      ],
      "text/plain": [
       "                    count    male\n",
       "LICENSE_STATE_CODE               \n",
       "PA                   4321  2936.0\n",
       "DE                   1812  1133.0\n",
       "WV                   1139   721.0\n",
       "FL                   1129   737.0\n",
       "XX                   1091   779.0"
      ]
     },
     "execution_count": 53,
     "metadata": {},
     "output_type": "execute_result"
    }
   ],
   "source": [
    "oos_drivers_by_gender = pd.DataFrame(out_of_state_drivers['LICENSE_STATE_CODE'].value_counts().copy())\n",
    "male_drivers = out_of_state_drivers[out_of_state_drivers['SEX_CODE'] == 'M'].groupby('LICENSE_STATE_CODE').count()\n",
    "oos_drivers_by_gender['male'] = male_drivers\n",
    "oos_drivers_by_gender.head()"
   ]
  },
  {
   "cell_type": "code",
   "execution_count": 54,
   "metadata": {},
   "outputs": [
    {
     "data": {
      "text/html": [
       "<div>\n",
       "<style scoped>\n",
       "    .dataframe tbody tr th:only-of-type {\n",
       "        vertical-align: middle;\n",
       "    }\n",
       "\n",
       "    .dataframe tbody tr th {\n",
       "        vertical-align: top;\n",
       "    }\n",
       "\n",
       "    .dataframe thead th {\n",
       "        text-align: right;\n",
       "    }\n",
       "</style>\n",
       "<table border=\"1\" class=\"dataframe\">\n",
       "  <thead>\n",
       "    <tr style=\"text-align: right;\">\n",
       "      <th></th>\n",
       "      <th>count</th>\n",
       "      <th>male</th>\n",
       "      <th>female</th>\n",
       "    </tr>\n",
       "    <tr>\n",
       "      <th>LICENSE_STATE_CODE</th>\n",
       "      <th></th>\n",
       "      <th></th>\n",
       "      <th></th>\n",
       "    </tr>\n",
       "  </thead>\n",
       "  <tbody>\n",
       "    <tr>\n",
       "      <th>PA</th>\n",
       "      <td>4321</td>\n",
       "      <td>2936.0</td>\n",
       "      <td>1385.0</td>\n",
       "    </tr>\n",
       "    <tr>\n",
       "      <th>DE</th>\n",
       "      <td>1812</td>\n",
       "      <td>1133.0</td>\n",
       "      <td>679.0</td>\n",
       "    </tr>\n",
       "    <tr>\n",
       "      <th>WV</th>\n",
       "      <td>1139</td>\n",
       "      <td>721.0</td>\n",
       "      <td>418.0</td>\n",
       "    </tr>\n",
       "    <tr>\n",
       "      <th>FL</th>\n",
       "      <td>1129</td>\n",
       "      <td>737.0</td>\n",
       "      <td>392.0</td>\n",
       "    </tr>\n",
       "    <tr>\n",
       "      <th>XX</th>\n",
       "      <td>1091</td>\n",
       "      <td>779.0</td>\n",
       "      <td>312.0</td>\n",
       "    </tr>\n",
       "  </tbody>\n",
       "</table>\n",
       "</div>"
      ],
      "text/plain": [
       "                    count    male  female\n",
       "LICENSE_STATE_CODE                       \n",
       "PA                   4321  2936.0  1385.0\n",
       "DE                   1812  1133.0   679.0\n",
       "WV                   1139   721.0   418.0\n",
       "FL                   1129   737.0   392.0\n",
       "XX                   1091   779.0   312.0"
      ]
     },
     "execution_count": 54,
     "metadata": {},
     "output_type": "execute_result"
    }
   ],
   "source": [
    "female_drivers = out_of_state_drivers[out_of_state_drivers['SEX_CODE'] == 'F'].groupby('LICENSE_STATE_CODE').count()\n",
    "oos_drivers_by_gender['female'] = female_drivers\n",
    "oos_drivers_by_gender.head()"
   ]
  },
  {
   "cell_type": "markdown",
   "metadata": {},
   "source": [
    "Now that we have our the total crash count, and count per gender for each state, let's take a look at the data from `states_drivers` so we can normalize our data"
   ]
  },
  {
   "cell_type": "code",
   "execution_count": 55,
   "metadata": {
    "scrolled": true
   },
   "outputs": [
    {
     "data": {
      "text/html": [
       "<div>\n",
       "<style scoped>\n",
       "    .dataframe tbody tr th:only-of-type {\n",
       "        vertical-align: middle;\n",
       "    }\n",
       "\n",
       "    .dataframe tbody tr th {\n",
       "        vertical-align: top;\n",
       "    }\n",
       "\n",
       "    .dataframe thead th {\n",
       "        text-align: right;\n",
       "    }\n",
       "</style>\n",
       "<table border=\"1\" class=\"dataframe\">\n",
       "  <thead>\n",
       "    <tr style=\"text-align: right;\">\n",
       "      <th></th>\n",
       "      <th>STATE</th>\n",
       "      <th>MALE</th>\n",
       "      <th>FEMALE</th>\n",
       "    </tr>\n",
       "  </thead>\n",
       "  <tbody>\n",
       "    <tr>\n",
       "      <th>0</th>\n",
       "      <td>Alabama</td>\n",
       "      <td>1,896,942</td>\n",
       "      <td>2,010,096</td>\n",
       "    </tr>\n",
       "    <tr>\n",
       "      <th>1</th>\n",
       "      <td>Alaska</td>\n",
       "      <td>251,993</td>\n",
       "      <td>281,234</td>\n",
       "    </tr>\n",
       "    <tr>\n",
       "      <th>2</th>\n",
       "      <td>Arizona</td>\n",
       "      <td>2,502,985</td>\n",
       "      <td>2,475,777</td>\n",
       "    </tr>\n",
       "    <tr>\n",
       "      <th>3</th>\n",
       "      <td>Arkansas</td>\n",
       "      <td>1,041,548</td>\n",
       "      <td>1,078,030</td>\n",
       "    </tr>\n",
       "    <tr>\n",
       "      <th>4</th>\n",
       "      <td>California</td>\n",
       "      <td>12,968,614</td>\n",
       "      <td>12,564,306</td>\n",
       "    </tr>\n",
       "  </tbody>\n",
       "</table>\n",
       "</div>"
      ],
      "text/plain": [
       "        STATE        MALE      FEMALE\n",
       "0    Alabama   1,896,942   2,010,096 \n",
       "1      Alaska     251,993     281,234\n",
       "2    Arizona    2,502,985   2,475,777\n",
       "3  Arkansas     1,041,548   1,078,030\n",
       "4  California  12,968,614  12,564,306"
      ]
     },
     "execution_count": 55,
     "metadata": {},
     "output_type": "execute_result"
    }
   ],
   "source": [
    "states_drivers.head()"
   ]
  },
  {
   "cell_type": "markdown",
   "metadata": {},
   "source": [
    "Before we move on, we need to convert our the state names to their abbreviations, we'll do this by referencing our `states` that contains all of the state names and their abbreviations so we can join our data with the data in `oos_drivers_by_gender`"
   ]
  },
  {
   "cell_type": "code",
   "execution_count": 56,
   "metadata": {},
   "outputs": [
    {
     "data": {
      "text/html": [
       "<div>\n",
       "<style scoped>\n",
       "    .dataframe tbody tr th:only-of-type {\n",
       "        vertical-align: middle;\n",
       "    }\n",
       "\n",
       "    .dataframe tbody tr th {\n",
       "        vertical-align: top;\n",
       "    }\n",
       "\n",
       "    .dataframe thead th {\n",
       "        text-align: right;\n",
       "    }\n",
       "</style>\n",
       "<table border=\"1\" class=\"dataframe\">\n",
       "  <thead>\n",
       "    <tr style=\"text-align: right;\">\n",
       "      <th></th>\n",
       "      <th>State</th>\n",
       "      <th>Abbrev</th>\n",
       "      <th>Code</th>\n",
       "    </tr>\n",
       "  </thead>\n",
       "  <tbody>\n",
       "    <tr>\n",
       "      <th>0</th>\n",
       "      <td>Alabama</td>\n",
       "      <td>Ala.</td>\n",
       "      <td>AL</td>\n",
       "    </tr>\n",
       "    <tr>\n",
       "      <th>1</th>\n",
       "      <td>Alaska</td>\n",
       "      <td>Alaska</td>\n",
       "      <td>AK</td>\n",
       "    </tr>\n",
       "    <tr>\n",
       "      <th>2</th>\n",
       "      <td>Arizona</td>\n",
       "      <td>Ariz.</td>\n",
       "      <td>AZ</td>\n",
       "    </tr>\n",
       "    <tr>\n",
       "      <th>3</th>\n",
       "      <td>Arkansas</td>\n",
       "      <td>Ark.</td>\n",
       "      <td>AR</td>\n",
       "    </tr>\n",
       "    <tr>\n",
       "      <th>4</th>\n",
       "      <td>California</td>\n",
       "      <td>Calif.</td>\n",
       "      <td>CA</td>\n",
       "    </tr>\n",
       "  </tbody>\n",
       "</table>\n",
       "</div>"
      ],
      "text/plain": [
       "        State  Abbrev Code\n",
       "0     Alabama    Ala.   AL\n",
       "1      Alaska  Alaska   AK\n",
       "2     Arizona   Ariz.   AZ\n",
       "3    Arkansas    Ark.   AR\n",
       "4  California  Calif.   CA"
      ]
     },
     "execution_count": 56,
     "metadata": {},
     "output_type": "execute_result"
    }
   ],
   "source": [
    "states.head()"
   ]
  },
  {
   "cell_type": "code",
   "execution_count": 57,
   "metadata": {},
   "outputs": [
    {
     "data": {
      "text/html": [
       "<div>\n",
       "<style scoped>\n",
       "    .dataframe tbody tr th:only-of-type {\n",
       "        vertical-align: middle;\n",
       "    }\n",
       "\n",
       "    .dataframe tbody tr th {\n",
       "        vertical-align: top;\n",
       "    }\n",
       "\n",
       "    .dataframe thead th {\n",
       "        text-align: right;\n",
       "    }\n",
       "</style>\n",
       "<table border=\"1\" class=\"dataframe\">\n",
       "  <thead>\n",
       "    <tr style=\"text-align: right;\">\n",
       "      <th></th>\n",
       "      <th>STATE</th>\n",
       "      <th>ABBREV</th>\n",
       "      <th>CODE</th>\n",
       "    </tr>\n",
       "  </thead>\n",
       "  <tbody>\n",
       "    <tr>\n",
       "      <th>0</th>\n",
       "      <td>Alabama</td>\n",
       "      <td>Ala.</td>\n",
       "      <td>AL</td>\n",
       "    </tr>\n",
       "    <tr>\n",
       "      <th>1</th>\n",
       "      <td>Alaska</td>\n",
       "      <td>Alaska</td>\n",
       "      <td>AK</td>\n",
       "    </tr>\n",
       "    <tr>\n",
       "      <th>2</th>\n",
       "      <td>Arizona</td>\n",
       "      <td>Ariz.</td>\n",
       "      <td>AZ</td>\n",
       "    </tr>\n",
       "    <tr>\n",
       "      <th>3</th>\n",
       "      <td>Arkansas</td>\n",
       "      <td>Ark.</td>\n",
       "      <td>AR</td>\n",
       "    </tr>\n",
       "    <tr>\n",
       "      <th>4</th>\n",
       "      <td>California</td>\n",
       "      <td>Calif.</td>\n",
       "      <td>CA</td>\n",
       "    </tr>\n",
       "  </tbody>\n",
       "</table>\n",
       "</div>"
      ],
      "text/plain": [
       "        STATE  ABBREV CODE\n",
       "0     Alabama    Ala.   AL\n",
       "1      Alaska  Alaska   AK\n",
       "2     Arizona   Ariz.   AZ\n",
       "3    Arkansas    Ark.   AR\n",
       "4  California  Calif.   CA"
      ]
     },
     "execution_count": 57,
     "metadata": {},
     "output_type": "execute_result"
    }
   ],
   "source": [
    "states=states.rename(columns={'State':'STATE',\n",
    "                       'Abbrev':'ABBREV',\n",
    "                       'Code':'CODE'})\n",
    "states.head()"
   ]
  },
  {
   "cell_type": "markdown",
   "metadata": {},
   "source": [
    "In order to join the data correctly, had to use the .strip() string operator to remove whitespaces around the state code"
   ]
  },
  {
   "cell_type": "code",
   "execution_count": 58,
   "metadata": {},
   "outputs": [
    {
     "data": {
      "text/html": [
       "<div>\n",
       "<style scoped>\n",
       "    .dataframe tbody tr th:only-of-type {\n",
       "        vertical-align: middle;\n",
       "    }\n",
       "\n",
       "    .dataframe tbody tr th {\n",
       "        vertical-align: top;\n",
       "    }\n",
       "\n",
       "    .dataframe thead th {\n",
       "        text-align: right;\n",
       "    }\n",
       "</style>\n",
       "<table border=\"1\" class=\"dataframe\">\n",
       "  <thead>\n",
       "    <tr style=\"text-align: right;\">\n",
       "      <th></th>\n",
       "      <th>STATE</th>\n",
       "      <th>MALE</th>\n",
       "      <th>FEMALE</th>\n",
       "      <th>ABBREV</th>\n",
       "      <th>CODE</th>\n",
       "    </tr>\n",
       "  </thead>\n",
       "  <tbody>\n",
       "    <tr>\n",
       "      <th>0</th>\n",
       "      <td>Alabama</td>\n",
       "      <td>1,896,942</td>\n",
       "      <td>2,010,096</td>\n",
       "      <td>Ala.</td>\n",
       "      <td>AL</td>\n",
       "    </tr>\n",
       "    <tr>\n",
       "      <th>1</th>\n",
       "      <td>Alaska</td>\n",
       "      <td>251,993</td>\n",
       "      <td>281,234</td>\n",
       "      <td>Alaska</td>\n",
       "      <td>AK</td>\n",
       "    </tr>\n",
       "    <tr>\n",
       "      <th>2</th>\n",
       "      <td>Arizona</td>\n",
       "      <td>2,502,985</td>\n",
       "      <td>2,475,777</td>\n",
       "      <td>Ariz.</td>\n",
       "      <td>AZ</td>\n",
       "    </tr>\n",
       "    <tr>\n",
       "      <th>3</th>\n",
       "      <td>Arkansas</td>\n",
       "      <td>1,041,548</td>\n",
       "      <td>1,078,030</td>\n",
       "      <td>Ark.</td>\n",
       "      <td>AR</td>\n",
       "    </tr>\n",
       "    <tr>\n",
       "      <th>4</th>\n",
       "      <td>California</td>\n",
       "      <td>12,968,614</td>\n",
       "      <td>12,564,306</td>\n",
       "      <td>Calif.</td>\n",
       "      <td>CA</td>\n",
       "    </tr>\n",
       "  </tbody>\n",
       "</table>\n",
       "</div>"
      ],
      "text/plain": [
       "        STATE        MALE      FEMALE  ABBREV CODE\n",
       "0     Alabama  1,896,942   2,010,096     Ala.   AL\n",
       "1      Alaska     251,993     281,234  Alaska   AK\n",
       "2     Arizona   2,502,985   2,475,777   Ariz.   AZ\n",
       "3    Arkansas   1,041,548   1,078,030    Ark.   AR\n",
       "4  California  12,968,614  12,564,306  Calif.   CA"
      ]
     },
     "execution_count": 58,
     "metadata": {},
     "output_type": "execute_result"
    }
   ],
   "source": [
    "states_drivers['STATE']=states_drivers['STATE'].str.strip()\n",
    "states_drivers = states_drivers.merge(states,how='left',on='STATE')\n",
    "states_drivers.head()"
   ]
  },
  {
   "cell_type": "code",
   "execution_count": 59,
   "metadata": {},
   "outputs": [
    {
     "name": "stdout",
     "output_type": "stream",
     "text": [
      "<class 'pandas.core.frame.DataFrame'>\n",
      "RangeIndex: 51 entries, 0 to 50\n",
      "Data columns (total 5 columns):\n",
      " #   Column  Non-Null Count  Dtype \n",
      "---  ------  --------------  ----- \n",
      " 0   STATE   51 non-null     object\n",
      " 1   MALE    51 non-null     object\n",
      " 2   FEMALE  51 non-null     object\n",
      " 3   ABBREV  50 non-null     object\n",
      " 4   CODE    50 non-null     object\n",
      "dtypes: object(5)\n",
      "memory usage: 2.1+ KB\n"
     ]
    }
   ],
   "source": [
    "states_drivers.info()"
   ]
  },
  {
   "cell_type": "markdown",
   "metadata": {},
   "source": [
    "We need to convert the `MALE` and `FEMALE` columns to numeric columns"
   ]
  },
  {
   "cell_type": "code",
   "execution_count": 60,
   "metadata": {},
   "outputs": [
    {
     "name": "stdout",
     "output_type": "stream",
     "text": [
      "<class 'pandas.core.frame.DataFrame'>\n",
      "RangeIndex: 51 entries, 0 to 50\n",
      "Data columns (total 5 columns):\n",
      " #   Column  Non-Null Count  Dtype \n",
      "---  ------  --------------  ----- \n",
      " 0   STATE   51 non-null     object\n",
      " 1   MALE    51 non-null     int32 \n",
      " 2   FEMALE  51 non-null     int32 \n",
      " 3   ABBREV  50 non-null     object\n",
      " 4   CODE    50 non-null     object\n",
      "dtypes: int32(2), object(3)\n",
      "memory usage: 1.7+ KB\n"
     ]
    }
   ],
   "source": [
    "cols=['MALE','FEMALE']\n",
    "\n",
    "for col in cols:\n",
    "    states_drivers[col]=states_drivers[col].str.strip()\n",
    "    states_drivers[col]=states_drivers[col].str.replace(',','')\n",
    "    states_drivers[col]=states_drivers[col].astype(int)\n",
    "\n",
    "states_drivers.info()"
   ]
  },
  {
   "cell_type": "code",
   "execution_count": 61,
   "metadata": {
    "scrolled": true
   },
   "outputs": [
    {
     "data": {
      "text/html": [
       "<div>\n",
       "<style scoped>\n",
       "    .dataframe tbody tr th:only-of-type {\n",
       "        vertical-align: middle;\n",
       "    }\n",
       "\n",
       "    .dataframe tbody tr th {\n",
       "        vertical-align: top;\n",
       "    }\n",
       "\n",
       "    .dataframe thead th {\n",
       "        text-align: right;\n",
       "    }\n",
       "</style>\n",
       "<table border=\"1\" class=\"dataframe\">\n",
       "  <thead>\n",
       "    <tr style=\"text-align: right;\">\n",
       "      <th></th>\n",
       "      <th>STATE</th>\n",
       "      <th>MALE</th>\n",
       "      <th>FEMALE</th>\n",
       "      <th>ABBREV</th>\n",
       "      <th>CODE</th>\n",
       "      <th>TOTAL</th>\n",
       "    </tr>\n",
       "  </thead>\n",
       "  <tbody>\n",
       "    <tr>\n",
       "      <th>0</th>\n",
       "      <td>Alabama</td>\n",
       "      <td>1896942</td>\n",
       "      <td>2010096</td>\n",
       "      <td>Ala.</td>\n",
       "      <td>AL</td>\n",
       "      <td>3907038</td>\n",
       "    </tr>\n",
       "    <tr>\n",
       "      <th>1</th>\n",
       "      <td>Alaska</td>\n",
       "      <td>251993</td>\n",
       "      <td>281234</td>\n",
       "      <td>Alaska</td>\n",
       "      <td>AK</td>\n",
       "      <td>533227</td>\n",
       "    </tr>\n",
       "    <tr>\n",
       "      <th>2</th>\n",
       "      <td>Arizona</td>\n",
       "      <td>2502985</td>\n",
       "      <td>2475777</td>\n",
       "      <td>Ariz.</td>\n",
       "      <td>AZ</td>\n",
       "      <td>4978762</td>\n",
       "    </tr>\n",
       "    <tr>\n",
       "      <th>3</th>\n",
       "      <td>Arkansas</td>\n",
       "      <td>1041548</td>\n",
       "      <td>1078030</td>\n",
       "      <td>Ark.</td>\n",
       "      <td>AR</td>\n",
       "      <td>2119578</td>\n",
       "    </tr>\n",
       "    <tr>\n",
       "      <th>4</th>\n",
       "      <td>California</td>\n",
       "      <td>12968614</td>\n",
       "      <td>12564306</td>\n",
       "      <td>Calif.</td>\n",
       "      <td>CA</td>\n",
       "      <td>25532920</td>\n",
       "    </tr>\n",
       "  </tbody>\n",
       "</table>\n",
       "</div>"
      ],
      "text/plain": [
       "        STATE      MALE    FEMALE  ABBREV CODE     TOTAL\n",
       "0     Alabama   1896942   2010096    Ala.   AL   3907038\n",
       "1      Alaska    251993    281234  Alaska   AK    533227\n",
       "2     Arizona   2502985   2475777   Ariz.   AZ   4978762\n",
       "3    Arkansas   1041548   1078030    Ark.   AR   2119578\n",
       "4  California  12968614  12564306  Calif.   CA  25532920"
      ]
     },
     "execution_count": 61,
     "metadata": {},
     "output_type": "execute_result"
    }
   ],
   "source": [
    "states_drivers['TOTAL']=states_drivers['MALE']+states_drivers['FEMALE']\n",
    "states_drivers.head()"
   ]
  },
  {
   "cell_type": "markdown",
   "metadata": {},
   "source": [
    "We now have a seperate dataframe that contains data on the total drivers from each state and their gender. We will now join the data from our MD crash reports and the outside data into one dataframe so we can normalize our data"
   ]
  },
  {
   "cell_type": "code",
   "execution_count": 62,
   "metadata": {},
   "outputs": [],
   "source": [
    "states_drivers=states_drivers.merge(oos_drivers_by_gender, left_on='CODE', right_on='LICENSE_STATE_CODE')"
   ]
  },
  {
   "cell_type": "code",
   "execution_count": 63,
   "metadata": {},
   "outputs": [
    {
     "data": {
      "text/html": [
       "<div>\n",
       "<style scoped>\n",
       "    .dataframe tbody tr th:only-of-type {\n",
       "        vertical-align: middle;\n",
       "    }\n",
       "\n",
       "    .dataframe tbody tr th {\n",
       "        vertical-align: top;\n",
       "    }\n",
       "\n",
       "    .dataframe thead th {\n",
       "        text-align: right;\n",
       "    }\n",
       "</style>\n",
       "<table border=\"1\" class=\"dataframe\">\n",
       "  <thead>\n",
       "    <tr style=\"text-align: right;\">\n",
       "      <th></th>\n",
       "      <th>state</th>\n",
       "      <th>tot_m</th>\n",
       "      <th>tot_f</th>\n",
       "      <th>abbrev</th>\n",
       "      <th>state_code</th>\n",
       "      <th>state_tot</th>\n",
       "      <th>md_tot</th>\n",
       "      <th>md_male</th>\n",
       "      <th>md_female</th>\n",
       "    </tr>\n",
       "  </thead>\n",
       "  <tbody>\n",
       "    <tr>\n",
       "      <th>0</th>\n",
       "      <td>Alabama</td>\n",
       "      <td>1896942</td>\n",
       "      <td>2010096</td>\n",
       "      <td>Ala.</td>\n",
       "      <td>AL</td>\n",
       "      <td>3907038</td>\n",
       "      <td>97</td>\n",
       "      <td>74.0</td>\n",
       "      <td>23.0</td>\n",
       "    </tr>\n",
       "    <tr>\n",
       "      <th>1</th>\n",
       "      <td>Alaska</td>\n",
       "      <td>251993</td>\n",
       "      <td>281234</td>\n",
       "      <td>Alaska</td>\n",
       "      <td>AK</td>\n",
       "      <td>533227</td>\n",
       "      <td>30</td>\n",
       "      <td>18.0</td>\n",
       "      <td>12.0</td>\n",
       "    </tr>\n",
       "    <tr>\n",
       "      <th>2</th>\n",
       "      <td>Arizona</td>\n",
       "      <td>2502985</td>\n",
       "      <td>2475777</td>\n",
       "      <td>Ariz.</td>\n",
       "      <td>AZ</td>\n",
       "      <td>4978762</td>\n",
       "      <td>112</td>\n",
       "      <td>70.0</td>\n",
       "      <td>42.0</td>\n",
       "    </tr>\n",
       "    <tr>\n",
       "      <th>3</th>\n",
       "      <td>Arkansas</td>\n",
       "      <td>1041548</td>\n",
       "      <td>1078030</td>\n",
       "      <td>Ark.</td>\n",
       "      <td>AR</td>\n",
       "      <td>2119578</td>\n",
       "      <td>38</td>\n",
       "      <td>23.0</td>\n",
       "      <td>15.0</td>\n",
       "    </tr>\n",
       "    <tr>\n",
       "      <th>4</th>\n",
       "      <td>California</td>\n",
       "      <td>12968614</td>\n",
       "      <td>12564306</td>\n",
       "      <td>Calif.</td>\n",
       "      <td>CA</td>\n",
       "      <td>25532920</td>\n",
       "      <td>372</td>\n",
       "      <td>215.0</td>\n",
       "      <td>157.0</td>\n",
       "    </tr>\n",
       "  </tbody>\n",
       "</table>\n",
       "</div>"
      ],
      "text/plain": [
       "        state     tot_m     tot_f  abbrev state_code  state_tot  md_tot  \\\n",
       "0     Alabama   1896942   2010096    Ala.         AL    3907038      97   \n",
       "1      Alaska    251993    281234  Alaska         AK     533227      30   \n",
       "2     Arizona   2502985   2475777   Ariz.         AZ    4978762     112   \n",
       "3    Arkansas   1041548   1078030    Ark.         AR    2119578      38   \n",
       "4  California  12968614  12564306  Calif.         CA   25532920     372   \n",
       "\n",
       "   md_male  md_female  \n",
       "0     74.0       23.0  \n",
       "1     18.0       12.0  \n",
       "2     70.0       42.0  \n",
       "3     23.0       15.0  \n",
       "4    215.0      157.0  "
      ]
     },
     "execution_count": 63,
     "metadata": {},
     "output_type": "execute_result"
    }
   ],
   "source": [
    "cols={'STATE':'state',\n",
    "         'MALE':'tot_m',\n",
    "         'FEMALE':'tot_f',\n",
    "         'ABBREV':'abbrev',\n",
    "         'CODE':'state_code',\n",
    "         'TOTAL':'state_tot',\n",
    "         'count':'md_tot',\n",
    "         'male':'md_male',\n",
    "         'female':'md_female'}\n",
    "states_drivers=states_drivers.rename(columns=cols)\n",
    "states_drivers.head()"
   ]
  },
  {
   "cell_type": "code",
   "execution_count": 64,
   "metadata": {},
   "outputs": [
    {
     "name": "stdout",
     "output_type": "stream",
     "text": [
      "<class 'pandas.core.frame.DataFrame'>\n",
      "RangeIndex: 48 entries, 0 to 47\n",
      "Data columns (total 9 columns):\n",
      " #   Column      Non-Null Count  Dtype  \n",
      "---  ------      --------------  -----  \n",
      " 0   state       48 non-null     object \n",
      " 1   tot_m       48 non-null     int32  \n",
      " 2   tot_f       48 non-null     int32  \n",
      " 3   abbrev      48 non-null     object \n",
      " 4   state_code  48 non-null     object \n",
      " 5   state_tot   48 non-null     int32  \n",
      " 6   md_tot      48 non-null     int64  \n",
      " 7   md_male     48 non-null     float64\n",
      " 8   md_female   48 non-null     float64\n",
      "dtypes: float64(2), int32(3), int64(1), object(3)\n",
      "memory usage: 2.9+ KB\n"
     ]
    }
   ],
   "source": [
    "states_drivers.info()"
   ]
  },
  {
   "cell_type": "markdown",
   "metadata": {},
   "source": [
    "The next step is to create normalized columns from the totals"
   ]
  },
  {
   "cell_type": "code",
   "execution_count": 65,
   "metadata": {},
   "outputs": [
    {
     "data": {
      "text/html": [
       "<div>\n",
       "<style scoped>\n",
       "    .dataframe tbody tr th:only-of-type {\n",
       "        vertical-align: middle;\n",
       "    }\n",
       "\n",
       "    .dataframe tbody tr th {\n",
       "        vertical-align: top;\n",
       "    }\n",
       "\n",
       "    .dataframe thead th {\n",
       "        text-align: right;\n",
       "    }\n",
       "</style>\n",
       "<table border=\"1\" class=\"dataframe\">\n",
       "  <thead>\n",
       "    <tr style=\"text-align: right;\">\n",
       "      <th></th>\n",
       "      <th>state</th>\n",
       "      <th>tot_m</th>\n",
       "      <th>tot_f</th>\n",
       "      <th>abbrev</th>\n",
       "      <th>state_code</th>\n",
       "      <th>state_tot</th>\n",
       "      <th>md_tot</th>\n",
       "      <th>md_male</th>\n",
       "      <th>md_female</th>\n",
       "      <th>tot_normalized</th>\n",
       "      <th>m_normalized</th>\n",
       "      <th>f_normalized</th>\n",
       "    </tr>\n",
       "  </thead>\n",
       "  <tbody>\n",
       "    <tr>\n",
       "      <th>0</th>\n",
       "      <td>Alabama</td>\n",
       "      <td>1896942</td>\n",
       "      <td>2010096</td>\n",
       "      <td>Ala.</td>\n",
       "      <td>AL</td>\n",
       "      <td>3907038</td>\n",
       "      <td>97</td>\n",
       "      <td>74.0</td>\n",
       "      <td>23.0</td>\n",
       "      <td>0.000025</td>\n",
       "      <td>0.000039</td>\n",
       "      <td>0.000011</td>\n",
       "    </tr>\n",
       "    <tr>\n",
       "      <th>1</th>\n",
       "      <td>Alaska</td>\n",
       "      <td>251993</td>\n",
       "      <td>281234</td>\n",
       "      <td>Alaska</td>\n",
       "      <td>AK</td>\n",
       "      <td>533227</td>\n",
       "      <td>30</td>\n",
       "      <td>18.0</td>\n",
       "      <td>12.0</td>\n",
       "      <td>0.000056</td>\n",
       "      <td>0.000071</td>\n",
       "      <td>0.000043</td>\n",
       "    </tr>\n",
       "    <tr>\n",
       "      <th>2</th>\n",
       "      <td>Arizona</td>\n",
       "      <td>2502985</td>\n",
       "      <td>2475777</td>\n",
       "      <td>Ariz.</td>\n",
       "      <td>AZ</td>\n",
       "      <td>4978762</td>\n",
       "      <td>112</td>\n",
       "      <td>70.0</td>\n",
       "      <td>42.0</td>\n",
       "      <td>0.000022</td>\n",
       "      <td>0.000028</td>\n",
       "      <td>0.000017</td>\n",
       "    </tr>\n",
       "    <tr>\n",
       "      <th>3</th>\n",
       "      <td>Arkansas</td>\n",
       "      <td>1041548</td>\n",
       "      <td>1078030</td>\n",
       "      <td>Ark.</td>\n",
       "      <td>AR</td>\n",
       "      <td>2119578</td>\n",
       "      <td>38</td>\n",
       "      <td>23.0</td>\n",
       "      <td>15.0</td>\n",
       "      <td>0.000018</td>\n",
       "      <td>0.000022</td>\n",
       "      <td>0.000014</td>\n",
       "    </tr>\n",
       "    <tr>\n",
       "      <th>4</th>\n",
       "      <td>California</td>\n",
       "      <td>12968614</td>\n",
       "      <td>12564306</td>\n",
       "      <td>Calif.</td>\n",
       "      <td>CA</td>\n",
       "      <td>25532920</td>\n",
       "      <td>372</td>\n",
       "      <td>215.0</td>\n",
       "      <td>157.0</td>\n",
       "      <td>0.000015</td>\n",
       "      <td>0.000017</td>\n",
       "      <td>0.000012</td>\n",
       "    </tr>\n",
       "  </tbody>\n",
       "</table>\n",
       "</div>"
      ],
      "text/plain": [
       "        state     tot_m     tot_f  abbrev state_code  state_tot  md_tot  \\\n",
       "0     Alabama   1896942   2010096    Ala.         AL    3907038      97   \n",
       "1      Alaska    251993    281234  Alaska         AK     533227      30   \n",
       "2     Arizona   2502985   2475777   Ariz.         AZ    4978762     112   \n",
       "3    Arkansas   1041548   1078030    Ark.         AR    2119578      38   \n",
       "4  California  12968614  12564306  Calif.         CA   25532920     372   \n",
       "\n",
       "   md_male  md_female  tot_normalized  m_normalized  f_normalized  \n",
       "0     74.0       23.0        0.000025      0.000039      0.000011  \n",
       "1     18.0       12.0        0.000056      0.000071      0.000043  \n",
       "2     70.0       42.0        0.000022      0.000028      0.000017  \n",
       "3     23.0       15.0        0.000018      0.000022      0.000014  \n",
       "4    215.0      157.0        0.000015      0.000017      0.000012  "
      ]
     },
     "execution_count": 65,
     "metadata": {},
     "output_type": "execute_result"
    }
   ],
   "source": [
    "states_drivers['tot_normalized']=states_drivers['md_tot']/states_drivers['state_tot']\n",
    "states_drivers['m_normalized']=states_drivers['md_male']/states_drivers['tot_m']\n",
    "states_drivers['f_normalized']=states_drivers['md_female']/states_drivers['tot_f']\n",
    "states_drivers.head()\n",
    "                                                                "
   ]
  },
  {
   "cell_type": "markdown",
   "metadata": {},
   "source": [
    "For clarity, let's select the columns we're interested so we can reference our final dataframe for this question."
   ]
  },
  {
   "cell_type": "code",
   "execution_count": 66,
   "metadata": {},
   "outputs": [
    {
     "data": {
      "text/html": [
       "<div>\n",
       "<style scoped>\n",
       "    .dataframe tbody tr th:only-of-type {\n",
       "        vertical-align: middle;\n",
       "    }\n",
       "\n",
       "    .dataframe tbody tr th {\n",
       "        vertical-align: top;\n",
       "    }\n",
       "\n",
       "    .dataframe thead th {\n",
       "        text-align: right;\n",
       "    }\n",
       "</style>\n",
       "<table border=\"1\" class=\"dataframe\">\n",
       "  <thead>\n",
       "    <tr style=\"text-align: right;\">\n",
       "      <th></th>\n",
       "      <th>state_code</th>\n",
       "      <th>md_tot</th>\n",
       "      <th>md_male</th>\n",
       "      <th>md_female</th>\n",
       "      <th>tot_normalized</th>\n",
       "      <th>m_normalized</th>\n",
       "      <th>f_normalized</th>\n",
       "    </tr>\n",
       "  </thead>\n",
       "  <tbody>\n",
       "    <tr>\n",
       "      <th>0</th>\n",
       "      <td>AL</td>\n",
       "      <td>97</td>\n",
       "      <td>74.0</td>\n",
       "      <td>23.0</td>\n",
       "      <td>0.000025</td>\n",
       "      <td>0.000039</td>\n",
       "      <td>0.000011</td>\n",
       "    </tr>\n",
       "    <tr>\n",
       "      <th>1</th>\n",
       "      <td>AK</td>\n",
       "      <td>30</td>\n",
       "      <td>18.0</td>\n",
       "      <td>12.0</td>\n",
       "      <td>0.000056</td>\n",
       "      <td>0.000071</td>\n",
       "      <td>0.000043</td>\n",
       "    </tr>\n",
       "    <tr>\n",
       "      <th>2</th>\n",
       "      <td>AZ</td>\n",
       "      <td>112</td>\n",
       "      <td>70.0</td>\n",
       "      <td>42.0</td>\n",
       "      <td>0.000022</td>\n",
       "      <td>0.000028</td>\n",
       "      <td>0.000017</td>\n",
       "    </tr>\n",
       "    <tr>\n",
       "      <th>3</th>\n",
       "      <td>AR</td>\n",
       "      <td>38</td>\n",
       "      <td>23.0</td>\n",
       "      <td>15.0</td>\n",
       "      <td>0.000018</td>\n",
       "      <td>0.000022</td>\n",
       "      <td>0.000014</td>\n",
       "    </tr>\n",
       "    <tr>\n",
       "      <th>4</th>\n",
       "      <td>CA</td>\n",
       "      <td>372</td>\n",
       "      <td>215.0</td>\n",
       "      <td>157.0</td>\n",
       "      <td>0.000015</td>\n",
       "      <td>0.000017</td>\n",
       "      <td>0.000012</td>\n",
       "    </tr>\n",
       "    <tr>\n",
       "      <th>5</th>\n",
       "      <td>CO</td>\n",
       "      <td>87</td>\n",
       "      <td>55.0</td>\n",
       "      <td>32.0</td>\n",
       "      <td>0.000022</td>\n",
       "      <td>0.000027</td>\n",
       "      <td>0.000017</td>\n",
       "    </tr>\n",
       "    <tr>\n",
       "      <th>6</th>\n",
       "      <td>CT</td>\n",
       "      <td>158</td>\n",
       "      <td>99.0</td>\n",
       "      <td>59.0</td>\n",
       "      <td>0.000062</td>\n",
       "      <td>0.000078</td>\n",
       "      <td>0.000045</td>\n",
       "    </tr>\n",
       "    <tr>\n",
       "      <th>7</th>\n",
       "      <td>DE</td>\n",
       "      <td>1812</td>\n",
       "      <td>1133.0</td>\n",
       "      <td>679.0</td>\n",
       "      <td>0.002440</td>\n",
       "      <td>0.003139</td>\n",
       "      <td>0.001779</td>\n",
       "    </tr>\n",
       "    <tr>\n",
       "      <th>8</th>\n",
       "      <td>FL</td>\n",
       "      <td>1129</td>\n",
       "      <td>737.0</td>\n",
       "      <td>392.0</td>\n",
       "      <td>0.000079</td>\n",
       "      <td>0.000105</td>\n",
       "      <td>0.000054</td>\n",
       "    </tr>\n",
       "    <tr>\n",
       "      <th>9</th>\n",
       "      <td>GA</td>\n",
       "      <td>387</td>\n",
       "      <td>245.0</td>\n",
       "      <td>142.0</td>\n",
       "      <td>0.000056</td>\n",
       "      <td>0.000074</td>\n",
       "      <td>0.000039</td>\n",
       "    </tr>\n",
       "    <tr>\n",
       "      <th>10</th>\n",
       "      <td>HI</td>\n",
       "      <td>23</td>\n",
       "      <td>13.0</td>\n",
       "      <td>10.0</td>\n",
       "      <td>0.000025</td>\n",
       "      <td>0.000028</td>\n",
       "      <td>0.000023</td>\n",
       "    </tr>\n",
       "    <tr>\n",
       "      <th>11</th>\n",
       "      <td>ID</td>\n",
       "      <td>19</td>\n",
       "      <td>13.0</td>\n",
       "      <td>6.0</td>\n",
       "      <td>0.000017</td>\n",
       "      <td>0.000023</td>\n",
       "      <td>0.000011</td>\n",
       "    </tr>\n",
       "    <tr>\n",
       "      <th>12</th>\n",
       "      <td>IL</td>\n",
       "      <td>157</td>\n",
       "      <td>109.0</td>\n",
       "      <td>48.0</td>\n",
       "      <td>0.000019</td>\n",
       "      <td>0.000026</td>\n",
       "      <td>0.000011</td>\n",
       "    </tr>\n",
       "    <tr>\n",
       "      <th>13</th>\n",
       "      <td>IN</td>\n",
       "      <td>88</td>\n",
       "      <td>58.0</td>\n",
       "      <td>30.0</td>\n",
       "      <td>0.000020</td>\n",
       "      <td>0.000026</td>\n",
       "      <td>0.000013</td>\n",
       "    </tr>\n",
       "    <tr>\n",
       "      <th>14</th>\n",
       "      <td>IA</td>\n",
       "      <td>34</td>\n",
       "      <td>24.0</td>\n",
       "      <td>10.0</td>\n",
       "      <td>0.000015</td>\n",
       "      <td>0.000022</td>\n",
       "      <td>0.000009</td>\n",
       "    </tr>\n",
       "    <tr>\n",
       "      <th>15</th>\n",
       "      <td>KS</td>\n",
       "      <td>39</td>\n",
       "      <td>28.0</td>\n",
       "      <td>11.0</td>\n",
       "      <td>0.000019</td>\n",
       "      <td>0.000028</td>\n",
       "      <td>0.000011</td>\n",
       "    </tr>\n",
       "    <tr>\n",
       "      <th>16</th>\n",
       "      <td>KY</td>\n",
       "      <td>74</td>\n",
       "      <td>49.0</td>\n",
       "      <td>25.0</td>\n",
       "      <td>0.000024</td>\n",
       "      <td>0.000033</td>\n",
       "      <td>0.000016</td>\n",
       "    </tr>\n",
       "    <tr>\n",
       "      <th>17</th>\n",
       "      <td>LA</td>\n",
       "      <td>96</td>\n",
       "      <td>66.0</td>\n",
       "      <td>30.0</td>\n",
       "      <td>0.000029</td>\n",
       "      <td>0.000041</td>\n",
       "      <td>0.000017</td>\n",
       "    </tr>\n",
       "    <tr>\n",
       "      <th>18</th>\n",
       "      <td>ME</td>\n",
       "      <td>89</td>\n",
       "      <td>62.0</td>\n",
       "      <td>27.0</td>\n",
       "      <td>0.000087</td>\n",
       "      <td>0.000123</td>\n",
       "      <td>0.000052</td>\n",
       "    </tr>\n",
       "    <tr>\n",
       "      <th>19</th>\n",
       "      <td>MA</td>\n",
       "      <td>614</td>\n",
       "      <td>375.0</td>\n",
       "      <td>239.0</td>\n",
       "      <td>0.000122</td>\n",
       "      <td>0.000152</td>\n",
       "      <td>0.000093</td>\n",
       "    </tr>\n",
       "    <tr>\n",
       "      <th>20</th>\n",
       "      <td>MI</td>\n",
       "      <td>171</td>\n",
       "      <td>105.0</td>\n",
       "      <td>66.0</td>\n",
       "      <td>0.000024</td>\n",
       "      <td>0.000030</td>\n",
       "      <td>0.000018</td>\n",
       "    </tr>\n",
       "    <tr>\n",
       "      <th>21</th>\n",
       "      <td>MN</td>\n",
       "      <td>38</td>\n",
       "      <td>24.0</td>\n",
       "      <td>14.0</td>\n",
       "      <td>0.000011</td>\n",
       "      <td>0.000014</td>\n",
       "      <td>0.000008</td>\n",
       "    </tr>\n",
       "    <tr>\n",
       "      <th>22</th>\n",
       "      <td>MS</td>\n",
       "      <td>52</td>\n",
       "      <td>31.0</td>\n",
       "      <td>21.0</td>\n",
       "      <td>0.000026</td>\n",
       "      <td>0.000033</td>\n",
       "      <td>0.000020</td>\n",
       "    </tr>\n",
       "    <tr>\n",
       "      <th>23</th>\n",
       "      <td>MO</td>\n",
       "      <td>55</td>\n",
       "      <td>34.0</td>\n",
       "      <td>21.0</td>\n",
       "      <td>0.000013</td>\n",
       "      <td>0.000017</td>\n",
       "      <td>0.000010</td>\n",
       "    </tr>\n",
       "    <tr>\n",
       "      <th>24</th>\n",
       "      <td>MT</td>\n",
       "      <td>12</td>\n",
       "      <td>8.0</td>\n",
       "      <td>4.0</td>\n",
       "      <td>0.000015</td>\n",
       "      <td>0.000020</td>\n",
       "      <td>0.000010</td>\n",
       "    </tr>\n",
       "    <tr>\n",
       "      <th>25</th>\n",
       "      <td>NE</td>\n",
       "      <td>14</td>\n",
       "      <td>10.0</td>\n",
       "      <td>4.0</td>\n",
       "      <td>0.000010</td>\n",
       "      <td>0.000014</td>\n",
       "      <td>0.000006</td>\n",
       "    </tr>\n",
       "    <tr>\n",
       "      <th>26</th>\n",
       "      <td>NV</td>\n",
       "      <td>44</td>\n",
       "      <td>27.0</td>\n",
       "      <td>17.0</td>\n",
       "      <td>0.000024</td>\n",
       "      <td>0.000029</td>\n",
       "      <td>0.000019</td>\n",
       "    </tr>\n",
       "    <tr>\n",
       "      <th>27</th>\n",
       "      <td>NH</td>\n",
       "      <td>35</td>\n",
       "      <td>27.0</td>\n",
       "      <td>8.0</td>\n",
       "      <td>0.000033</td>\n",
       "      <td>0.000050</td>\n",
       "      <td>0.000015</td>\n",
       "    </tr>\n",
       "    <tr>\n",
       "      <th>28</th>\n",
       "      <td>NJ</td>\n",
       "      <td>848</td>\n",
       "      <td>570.0</td>\n",
       "      <td>278.0</td>\n",
       "      <td>0.000137</td>\n",
       "      <td>0.000188</td>\n",
       "      <td>0.000088</td>\n",
       "    </tr>\n",
       "    <tr>\n",
       "      <th>29</th>\n",
       "      <td>NM</td>\n",
       "      <td>42</td>\n",
       "      <td>24.0</td>\n",
       "      <td>18.0</td>\n",
       "      <td>0.000029</td>\n",
       "      <td>0.000033</td>\n",
       "      <td>0.000024</td>\n",
       "    </tr>\n",
       "    <tr>\n",
       "      <th>30</th>\n",
       "      <td>NY</td>\n",
       "      <td>962</td>\n",
       "      <td>626.0</td>\n",
       "      <td>336.0</td>\n",
       "      <td>0.000082</td>\n",
       "      <td>0.000110</td>\n",
       "      <td>0.000056</td>\n",
       "    </tr>\n",
       "    <tr>\n",
       "      <th>31</th>\n",
       "      <td>NC</td>\n",
       "      <td>815</td>\n",
       "      <td>525.0</td>\n",
       "      <td>290.0</td>\n",
       "      <td>0.000114</td>\n",
       "      <td>0.000151</td>\n",
       "      <td>0.000079</td>\n",
       "    </tr>\n",
       "    <tr>\n",
       "      <th>32</th>\n",
       "      <td>ND</td>\n",
       "      <td>34</td>\n",
       "      <td>22.0</td>\n",
       "      <td>12.0</td>\n",
       "      <td>0.000062</td>\n",
       "      <td>0.000078</td>\n",
       "      <td>0.000046</td>\n",
       "    </tr>\n",
       "    <tr>\n",
       "      <th>33</th>\n",
       "      <td>OH</td>\n",
       "      <td>309</td>\n",
       "      <td>202.0</td>\n",
       "      <td>107.0</td>\n",
       "      <td>0.000039</td>\n",
       "      <td>0.000053</td>\n",
       "      <td>0.000026</td>\n",
       "    </tr>\n",
       "    <tr>\n",
       "      <th>34</th>\n",
       "      <td>OK</td>\n",
       "      <td>48</td>\n",
       "      <td>34.0</td>\n",
       "      <td>14.0</td>\n",
       "      <td>0.000018</td>\n",
       "      <td>0.000027</td>\n",
       "      <td>0.000010</td>\n",
       "    </tr>\n",
       "    <tr>\n",
       "      <th>35</th>\n",
       "      <td>OR</td>\n",
       "      <td>36</td>\n",
       "      <td>21.0</td>\n",
       "      <td>15.0</td>\n",
       "      <td>0.000013</td>\n",
       "      <td>0.000015</td>\n",
       "      <td>0.000011</td>\n",
       "    </tr>\n",
       "    <tr>\n",
       "      <th>36</th>\n",
       "      <td>PA</td>\n",
       "      <td>4321</td>\n",
       "      <td>2936.0</td>\n",
       "      <td>1385.0</td>\n",
       "      <td>0.000483</td>\n",
       "      <td>0.000662</td>\n",
       "      <td>0.000307</td>\n",
       "    </tr>\n",
       "    <tr>\n",
       "      <th>37</th>\n",
       "      <td>RI</td>\n",
       "      <td>31</td>\n",
       "      <td>21.0</td>\n",
       "      <td>10.0</td>\n",
       "      <td>0.000042</td>\n",
       "      <td>0.000058</td>\n",
       "      <td>0.000026</td>\n",
       "    </tr>\n",
       "    <tr>\n",
       "      <th>38</th>\n",
       "      <td>SC</td>\n",
       "      <td>283</td>\n",
       "      <td>182.0</td>\n",
       "      <td>101.0</td>\n",
       "      <td>0.000077</td>\n",
       "      <td>0.000103</td>\n",
       "      <td>0.000053</td>\n",
       "    </tr>\n",
       "    <tr>\n",
       "      <th>39</th>\n",
       "      <td>SD</td>\n",
       "      <td>14</td>\n",
       "      <td>9.0</td>\n",
       "      <td>5.0</td>\n",
       "      <td>0.000021</td>\n",
       "      <td>0.000027</td>\n",
       "      <td>0.000015</td>\n",
       "    </tr>\n",
       "    <tr>\n",
       "      <th>40</th>\n",
       "      <td>TN</td>\n",
       "      <td>169</td>\n",
       "      <td>118.0</td>\n",
       "      <td>51.0</td>\n",
       "      <td>0.000037</td>\n",
       "      <td>0.000053</td>\n",
       "      <td>0.000021</td>\n",
       "    </tr>\n",
       "    <tr>\n",
       "      <th>41</th>\n",
       "      <td>TX</td>\n",
       "      <td>448</td>\n",
       "      <td>297.0</td>\n",
       "      <td>151.0</td>\n",
       "      <td>0.000028</td>\n",
       "      <td>0.000038</td>\n",
       "      <td>0.000019</td>\n",
       "    </tr>\n",
       "    <tr>\n",
       "      <th>42</th>\n",
       "      <td>UT</td>\n",
       "      <td>48</td>\n",
       "      <td>29.0</td>\n",
       "      <td>19.0</td>\n",
       "      <td>0.000025</td>\n",
       "      <td>0.000030</td>\n",
       "      <td>0.000020</td>\n",
       "    </tr>\n",
       "    <tr>\n",
       "      <th>43</th>\n",
       "      <td>VT</td>\n",
       "      <td>25</td>\n",
       "      <td>20.0</td>\n",
       "      <td>5.0</td>\n",
       "      <td>0.000046</td>\n",
       "      <td>0.000073</td>\n",
       "      <td>0.000018</td>\n",
       "    </tr>\n",
       "    <tr>\n",
       "      <th>44</th>\n",
       "      <td>WA</td>\n",
       "      <td>116</td>\n",
       "      <td>74.0</td>\n",
       "      <td>42.0</td>\n",
       "      <td>0.000021</td>\n",
       "      <td>0.000026</td>\n",
       "      <td>0.000016</td>\n",
       "    </tr>\n",
       "    <tr>\n",
       "      <th>45</th>\n",
       "      <td>WV</td>\n",
       "      <td>1139</td>\n",
       "      <td>721.0</td>\n",
       "      <td>418.0</td>\n",
       "      <td>0.000976</td>\n",
       "      <td>0.001245</td>\n",
       "      <td>0.000711</td>\n",
       "    </tr>\n",
       "    <tr>\n",
       "      <th>46</th>\n",
       "      <td>WI</td>\n",
       "      <td>44</td>\n",
       "      <td>34.0</td>\n",
       "      <td>10.0</td>\n",
       "      <td>0.000010</td>\n",
       "      <td>0.000016</td>\n",
       "      <td>0.000005</td>\n",
       "    </tr>\n",
       "    <tr>\n",
       "      <th>47</th>\n",
       "      <td>WY</td>\n",
       "      <td>8</td>\n",
       "      <td>4.0</td>\n",
       "      <td>4.0</td>\n",
       "      <td>0.000019</td>\n",
       "      <td>0.000019</td>\n",
       "      <td>0.000019</td>\n",
       "    </tr>\n",
       "  </tbody>\n",
       "</table>\n",
       "</div>"
      ],
      "text/plain": [
       "   state_code  md_tot  md_male  md_female  tot_normalized  m_normalized  \\\n",
       "0          AL      97     74.0       23.0        0.000025      0.000039   \n",
       "1          AK      30     18.0       12.0        0.000056      0.000071   \n",
       "2          AZ     112     70.0       42.0        0.000022      0.000028   \n",
       "3          AR      38     23.0       15.0        0.000018      0.000022   \n",
       "4          CA     372    215.0      157.0        0.000015      0.000017   \n",
       "5          CO      87     55.0       32.0        0.000022      0.000027   \n",
       "6          CT     158     99.0       59.0        0.000062      0.000078   \n",
       "7          DE    1812   1133.0      679.0        0.002440      0.003139   \n",
       "8          FL    1129    737.0      392.0        0.000079      0.000105   \n",
       "9          GA     387    245.0      142.0        0.000056      0.000074   \n",
       "10         HI      23     13.0       10.0        0.000025      0.000028   \n",
       "11         ID      19     13.0        6.0        0.000017      0.000023   \n",
       "12         IL     157    109.0       48.0        0.000019      0.000026   \n",
       "13         IN      88     58.0       30.0        0.000020      0.000026   \n",
       "14         IA      34     24.0       10.0        0.000015      0.000022   \n",
       "15         KS      39     28.0       11.0        0.000019      0.000028   \n",
       "16         KY      74     49.0       25.0        0.000024      0.000033   \n",
       "17         LA      96     66.0       30.0        0.000029      0.000041   \n",
       "18         ME      89     62.0       27.0        0.000087      0.000123   \n",
       "19         MA     614    375.0      239.0        0.000122      0.000152   \n",
       "20         MI     171    105.0       66.0        0.000024      0.000030   \n",
       "21         MN      38     24.0       14.0        0.000011      0.000014   \n",
       "22         MS      52     31.0       21.0        0.000026      0.000033   \n",
       "23         MO      55     34.0       21.0        0.000013      0.000017   \n",
       "24         MT      12      8.0        4.0        0.000015      0.000020   \n",
       "25         NE      14     10.0        4.0        0.000010      0.000014   \n",
       "26         NV      44     27.0       17.0        0.000024      0.000029   \n",
       "27         NH      35     27.0        8.0        0.000033      0.000050   \n",
       "28         NJ     848    570.0      278.0        0.000137      0.000188   \n",
       "29         NM      42     24.0       18.0        0.000029      0.000033   \n",
       "30         NY     962    626.0      336.0        0.000082      0.000110   \n",
       "31         NC     815    525.0      290.0        0.000114      0.000151   \n",
       "32         ND      34     22.0       12.0        0.000062      0.000078   \n",
       "33         OH     309    202.0      107.0        0.000039      0.000053   \n",
       "34         OK      48     34.0       14.0        0.000018      0.000027   \n",
       "35         OR      36     21.0       15.0        0.000013      0.000015   \n",
       "36         PA    4321   2936.0     1385.0        0.000483      0.000662   \n",
       "37         RI      31     21.0       10.0        0.000042      0.000058   \n",
       "38         SC     283    182.0      101.0        0.000077      0.000103   \n",
       "39         SD      14      9.0        5.0        0.000021      0.000027   \n",
       "40         TN     169    118.0       51.0        0.000037      0.000053   \n",
       "41         TX     448    297.0      151.0        0.000028      0.000038   \n",
       "42         UT      48     29.0       19.0        0.000025      0.000030   \n",
       "43         VT      25     20.0        5.0        0.000046      0.000073   \n",
       "44         WA     116     74.0       42.0        0.000021      0.000026   \n",
       "45         WV    1139    721.0      418.0        0.000976      0.001245   \n",
       "46         WI      44     34.0       10.0        0.000010      0.000016   \n",
       "47         WY       8      4.0        4.0        0.000019      0.000019   \n",
       "\n",
       "    f_normalized  \n",
       "0       0.000011  \n",
       "1       0.000043  \n",
       "2       0.000017  \n",
       "3       0.000014  \n",
       "4       0.000012  \n",
       "5       0.000017  \n",
       "6       0.000045  \n",
       "7       0.001779  \n",
       "8       0.000054  \n",
       "9       0.000039  \n",
       "10      0.000023  \n",
       "11      0.000011  \n",
       "12      0.000011  \n",
       "13      0.000013  \n",
       "14      0.000009  \n",
       "15      0.000011  \n",
       "16      0.000016  \n",
       "17      0.000017  \n",
       "18      0.000052  \n",
       "19      0.000093  \n",
       "20      0.000018  \n",
       "21      0.000008  \n",
       "22      0.000020  \n",
       "23      0.000010  \n",
       "24      0.000010  \n",
       "25      0.000006  \n",
       "26      0.000019  \n",
       "27      0.000015  \n",
       "28      0.000088  \n",
       "29      0.000024  \n",
       "30      0.000056  \n",
       "31      0.000079  \n",
       "32      0.000046  \n",
       "33      0.000026  \n",
       "34      0.000010  \n",
       "35      0.000011  \n",
       "36      0.000307  \n",
       "37      0.000026  \n",
       "38      0.000053  \n",
       "39      0.000015  \n",
       "40      0.000021  \n",
       "41      0.000019  \n",
       "42      0.000020  \n",
       "43      0.000018  \n",
       "44      0.000016  \n",
       "45      0.000711  \n",
       "46      0.000005  \n",
       "47      0.000019  "
      ]
     },
     "execution_count": 66,
     "metadata": {},
     "output_type": "execute_result"
    }
   ],
   "source": [
    "state_gender_stats=states_drivers[['state_code','md_tot','md_male','md_female','tot_normalized','m_normalized','f_normalized']].copy()\n",
    "state_gender_stats"
   ]
  },
  {
   "cell_type": "markdown",
   "metadata": {},
   "source": [
    "## Question 8"
   ]
  },
  {
   "cell_type": "markdown",
   "metadata": {},
   "source": [
    "In this question, we need to analyze times and dates\n",
    "\n",
    ">a. On which day of the week (Monday through Sunday) do the most of the crashes happen?\r\n",
    "b. On which hour of the day (00 - 24) do the most of the crashes happen?"
   ]
  },
  {
   "cell_type": "markdown",
   "metadata": {},
   "source": [
    "| Info Needed                       |   Question | Dataset                    | Column              |\n",
    "|:----------------------------------|:----------:|:--------------------------:|:-------------------:|\n",
    "| Time of Accident                  |          8 | MD_Crash_Data_2017         | ACC_TIME            |\n",
    "| Date of Accident                  |          8 | MD_Crash_Data_2017         | ACC_DATE            |\n",
    "| Day of Week                       |          8 | MD_Crash_Data_2017         | ACC_DATE            |"
   ]
  },
  {
   "cell_type": "markdown",
   "metadata": {},
   "source": [
    "Let's begin by creating a new dataframe with the above columns along with unique report numbers"
   ]
  },
  {
   "cell_type": "code",
   "execution_count": 67,
   "metadata": {},
   "outputs": [
    {
     "name": "stdout",
     "output_type": "stream",
     "text": [
      "<class 'pandas.core.frame.DataFrame'>\n",
      "RangeIndex: 113192 entries, 0 to 113191\n",
      "Data columns (total 4 columns):\n",
      " #   Column     Non-Null Count   Dtype         \n",
      "---  ------     --------------   -----         \n",
      " 0   index      113192 non-null  int64         \n",
      " 1   REPORT_NO  113192 non-null  object        \n",
      " 2   ACC_DATE   113192 non-null  datetime64[ns]\n",
      " 3   ACC_TIME   113192 non-null  object        \n",
      "dtypes: datetime64[ns](1), int64(1), object(2)\n",
      "memory usage: 3.5+ MB\n"
     ]
    }
   ],
   "source": [
    "acc_times=MD_Crash_Data_2017[['REPORT_NO','ACC_DATE','ACC_TIME']].copy()\n",
    "acc_times.drop_duplicates('REPORT_NO',inplace=True)\n",
    "acc_times.reset_index(inplace=True)\n",
    "acc_times.info()"
   ]
  },
  {
   "cell_type": "code",
   "execution_count": 68,
   "metadata": {},
   "outputs": [
    {
     "data": {
      "text/plain": [
       "REPORT_NO\n",
       "BK02110007    1\n",
       "AC16340008    1\n",
       "DA31200007    1\n",
       "AE5442001Z    1\n",
       "AE50140029    1\n",
       "Name: count, dtype: int64"
      ]
     },
     "execution_count": 68,
     "metadata": {},
     "output_type": "execute_result"
    }
   ],
   "source": [
    "#Checking for duplicate report numbers, we want only unique report numbers, so crash data isn't counted more than once\n",
    "acc_times.REPORT_NO.value_counts().head()"
   ]
  },
  {
   "cell_type": "code",
   "execution_count": 69,
   "metadata": {},
   "outputs": [
    {
     "data": {
      "text/html": [
       "<div>\n",
       "<style scoped>\n",
       "    .dataframe tbody tr th:only-of-type {\n",
       "        vertical-align: middle;\n",
       "    }\n",
       "\n",
       "    .dataframe tbody tr th {\n",
       "        vertical-align: top;\n",
       "    }\n",
       "\n",
       "    .dataframe thead th {\n",
       "        text-align: right;\n",
       "    }\n",
       "</style>\n",
       "<table border=\"1\" class=\"dataframe\">\n",
       "  <thead>\n",
       "    <tr style=\"text-align: right;\">\n",
       "      <th></th>\n",
       "      <th>index</th>\n",
       "      <th>REPORT_NO</th>\n",
       "      <th>ACC_DATE</th>\n",
       "      <th>ACC_TIME</th>\n",
       "    </tr>\n",
       "  </thead>\n",
       "  <tbody>\n",
       "    <tr>\n",
       "      <th>0</th>\n",
       "      <td>0</td>\n",
       "      <td>BK02110007</td>\n",
       "      <td>2017-03-12</td>\n",
       "      <td>00:59:00</td>\n",
       "    </tr>\n",
       "    <tr>\n",
       "      <th>1</th>\n",
       "      <td>1</td>\n",
       "      <td>MCP2964000H</td>\n",
       "      <td>2017-02-09</td>\n",
       "      <td>16:08:00</td>\n",
       "    </tr>\n",
       "    <tr>\n",
       "      <th>2</th>\n",
       "      <td>2</td>\n",
       "      <td>CP0138000K</td>\n",
       "      <td>2017-03-03</td>\n",
       "      <td>08:00:00</td>\n",
       "    </tr>\n",
       "    <tr>\n",
       "      <th>3</th>\n",
       "      <td>3</td>\n",
       "      <td>DE3160001J</td>\n",
       "      <td>2017-01-09</td>\n",
       "      <td>16:14:00</td>\n",
       "    </tr>\n",
       "    <tr>\n",
       "      <th>4</th>\n",
       "      <td>4</td>\n",
       "      <td>MCP2195000B</td>\n",
       "      <td>2017-03-22</td>\n",
       "      <td>05:34:00</td>\n",
       "    </tr>\n",
       "  </tbody>\n",
       "</table>\n",
       "</div>"
      ],
      "text/plain": [
       "   index    REPORT_NO   ACC_DATE  ACC_TIME\n",
       "0      0   BK02110007 2017-03-12  00:59:00\n",
       "1      1  MCP2964000H 2017-02-09  16:08:00\n",
       "2      2   CP0138000K 2017-03-03  08:00:00\n",
       "3      3   DE3160001J 2017-01-09  16:14:00\n",
       "4      4  MCP2195000B 2017-03-22  05:34:00"
      ]
     },
     "execution_count": 69,
     "metadata": {},
     "output_type": "execute_result"
    }
   ],
   "source": [
    "acc_times.head()"
   ]
  },
  {
   "cell_type": "markdown",
   "metadata": {},
   "source": [
    "Let's create a new column that combines both the accident date and accident time, then convert it to a single datetime object for our analysis"
   ]
  },
  {
   "cell_type": "code",
   "execution_count": 70,
   "metadata": {},
   "outputs": [
    {
     "name": "stdout",
     "output_type": "stream",
     "text": [
      "<class 'pandas.core.frame.DataFrame'>\n",
      "RangeIndex: 113192 entries, 0 to 113191\n",
      "Data columns (total 4 columns):\n",
      " #   Column     Non-Null Count   Dtype \n",
      "---  ------     --------------   ----- \n",
      " 0   index      113192 non-null  int64 \n",
      " 1   REPORT_NO  113192 non-null  object\n",
      " 2   ACC_DATE   113192 non-null  object\n",
      " 3   ACC_TIME   113192 non-null  object\n",
      "dtypes: int64(1), object(3)\n",
      "memory usage: 3.5+ MB\n"
     ]
    }
   ],
   "source": [
    "acc_times['ACC_DATE']=acc_times['ACC_DATE'].astype(str)\n",
    "acc_times['ACC_TIME']=acc_times['ACC_TIME'].astype(str)\n",
    "acc_times.info()"
   ]
  },
  {
   "cell_type": "markdown",
   "metadata": {},
   "source": [
    "We converted both of our columns to strings, next we'll concatenate the strings into the new column `date_and_time`"
   ]
  },
  {
   "cell_type": "code",
   "execution_count": 71,
   "metadata": {},
   "outputs": [],
   "source": [
    "acc_times['date_and_time']=acc_times['ACC_DATE'] + ' ' + acc_times['ACC_TIME']"
   ]
  },
  {
   "cell_type": "code",
   "execution_count": 72,
   "metadata": {},
   "outputs": [
    {
     "data": {
      "text/html": [
       "<div>\n",
       "<style scoped>\n",
       "    .dataframe tbody tr th:only-of-type {\n",
       "        vertical-align: middle;\n",
       "    }\n",
       "\n",
       "    .dataframe tbody tr th {\n",
       "        vertical-align: top;\n",
       "    }\n",
       "\n",
       "    .dataframe thead th {\n",
       "        text-align: right;\n",
       "    }\n",
       "</style>\n",
       "<table border=\"1\" class=\"dataframe\">\n",
       "  <thead>\n",
       "    <tr style=\"text-align: right;\">\n",
       "      <th></th>\n",
       "      <th>index</th>\n",
       "      <th>REPORT_NO</th>\n",
       "      <th>ACC_DATE</th>\n",
       "      <th>ACC_TIME</th>\n",
       "      <th>date_and_time</th>\n",
       "    </tr>\n",
       "  </thead>\n",
       "  <tbody>\n",
       "    <tr>\n",
       "      <th>0</th>\n",
       "      <td>0</td>\n",
       "      <td>BK02110007</td>\n",
       "      <td>2017-03-12</td>\n",
       "      <td>00:59:00</td>\n",
       "      <td>2017-03-12 00:59:00</td>\n",
       "    </tr>\n",
       "    <tr>\n",
       "      <th>1</th>\n",
       "      <td>1</td>\n",
       "      <td>MCP2964000H</td>\n",
       "      <td>2017-02-09</td>\n",
       "      <td>16:08:00</td>\n",
       "      <td>2017-02-09 16:08:00</td>\n",
       "    </tr>\n",
       "    <tr>\n",
       "      <th>2</th>\n",
       "      <td>2</td>\n",
       "      <td>CP0138000K</td>\n",
       "      <td>2017-03-03</td>\n",
       "      <td>08:00:00</td>\n",
       "      <td>2017-03-03 08:00:00</td>\n",
       "    </tr>\n",
       "    <tr>\n",
       "      <th>3</th>\n",
       "      <td>3</td>\n",
       "      <td>DE3160001J</td>\n",
       "      <td>2017-01-09</td>\n",
       "      <td>16:14:00</td>\n",
       "      <td>2017-01-09 16:14:00</td>\n",
       "    </tr>\n",
       "    <tr>\n",
       "      <th>4</th>\n",
       "      <td>4</td>\n",
       "      <td>MCP2195000B</td>\n",
       "      <td>2017-03-22</td>\n",
       "      <td>05:34:00</td>\n",
       "      <td>2017-03-22 05:34:00</td>\n",
       "    </tr>\n",
       "  </tbody>\n",
       "</table>\n",
       "</div>"
      ],
      "text/plain": [
       "   index    REPORT_NO    ACC_DATE  ACC_TIME        date_and_time\n",
       "0      0   BK02110007  2017-03-12  00:59:00  2017-03-12 00:59:00\n",
       "1      1  MCP2964000H  2017-02-09  16:08:00  2017-02-09 16:08:00\n",
       "2      2   CP0138000K  2017-03-03  08:00:00  2017-03-03 08:00:00\n",
       "3      3   DE3160001J  2017-01-09  16:14:00  2017-01-09 16:14:00\n",
       "4      4  MCP2195000B  2017-03-22  05:34:00  2017-03-22 05:34:00"
      ]
     },
     "execution_count": 72,
     "metadata": {},
     "output_type": "execute_result"
    }
   ],
   "source": [
    "acc_times.head()"
   ]
  },
  {
   "cell_type": "code",
   "execution_count": 73,
   "metadata": {},
   "outputs": [
    {
     "name": "stdout",
     "output_type": "stream",
     "text": [
      "<class 'pandas.core.frame.DataFrame'>\n",
      "RangeIndex: 113192 entries, 0 to 113191\n",
      "Data columns (total 5 columns):\n",
      " #   Column         Non-Null Count   Dtype         \n",
      "---  ------         --------------   -----         \n",
      " 0   index          113192 non-null  int64         \n",
      " 1   REPORT_NO      113192 non-null  object        \n",
      " 2   ACC_DATE       113192 non-null  object        \n",
      " 3   ACC_TIME       113192 non-null  object        \n",
      " 4   date_and_time  113192 non-null  datetime64[ns]\n",
      "dtypes: datetime64[ns](1), int64(1), object(3)\n",
      "memory usage: 4.3+ MB\n"
     ]
    }
   ],
   "source": [
    "acc_times['date_and_time'] = pd.to_datetime(acc_times['date_and_time'], format = '%Y-%m-%d %H:%M:%S')\n",
    "acc_times.info()"
   ]
  },
  {
   "cell_type": "code",
   "execution_count": 74,
   "metadata": {},
   "outputs": [
    {
     "data": {
      "text/plain": [
       "count                           113192\n",
       "mean     2017-07-07 04:12:36.102198016\n",
       "min                2017-01-01 00:00:00\n",
       "25%                2017-04-09 14:11:30\n",
       "50%                2017-07-08 20:23:30\n",
       "75%                2017-10-07 16:42:30\n",
       "max                2017-12-31 23:52:00\n",
       "Name: date_and_time, dtype: object"
      ]
     },
     "execution_count": 74,
     "metadata": {},
     "output_type": "execute_result"
    }
   ],
   "source": [
    "acc_times['date_and_time'].describe()"
   ]
  },
  {
   "cell_type": "code",
   "execution_count": 75,
   "metadata": {},
   "outputs": [
    {
     "data": {
      "text/plain": [
       "<Axes: >"
      ]
     },
     "execution_count": 75,
     "metadata": {},
     "output_type": "execute_result"
    },
    {
     "data": {
      "image/png": "[encoded data removed]",
      "text/plain": [
       "<Figure size 640x480 with 1 Axes>"
      ]
     },
     "metadata": {},
     "output_type": "display_data"
    }
   ],
   "source": [
    "acc_times['date_and_time'].hist()"
   ]
  },
  {
   "cell_type": "markdown",
   "metadata": {},
   "source": [
    "Our first question is: _On which day of the week (Monday through Sunday) do the most of the crashes happen?_"
   ]
  },
  {
   "cell_type": "code",
   "execution_count": 76,
   "metadata": {},
   "outputs": [
    {
     "data": {
      "text/plain": [
       "date_and_time\n",
       "Friday       17957\n",
       "Thursday     16750\n",
       "Tuesday      16489\n",
       "Wednesday    16299\n",
       "Saturday     16172\n",
       "Monday       15756\n",
       "Sunday       13769\n",
       "Name: count, dtype: int64"
      ]
     },
     "execution_count": 76,
     "metadata": {},
     "output_type": "execute_result"
    }
   ],
   "source": [
    "acc_times['date_and_time'].dt.day_name().value_counts()"
   ]
  },
  {
   "cell_type": "markdown",
   "metadata": {},
   "source": [
    "It appears that Friday is the most common day of week that crashes occured"
   ]
  },
  {
   "cell_type": "markdown",
   "metadata": {},
   "source": [
    "the next part of the question is : _On which hour of the day (00 - 24) do the most of the crashes happen?_"
   ]
  },
  {
   "cell_type": "code",
   "execution_count": 77,
   "metadata": {},
   "outputs": [
    {
     "data": {
      "text/plain": [
       "<Axes: >"
      ]
     },
     "execution_count": 77,
     "metadata": {},
     "output_type": "execute_result"
    },
    {
     "data": {
      "image/png": "[encoded data removed]",
      "text/plain": [
       "<Figure size 640x480 with 1 Axes>"
      ]
     },
     "metadata": {},
     "output_type": "display_data"
    }
   ],
   "source": [
    "acc_times['date_and_time'].dt.hour.hist()"
   ]
  },
  {
   "cell_type": "code",
   "execution_count": 78,
   "metadata": {},
   "outputs": [
    {
     "data": {
      "text/plain": [
       "date_and_time\n",
       "17    8477\n",
       "16    8228\n",
       "15    7996\n",
       "18    7135\n",
       "14    6891\n",
       "12    6150\n",
       "13    5991\n",
       "8     5898\n",
       "19    5279\n",
       "11    5252\n",
       "9     5145\n",
       "7     4912\n",
       "10    4847\n",
       "20    4336\n",
       "21    4062\n",
       "22    3588\n",
       "6     3271\n",
       "23    3191\n",
       "0     2865\n",
       "1     2337\n",
       "2     2260\n",
       "5     1884\n",
       "3     1684\n",
       "4     1513\n",
       "Name: count, dtype: int64"
      ]
     },
     "execution_count": 78,
     "metadata": {},
     "output_type": "execute_result"
    }
   ],
   "source": [
    "acc_times['date_and_time'].dt.hour.value_counts()"
   ]
  },
  {
   "cell_type": "markdown",
   "metadata": {},
   "source": [
    "The most common hour for accidents is 5pm, which is reasonable when considering rush hour traffic"
   ]
  },
  {
   "cell_type": "markdown",
   "metadata": {},
   "source": [
    "## Question 9"
   ]
  },
  {
   "cell_type": "markdown",
   "metadata": {},
   "source": [
    "Let's review question 9: "
   ]
  },
  {
   "cell_type": "markdown",
   "metadata": {},
   "source": [
    ">a. What is the number of accidents that happened on rainy and clear/cloudy days? b. What is the ration of the number of accidents that happened on rainy days to the number of accidents happened on clear/cloudy days? c. Calculate the number of fatal accidents that occur by each light condition.\n",
    "\n",
    ">What does these statistics tell us?"
   ]
  },
  {
   "cell_type": "markdown",
   "metadata": {},
   "source": [
    "Again, let's review our reference table to determine where we can find our relevant data sources:"
   ]
  },
  {
   "cell_type": "markdown",
   "metadata": {},
   "source": [
    "| Info Needed                       |   Question | Dataset                    | Column              |\n",
    "|:----------------------------------|:----------:|:--------------------------:|:-------------------:|\n",
    "| Weather Condition                 |          9 | MD_Crash_Data_2017         | WEATHER_CODE        |\n",
    "| Light  Condition                            |          9 | MD_Crash_Data_2017         | LIGHT_CODE          |\n",
    "| Accident Fatality/Severity Rating |          9 | MD_Crash_Person_Data_2017  | INJ_SEVER_CODE      |"
   ]
  },
  {
   "cell_type": "code",
   "execution_count": 79,
   "metadata": {},
   "outputs": [
    {
     "data": {
      "text/html": [
       "<div>\n",
       "<style scoped>\n",
       "    .dataframe tbody tr th:only-of-type {\n",
       "        vertical-align: middle;\n",
       "    }\n",
       "\n",
       "    .dataframe tbody tr th {\n",
       "        vertical-align: top;\n",
       "    }\n",
       "\n",
       "    .dataframe thead th {\n",
       "        text-align: right;\n",
       "    }\n",
       "</style>\n",
       "<table border=\"1\" class=\"dataframe\">\n",
       "  <thead>\n",
       "    <tr style=\"text-align: right;\">\n",
       "      <th></th>\n",
       "      <th>REPORT_NO</th>\n",
       "      <th>WEATHER_CODE</th>\n",
       "      <th>LIGHT_CODE</th>\n",
       "    </tr>\n",
       "  </thead>\n",
       "  <tbody>\n",
       "    <tr>\n",
       "      <th>0</th>\n",
       "      <td>BK02110007</td>\n",
       "      <td>6.01</td>\n",
       "      <td>3.0</td>\n",
       "    </tr>\n",
       "    <tr>\n",
       "      <th>1</th>\n",
       "      <td>MCP2964000H</td>\n",
       "      <td>6.01</td>\n",
       "      <td>1.0</td>\n",
       "    </tr>\n",
       "    <tr>\n",
       "      <th>2</th>\n",
       "      <td>CP0138000K</td>\n",
       "      <td>6.01</td>\n",
       "      <td>1.0</td>\n",
       "    </tr>\n",
       "    <tr>\n",
       "      <th>3</th>\n",
       "      <td>DE3160001J</td>\n",
       "      <td>7.01</td>\n",
       "      <td>3.0</td>\n",
       "    </tr>\n",
       "    <tr>\n",
       "      <th>4</th>\n",
       "      <td>MCP2195000B</td>\n",
       "      <td>6.01</td>\n",
       "      <td>3.0</td>\n",
       "    </tr>\n",
       "  </tbody>\n",
       "</table>\n",
       "</div>"
      ],
      "text/plain": [
       "     REPORT_NO  WEATHER_CODE  LIGHT_CODE\n",
       "0   BK02110007          6.01         3.0\n",
       "1  MCP2964000H          6.01         1.0\n",
       "2   CP0138000K          6.01         1.0\n",
       "3   DE3160001J          7.01         3.0\n",
       "4  MCP2195000B          6.01         3.0"
      ]
     },
     "execution_count": 79,
     "metadata": {},
     "output_type": "execute_result"
    }
   ],
   "source": [
    "acc_weather = MD_Crash_Data_2017[['REPORT_NO','WEATHER_CODE','LIGHT_CODE']].copy()\n",
    "acc_weather.head()"
   ]
  },
  {
   "cell_type": "markdown",
   "metadata": {},
   "source": [
    "The reference material provides context for how our data is coded for both weather and light:"
   ]
  },
  {
   "attachments": {
    "7286b0aa-978b-47e8-8977-68655c5e30b4.png": {
     "image/png": "[encoded data removed]"
    },
    "f34dca3b-357c-4383-a0eb-8340214bf919.png": {
     "image/png": "[encoded data removed]"
    }
   },
   "cell_type": "markdown",
   "metadata": {},
   "source": [
    "![image.png](attachment:f34dca3b-357c-4383-a0eb-8340214bf919.png)  ![image.png](attachment:7286b0aa-978b-47e8-8977-68655c5e30b4.png)"
   ]
  },
  {
   "cell_type": "code",
   "execution_count": 80,
   "metadata": {},
   "outputs": [
    {
     "data": {
      "text/plain": [
       "WEATHER_CODE\n",
       "0.00     13347\n",
       "2.00       686\n",
       "3.00     13791\n",
       "5.00       145\n",
       "6.01     71746\n",
       "7.01     10169\n",
       "8.04      1470\n",
       "9.04       148\n",
       "10.04       96\n",
       "11.88        2\n",
       "12.04      329\n",
       "88.00      317\n",
       "99.00      946\n",
       "Name: count, dtype: int64"
      ]
     },
     "execution_count": 80,
     "metadata": {},
     "output_type": "execute_result"
    }
   ],
   "source": [
    "acc_weather['WEATHER_CODE'].value_counts().sort_index()"
   ]
  },
  {
   "cell_type": "code",
   "execution_count": 81,
   "metadata": {},
   "outputs": [
    {
     "data": {
      "text/plain": [
       "LIGHT_CODE\n",
       "0.00      1832\n",
       "1.00     68680\n",
       "3.00     25648\n",
       "4.00      8096\n",
       "5.02      2530\n",
       "6.02      2887\n",
       "7.88      1558\n",
       "88.00      332\n",
       "99.00     1629\n",
       "Name: count, dtype: int64"
      ]
     },
     "execution_count": 81,
     "metadata": {},
     "output_type": "execute_result"
    }
   ],
   "source": [
    "acc_weather['LIGHT_CODE'].value_counts().sort_index()"
   ]
  },
  {
   "cell_type": "markdown",
   "metadata": {},
   "source": [
    "According to our reference guide, values for `WEATHER_CODE` should only be in the range of 1-5. and light code should only contain values between 1-4. So this is an indication about errors in data collection. For the purpose of this question, we'll assume that a weather code of `00` will be equivelent to 'No inclimate weather detected' "
   ]
  },
  {
   "cell_type": "code",
   "execution_count": 82,
   "metadata": {},
   "outputs": [
    {
     "name": "stdout",
     "output_type": "stream",
     "text": [
      "<class 'pandas.core.frame.DataFrame'>\n",
      "RangeIndex: 25425 entries, 0 to 25424\n",
      "Data columns (total 3 columns):\n",
      " #   Column        Non-Null Count  Dtype  \n",
      "---  ------        --------------  -----  \n",
      " 0   REPORT_NO     25425 non-null  object \n",
      " 1   WEATHER_CODE  25425 non-null  float64\n",
      " 2   LIGHT_CODE    25425 non-null  float64\n",
      "dtypes: float64(2), object(1)\n",
      "memory usage: 596.0+ KB\n"
     ]
    }
   ],
   "source": [
    "acc_weather = acc_weather[(acc_weather['WEATHER_CODE'] >= 0) & (acc_weather['WEATHER_CODE'] <= 5)] \n",
    "acc_weather = acc_weather[(acc_weather['LIGHT_CODE'] >= 0) & (acc_weather['LIGHT_CODE'] <= 4)]\n",
    "acc_weather.reset_index(drop = True, inplace=True)\n",
    "acc_weather.info()"
   ]
  },
  {
   "cell_type": "markdown",
   "metadata": {},
   "source": [
    "_a. What is the number of accidents that happened on rainy and clear/cloudy days?_"
   ]
  },
  {
   "cell_type": "code",
   "execution_count": 83,
   "metadata": {},
   "outputs": [
    {
     "data": {
      "text/plain": [
       "WEATHER_CODE\n",
       "3.0    12715\n",
       "0.0    11994\n",
       "2.0      578\n",
       "5.0      138\n",
       "Name: count, dtype: int64"
      ]
     },
     "execution_count": 83,
     "metadata": {},
     "output_type": "execute_result"
    }
   ],
   "source": [
    "acc_weather.WEATHER_CODE.value_counts()"
   ]
  },
  {
   "cell_type": "markdown",
   "metadata": {},
   "source": [
    "Out of 25425 total crashes, 12715 of the crashes occured on rainy days (weather code 3). 11994 of the crashes occured on clear/cloudy days (weather code 0).\n"
   ]
  },
  {
   "cell_type": "markdown",
   "metadata": {},
   "source": [
    " _b. What is the ratio of the number of accidents that happened on rainy days to the number of accidents happened on clear/cloudy days?_"
   ]
  },
  {
   "cell_type": "code",
   "execution_count": 84,
   "metadata": {},
   "outputs": [
    {
     "data": {
      "text/plain": [
       "1.06"
      ]
     },
     "execution_count": 84,
     "metadata": {},
     "output_type": "execute_result"
    }
   ],
   "source": [
    "round(acc_weather.WEATHER_CODE.value_counts()[3]/acc_weather.WEATHER_CODE.value_counts()[0],2)"
   ]
  },
  {
   "cell_type": "markdown",
   "metadata": {},
   "source": [
    "The ratio of rainy day accidents to clear/cloudy day accidents is 1.06 , which means that rainy day and clear/cloudy accidents occured at roughly the same rate. "
   ]
  },
  {
   "cell_type": "markdown",
   "metadata": {},
   "source": [
    "the next part of our question is:\n",
    "\n",
    "_c. Calculate the number of fatal accidents that occur by each light condition._"
   ]
  },
  {
   "cell_type": "code",
   "execution_count": 85,
   "metadata": {},
   "outputs": [
    {
     "name": "stdout",
     "output_type": "stream",
     "text": [
      "<class 'pandas.core.frame.DataFrame'>\n",
      "RangeIndex: 57573 entries, 0 to 57572\n",
      "Data columns (total 4 columns):\n",
      " #   Column          Non-Null Count  Dtype  \n",
      "---  ------          --------------  -----  \n",
      " 0   REPORT_NO       57573 non-null  object \n",
      " 1   WEATHER_CODE    57573 non-null  float64\n",
      " 2   LIGHT_CODE      57573 non-null  float64\n",
      " 3   INJ_SEVER_CODE  57331 non-null  float64\n",
      "dtypes: float64(3), object(1)\n",
      "memory usage: 1.8+ MB\n"
     ]
    }
   ],
   "source": [
    "acc_injuries=acc_weather.merge(MD_Crash_Person_Data_2017[['REPORT_NO','INJ_SEVER_CODE']],\n",
    "                              on = 'REPORT_NO',\n",
    "                              how = 'left')\n",
    "acc_injuries.info()"
   ]
  },
  {
   "cell_type": "code",
   "execution_count": 86,
   "metadata": {},
   "outputs": [],
   "source": [
    "acc_injuries = acc_injuries[acc_injuries['INJ_SEVER_CODE'].notnull()]"
   ]
  },
  {
   "cell_type": "markdown",
   "metadata": {},
   "source": [
    "For reference, here's the codes for INJ_SEVER_CODE: "
   ]
  },
  {
   "attachments": {
    "dff2a438-ed4a-47ca-ba1d-65b6d94605d4.png": {
     "image/png": "[encoded data removed]"
    }
   },
   "cell_type": "markdown",
   "metadata": {},
   "source": [
    "![image.png](attachment:dff2a438-ed4a-47ca-ba1d-65b6d94605d4.png)"
   ]
  },
  {
   "cell_type": "code",
   "execution_count": 87,
   "metadata": {},
   "outputs": [
    {
     "data": {
      "text/plain": [
       "INJ_SEVER_CODE\n",
       "1.0    46324\n",
       "2.0     6857\n",
       "3.0     3497\n",
       "4.0      581\n",
       "5.0       72\n",
       "Name: count, dtype: int64"
      ]
     },
     "execution_count": 87,
     "metadata": {},
     "output_type": "execute_result"
    }
   ],
   "source": [
    "acc_injuries['INJ_SEVER_CODE'].value_counts()"
   ]
  },
  {
   "cell_type": "code",
   "execution_count": 88,
   "metadata": {},
   "outputs": [
    {
     "data": {
      "text/plain": [
       "LIGHT_CODE\n",
       "1.0    31\n",
       "3.0    24\n",
       "4.0    16\n",
       "0.0     1\n",
       "Name: count, dtype: int64"
      ]
     },
     "execution_count": 88,
     "metadata": {},
     "output_type": "execute_result"
    }
   ],
   "source": [
    "fatal_acc = acc_injuries[acc_injuries['INJ_SEVER_CODE'] == 5].reset_index(drop=True)\n",
    "fatal_acc['LIGHT_CODE'].value_counts()"
   ]
  },
  {
   "cell_type": "markdown",
   "metadata": {},
   "source": [
    "According to our data, there were 40 fatal accidents that occured in dark conditions (light code 3 and 4) compared to daylight (light code 1) which had 31 fatal accidents."
   ]
  },
  {
   "cell_type": "markdown",
   "metadata": {},
   "source": [
    "_What do these statistics tell us?_"
   ]
  },
  {
   "cell_type": "markdown",
   "metadata": {},
   "source": [
    "According to our data, accidents occur at relatively the same rate between clear and cloudy days and fatal accidents are slightly more common in the dark compared to daylight. Due to the issues in coding for weather code and light code, I am hesitant to make any strong conclusions regarding this dataset when it comes to weather and light."
   ]
  },
  {
   "cell_type": "markdown",
   "metadata": {},
   "source": [
    "## Question 10"
   ]
  },
  {
   "cell_type": "markdown",
   "metadata": {},
   "source": [
    "_Use matplotlib and/or seaborn and show your talent in data visualization. You are free to visualize anything you want regarding this dataset._"
   ]
  },
  {
   "cell_type": "markdown",
   "metadata": {},
   "source": [
    "For our visualization, let's return to question 7 where we determined the number of drivers from each state who were involved in a MD crash. In our analysis, we created a column `tot_normalized` which was a ratio of drivers involved in a MD crash to the state's total drivers. This ratio can show _how likely a driver from a given state ends up in a Maryland crash_. \n",
    "\n",
    "Our goal is to create a heatmap that will help us visualize which states have a higher `tot_normalized` value. The drivers from those states are the ones we need to be wary of when driving in MD. "
   ]
  },
  {
   "cell_type": "markdown",
   "metadata": {},
   "source": [
    "### Geopandas\n",
    "\n",
    "[Geopandas](https://geopandas.org/en/stable/) is a library that allows for plotting of geospacial data. For our visualization, we'll use this library to create a heatmap in the shape of the United States.\n",
    "\n",
    "[Here's an article I used to help create this visualization](https://medium.com/@alex_44314/use-python-geopandas-to-make-a-us-map-with-alaska-and-hawaii-39a9f5c222c6)"
   ]
  },
  {
   "cell_type": "code",
   "execution_count": 89,
   "metadata": {},
   "outputs": [],
   "source": [
    "#installing and importing the geopandas library\n",
    "#pip install geopandas"
   ]
  },
  {
   "cell_type": "code",
   "execution_count": 90,
   "metadata": {},
   "outputs": [],
   "source": [
    "import geopandas"
   ]
  },
  {
   "cell_type": "markdown",
   "metadata": {},
   "source": [
    "Geopandas requires a `.shp` file in order to understand the shapes of terratories. Shape files are available to download from the [US Census Bureau](https://www.census.gov/geographies/mapping-files/time-series/geo/carto-boundary-file.html) website."
   ]
  },
  {
   "cell_type": "code",
   "execution_count": 91,
   "metadata": {
    "scrolled": true
   },
   "outputs": [
    {
     "data": {
      "text/plain": [
       "<Axes: >"
      ]
     },
     "execution_count": 91,
     "metadata": {},
     "output_type": "execute_result"
    },
    {
     "data": {
      "image/png": "[encoded data removed]",
      "text/plain": [
       "<Figure size 640x480 with 1 Axes>"
      ]
     },
     "metadata": {},
     "output_type": "display_data"
    }
   ],
   "source": [
    "states = geopandas.read_file(r\"C:\\Users\\peted\\OneDrive\\Documents\\Data\\DATA 601\\Projects\\Project 1\\input_data\\geodata\\cb_2018_us_state_20m.shp\")\n",
    "states.plot()"
   ]
  },
  {
   "cell_type": "markdown",
   "metadata": {},
   "source": [
    "Geopandas creates an object that's similar to a DataFrame called a GeoDataFrame where we can include our data from question 7."
   ]
  },
  {
   "cell_type": "code",
   "execution_count": 92,
   "metadata": {},
   "outputs": [
    {
     "data": {
      "text/html": [
       "<div>\n",
       "<style scoped>\n",
       "    .dataframe tbody tr th:only-of-type {\n",
       "        vertical-align: middle;\n",
       "    }\n",
       "\n",
       "    .dataframe tbody tr th {\n",
       "        vertical-align: top;\n",
       "    }\n",
       "\n",
       "    .dataframe thead th {\n",
       "        text-align: right;\n",
       "    }\n",
       "</style>\n",
       "<table border=\"1\" class=\"dataframe\">\n",
       "  <thead>\n",
       "    <tr style=\"text-align: right;\">\n",
       "      <th></th>\n",
       "      <th>STATEFP</th>\n",
       "      <th>STATENS</th>\n",
       "      <th>AFFGEOID</th>\n",
       "      <th>GEOID</th>\n",
       "      <th>STUSPS</th>\n",
       "      <th>NAME</th>\n",
       "      <th>LSAD</th>\n",
       "      <th>ALAND</th>\n",
       "      <th>AWATER</th>\n",
       "      <th>geometry</th>\n",
       "    </tr>\n",
       "  </thead>\n",
       "  <tbody>\n",
       "    <tr>\n",
       "      <th>0</th>\n",
       "      <td>24</td>\n",
       "      <td>01714934</td>\n",
       "      <td>0400000US24</td>\n",
       "      <td>24</td>\n",
       "      <td>MD</td>\n",
       "      <td>Maryland</td>\n",
       "      <td>00</td>\n",
       "      <td>25151100280</td>\n",
       "      <td>6979966958</td>\n",
       "      <td>MULTIPOLYGON (((-76.04621 38.02553, -76.00734 ...</td>\n",
       "    </tr>\n",
       "    <tr>\n",
       "      <th>1</th>\n",
       "      <td>19</td>\n",
       "      <td>01779785</td>\n",
       "      <td>0400000US19</td>\n",
       "      <td>19</td>\n",
       "      <td>IA</td>\n",
       "      <td>Iowa</td>\n",
       "      <td>00</td>\n",
       "      <td>144661267977</td>\n",
       "      <td>1084180812</td>\n",
       "      <td>POLYGON ((-96.62187 42.77926, -96.57794 42.827...</td>\n",
       "    </tr>\n",
       "    <tr>\n",
       "      <th>2</th>\n",
       "      <td>10</td>\n",
       "      <td>01779781</td>\n",
       "      <td>0400000US10</td>\n",
       "      <td>10</td>\n",
       "      <td>DE</td>\n",
       "      <td>Delaware</td>\n",
       "      <td>00</td>\n",
       "      <td>5045925646</td>\n",
       "      <td>1399985648</td>\n",
       "      <td>POLYGON ((-75.77379 39.7222, -75.75323 39.7579...</td>\n",
       "    </tr>\n",
       "    <tr>\n",
       "      <th>3</th>\n",
       "      <td>39</td>\n",
       "      <td>01085497</td>\n",
       "      <td>0400000US39</td>\n",
       "      <td>39</td>\n",
       "      <td>OH</td>\n",
       "      <td>Ohio</td>\n",
       "      <td>00</td>\n",
       "      <td>105828882568</td>\n",
       "      <td>10268850702</td>\n",
       "      <td>MULTIPOLYGON (((-82.86334 41.69369, -82.82572 ...</td>\n",
       "    </tr>\n",
       "    <tr>\n",
       "      <th>4</th>\n",
       "      <td>42</td>\n",
       "      <td>01779798</td>\n",
       "      <td>0400000US42</td>\n",
       "      <td>42</td>\n",
       "      <td>PA</td>\n",
       "      <td>Pennsylvania</td>\n",
       "      <td>00</td>\n",
       "      <td>115884442321</td>\n",
       "      <td>3394589990</td>\n",
       "      <td>POLYGON ((-80.51989 40.90666, -80.51964 40.987...</td>\n",
       "    </tr>\n",
       "  </tbody>\n",
       "</table>\n",
       "</div>"
      ],
      "text/plain": [
       "  STATEFP   STATENS     AFFGEOID GEOID STUSPS          NAME LSAD  \\\n",
       "0      24  01714934  0400000US24    24     MD      Maryland   00   \n",
       "1      19  01779785  0400000US19    19     IA          Iowa   00   \n",
       "2      10  01779781  0400000US10    10     DE      Delaware   00   \n",
       "3      39  01085497  0400000US39    39     OH          Ohio   00   \n",
       "4      42  01779798  0400000US42    42     PA  Pennsylvania   00   \n",
       "\n",
       "          ALAND       AWATER  \\\n",
       "0   25151100280   6979966958   \n",
       "1  144661267977   1084180812   \n",
       "2    5045925646   1399985648   \n",
       "3  105828882568  10268850702   \n",
       "4  115884442321   3394589990   \n",
       "\n",
       "                                            geometry  \n",
       "0  MULTIPOLYGON (((-76.04621 38.02553, -76.00734 ...  \n",
       "1  POLYGON ((-96.62187 42.77926, -96.57794 42.827...  \n",
       "2  POLYGON ((-75.77379 39.7222, -75.75323 39.7579...  \n",
       "3  MULTIPOLYGON (((-82.86334 41.69369, -82.82572 ...  \n",
       "4  POLYGON ((-80.51989 40.90666, -80.51964 40.987...  "
      ]
     },
     "execution_count": 92,
     "metadata": {},
     "output_type": "execute_result"
    }
   ],
   "source": [
    "states.head()"
   ]
  },
  {
   "cell_type": "markdown",
   "metadata": {},
   "source": [
    "Since we excluded data from MD, VA, and DC from our analysis before, let's re-incorporate that data into our visualization"
   ]
  },
  {
   "cell_type": "code",
   "execution_count": 93,
   "metadata": {},
   "outputs": [
    {
     "data": {
      "text/html": [
       "<div>\n",
       "<style scoped>\n",
       "    .dataframe tbody tr th:only-of-type {\n",
       "        vertical-align: middle;\n",
       "    }\n",
       "\n",
       "    .dataframe tbody tr th {\n",
       "        vertical-align: top;\n",
       "    }\n",
       "\n",
       "    .dataframe thead th {\n",
       "        text-align: right;\n",
       "    }\n",
       "</style>\n",
       "<table border=\"1\" class=\"dataframe\">\n",
       "  <thead>\n",
       "    <tr style=\"text-align: right;\">\n",
       "      <th></th>\n",
       "      <th>state_code</th>\n",
       "      <th>md_tot</th>\n",
       "      <th>state_tot</th>\n",
       "      <th>tot_normalized</th>\n",
       "    </tr>\n",
       "  </thead>\n",
       "  <tbody>\n",
       "    <tr>\n",
       "      <th>0</th>\n",
       "      <td>MD</td>\n",
       "      <td>151781</td>\n",
       "      <td>4185752</td>\n",
       "      <td>0.036261</td>\n",
       "    </tr>\n",
       "    <tr>\n",
       "      <th>1</th>\n",
       "      <td>VA</td>\n",
       "      <td>4964</td>\n",
       "      <td>5820209</td>\n",
       "      <td>0.000853</td>\n",
       "    </tr>\n",
       "    <tr>\n",
       "      <th>2</th>\n",
       "      <td>DC</td>\n",
       "      <td>3696</td>\n",
       "      <td>455602</td>\n",
       "      <td>0.008112</td>\n",
       "    </tr>\n",
       "  </tbody>\n",
       "</table>\n",
       "</div>"
      ],
      "text/plain": [
       "  state_code  md_tot  state_tot  tot_normalized\n",
       "0         MD  151781    4185752        0.036261\n",
       "1         VA    4964    5820209        0.000853\n",
       "2         DC    3696     455602        0.008112"
      ]
     },
     "execution_count": 93,
     "metadata": {},
     "output_type": "execute_result"
    }
   ],
   "source": [
    "dmv = pd.DataFrame(drivers[drivers['LICENSE_STATE_CODE'].isin(['MD','VA','DC'])]['LICENSE_STATE_CODE'].value_counts())\n",
    "dmv.reset_index(inplace = True)\n",
    "dmv['tot_drivers'] = [4185752,5820209,455602]\n",
    "dmv['tot_normalized'] = dmv['count']/dmv['tot_drivers']\n",
    "dmv = dmv.rename(columns={'LICENSE_STATE_CODE':'state_code','tot_drivers':'state_tot','count':'md_tot'})\n",
    "dmv"
   ]
  },
  {
   "cell_type": "code",
   "execution_count": 94,
   "metadata": {},
   "outputs": [],
   "source": [
    "#Adding DC,MD,VA data into our states_drivers dataframe from before\n",
    "states_drivers=pd.concat([states_drivers,dmv], axis=0)"
   ]
  },
  {
   "cell_type": "markdown",
   "metadata": {},
   "source": [
    "We'll now join our states_drivers data into our `states` GeoDateFrame"
   ]
  },
  {
   "cell_type": "code",
   "execution_count": 95,
   "metadata": {},
   "outputs": [],
   "source": [
    "states = states.merge(states_drivers[['state_code','tot_normalized']], left_on='STUSPS', right_on='state_code')"
   ]
  },
  {
   "cell_type": "code",
   "execution_count": 96,
   "metadata": {},
   "outputs": [
    {
     "data": {
      "text/html": [
       "<div>\n",
       "<style scoped>\n",
       "    .dataframe tbody tr th:only-of-type {\n",
       "        vertical-align: middle;\n",
       "    }\n",
       "\n",
       "    .dataframe tbody tr th {\n",
       "        vertical-align: top;\n",
       "    }\n",
       "\n",
       "    .dataframe thead th {\n",
       "        text-align: right;\n",
       "    }\n",
       "</style>\n",
       "<table border=\"1\" class=\"dataframe\">\n",
       "  <thead>\n",
       "    <tr style=\"text-align: right;\">\n",
       "      <th></th>\n",
       "      <th>STATEFP</th>\n",
       "      <th>STATENS</th>\n",
       "      <th>AFFGEOID</th>\n",
       "      <th>GEOID</th>\n",
       "      <th>STUSPS</th>\n",
       "      <th>NAME</th>\n",
       "      <th>LSAD</th>\n",
       "      <th>ALAND</th>\n",
       "      <th>AWATER</th>\n",
       "      <th>geometry</th>\n",
       "      <th>state_code</th>\n",
       "      <th>tot_normalized</th>\n",
       "    </tr>\n",
       "  </thead>\n",
       "  <tbody>\n",
       "    <tr>\n",
       "      <th>0</th>\n",
       "      <td>24</td>\n",
       "      <td>01714934</td>\n",
       "      <td>0400000US24</td>\n",
       "      <td>24</td>\n",
       "      <td>MD</td>\n",
       "      <td>Maryland</td>\n",
       "      <td>00</td>\n",
       "      <td>25151100280</td>\n",
       "      <td>6979966958</td>\n",
       "      <td>MULTIPOLYGON (((-76.04621 38.02553, -76.00734 ...</td>\n",
       "      <td>MD</td>\n",
       "      <td>0.036261</td>\n",
       "    </tr>\n",
       "    <tr>\n",
       "      <th>1</th>\n",
       "      <td>19</td>\n",
       "      <td>01779785</td>\n",
       "      <td>0400000US19</td>\n",
       "      <td>19</td>\n",
       "      <td>IA</td>\n",
       "      <td>Iowa</td>\n",
       "      <td>00</td>\n",
       "      <td>144661267977</td>\n",
       "      <td>1084180812</td>\n",
       "      <td>POLYGON ((-96.62187 42.77926, -96.57794 42.827...</td>\n",
       "      <td>IA</td>\n",
       "      <td>0.000015</td>\n",
       "    </tr>\n",
       "    <tr>\n",
       "      <th>2</th>\n",
       "      <td>10</td>\n",
       "      <td>01779781</td>\n",
       "      <td>0400000US10</td>\n",
       "      <td>10</td>\n",
       "      <td>DE</td>\n",
       "      <td>Delaware</td>\n",
       "      <td>00</td>\n",
       "      <td>5045925646</td>\n",
       "      <td>1399985648</td>\n",
       "      <td>POLYGON ((-75.77379 39.7222, -75.75323 39.7579...</td>\n",
       "      <td>DE</td>\n",
       "      <td>0.002440</td>\n",
       "    </tr>\n",
       "    <tr>\n",
       "      <th>3</th>\n",
       "      <td>39</td>\n",
       "      <td>01085497</td>\n",
       "      <td>0400000US39</td>\n",
       "      <td>39</td>\n",
       "      <td>OH</td>\n",
       "      <td>Ohio</td>\n",
       "      <td>00</td>\n",
       "      <td>105828882568</td>\n",
       "      <td>10268850702</td>\n",
       "      <td>MULTIPOLYGON (((-82.86334 41.69369, -82.82572 ...</td>\n",
       "      <td>OH</td>\n",
       "      <td>0.000039</td>\n",
       "    </tr>\n",
       "    <tr>\n",
       "      <th>4</th>\n",
       "      <td>42</td>\n",
       "      <td>01779798</td>\n",
       "      <td>0400000US42</td>\n",
       "      <td>42</td>\n",
       "      <td>PA</td>\n",
       "      <td>Pennsylvania</td>\n",
       "      <td>00</td>\n",
       "      <td>115884442321</td>\n",
       "      <td>3394589990</td>\n",
       "      <td>POLYGON ((-80.51989 40.90666, -80.51964 40.987...</td>\n",
       "      <td>PA</td>\n",
       "      <td>0.000483</td>\n",
       "    </tr>\n",
       "  </tbody>\n",
       "</table>\n",
       "</div>"
      ],
      "text/plain": [
       "  STATEFP   STATENS     AFFGEOID GEOID STUSPS          NAME LSAD  \\\n",
       "0      24  01714934  0400000US24    24     MD      Maryland   00   \n",
       "1      19  01779785  0400000US19    19     IA          Iowa   00   \n",
       "2      10  01779781  0400000US10    10     DE      Delaware   00   \n",
       "3      39  01085497  0400000US39    39     OH          Ohio   00   \n",
       "4      42  01779798  0400000US42    42     PA  Pennsylvania   00   \n",
       "\n",
       "          ALAND       AWATER  \\\n",
       "0   25151100280   6979966958   \n",
       "1  144661267977   1084180812   \n",
       "2    5045925646   1399985648   \n",
       "3  105828882568  10268850702   \n",
       "4  115884442321   3394589990   \n",
       "\n",
       "                                            geometry state_code  \\\n",
       "0  MULTIPOLYGON (((-76.04621 38.02553, -76.00734 ...         MD   \n",
       "1  POLYGON ((-96.62187 42.77926, -96.57794 42.827...         IA   \n",
       "2  POLYGON ((-75.77379 39.7222, -75.75323 39.7579...         DE   \n",
       "3  MULTIPOLYGON (((-82.86334 41.69369, -82.82572 ...         OH   \n",
       "4  POLYGON ((-80.51989 40.90666, -80.51964 40.987...         PA   \n",
       "\n",
       "   tot_normalized  \n",
       "0        0.036261  \n",
       "1        0.000015  \n",
       "2        0.002440  \n",
       "3        0.000039  \n",
       "4        0.000483  "
      ]
     },
     "execution_count": 96,
     "metadata": {},
     "output_type": "execute_result"
    }
   ],
   "source": [
    "states.head()"
   ]
  },
  {
   "cell_type": "code",
   "execution_count": 97,
   "metadata": {},
   "outputs": [
    {
     "data": {
      "text/plain": [
       "count    51.000000\n",
       "mean      0.000997\n",
       "std       0.005173\n",
       "min       0.000010\n",
       "25%       0.000019\n",
       "50%       0.000026\n",
       "75%       0.000070\n",
       "max       0.036261\n",
       "Name: tot_normalized, dtype: float64"
      ]
     },
     "execution_count": 97,
     "metadata": {},
     "output_type": "execute_result"
    }
   ],
   "source": [
    "states['tot_normalized'].describe()"
   ]
  },
  {
   "cell_type": "code",
   "execution_count": 98,
   "metadata": {},
   "outputs": [
    {
     "data": {
      "text/plain": [
       "<Axes: >"
      ]
     },
     "execution_count": 98,
     "metadata": {},
     "output_type": "execute_result"
    },
    {
     "data": {
      "image/png": "[encoded data removed]",
      "text/plain": [
       "<Figure size 1600x1600 with 4 Axes>"
      ]
     },
     "metadata": {},
     "output_type": "display_data"
    }
   ],
   "source": [
    "fig, axs = plt.subplots(nrows = 3, ncols = 1, figsize=(16,16))\n",
    "\n",
    "ax1, ax2, ax3 = axs\n",
    "\n",
    "#Setting AK limits and location on figure\n",
    "ax1.set_xlim(-180,-128)\n",
    "ax1.set_ylim(50,72)\n",
    "ax1.set_position([0.3, 0.35, 0.10, 0.10])\n",
    "\n",
    "#Setting HI limits and location on figure\n",
    "ax3.set_position([0.4, 0.35, 0.08, 0.08])\n",
    "\n",
    "ax2.set_title(\"Percent of Total Drivers by State Involved in a MD Crash\\n 2017\")\n",
    "\n",
    "#turning x and y axis off\n",
    "for ax in axs:\n",
    "    ax.axis('off')\n",
    "\n",
    "#Creating a function to format our legend ticks using FuncFormatter\n",
    "def to_percent(x, pos):\n",
    "    return f\"{x * 100:.3f}%\"\n",
    "\n",
    "#plotting AK data\n",
    "states[states['STUSPS'] == 'AK'].plot(\n",
    "            column='tot_normalized',\n",
    "            cmap='inferno',\n",
    "            vmin=states['tot_normalized'].min(),\n",
    "            vmax=states['tot_normalized'].quantile(.88),\n",
    "            autolim=False,\n",
    "            ax=ax1\n",
    "            )\n",
    "\n",
    "#plotting lower 48 states data\n",
    "states[~states['STUSPS'].isin(['HI','AK'])].plot(\n",
    "            column='tot_normalized',\n",
    "            cmap='inferno',\n",
    "            vmin=states['tot_normalized'].min(),\n",
    "            vmax=states['tot_normalized'].quantile(.88),\n",
    "            autolim=True,\n",
    "            legend=True,\n",
    "            legend_kwds={'format':FuncFormatter(to_percent),\n",
    "                         'extend':'max'},\n",
    "            ax=ax2\n",
    "            )\n",
    "\n",
    "#plotting HI data\n",
    "states[states['STUSPS'] == 'HI'].plot(\n",
    "            column='tot_normalized',\n",
    "            cmap='inferno',\n",
    "            vmin=states['tot_normalized'].min(),\n",
    "            vmax=states['tot_normalized'].quantile(.88),\n",
    "            autolim=True,\n",
    "            ax=ax3\n",
    "            )\n",
    "\n",
    "\n"
   ]
  },
  {
   "cell_type": "markdown",
   "metadata": {},
   "source": [
    "Our visualization shows us that states bordering MD are more likely to be in a MD crash. Following that, the states along the atlantic also have a higher probability such as North Carolina and Massachusets. Interestingly Florida drivers have a higher probability of accidents compared to Georgia. North Dakota and Alaska also stand out, which is likely due to the low amount of total drivers from those states."
   ]
  },
  {
   "cell_type": "markdown",
   "metadata": {},
   "source": [
    "# NOTEBOOK END"
   ]
  },
  {
   "cell_type": "code",
   "execution_count": null,
   "metadata": {},
   "outputs": [],
   "source": []
  },
  {
   "cell_type": "code",
   "execution_count": null,
   "metadata": {},
   "outputs": [],
   "source": []
  },
  {
   "cell_type": "code",
   "execution_count": null,
   "metadata": {
    "id": "A_H1rO_6KCmR"
   },
   "outputs": [],
   "source": []
  }
 ],
 "metadata": {
  "colab": {
   "include_colab_link": true,
   "name": "DATA601_Project1.ipynb",
   "provenance": []
  },
  "kernelspec": {
   "display_name": "Python 3 (ipykernel)",
   "language": "python",
   "name": "python3"
  },
  "language_info": {
   "codemirror_mode": {
    "name": "ipython",
    "version": 3
   },
   "file_extension": ".py",
   "mimetype": "text/x-python",
   "name": "python",
   "nbconvert_exporter": "python",
   "pygments_lexer": "ipython3",
   "version": "3.12.4"
  }
 },
 "nbformat": 4,
 "nbformat_minor": 4
}
